{
  "nbformat": 4,
  "nbformat_minor": 0,
  "metadata": {
    "colab": {
      "name": "Week5_HW_오정헌.ipynb",
      "provenance": []
    },
    "kernelspec": {
      "name": "python3",
      "display_name": "Python 3"
    },
    "accelerator": "GPU"
  },
  "cells": [
    {
      "cell_type": "code",
      "metadata": {
        "id": "O0rgGEjmpqI-",
        "colab_type": "code",
        "colab": {}
      },
      "source": [
        "import numpy as np\n",
        "import pandas as pd\n",
        "import matplotlib.pyplot as plt\n",
        "import keras"
      ],
      "execution_count": 1,
      "outputs": []
    },
    {
      "cell_type": "code",
      "metadata": {
        "id": "sollV74orxYo",
        "colab_type": "code",
        "colab": {}
      },
      "source": [
        "from keras import layers\n",
        "from keras import models\n",
        "from keras.datasets import mnist\n",
        "from keras.utils import to_categorical\n",
        "from sklearn.model_selection import train_test_split\n",
        "\n",
        "(train_images, train_labels), (test_images, test_labels) = mnist.load_data()\n",
        "\n",
        "train_images = train_images.reshape((60000, 28, 28, 1))\n",
        "train_images = train_images.astype('float32') / 255\n",
        "\n",
        "test_images = test_images.reshape((10000, 28, 28, 1))\n",
        "test_images = test_images.astype('float32') / 255\n",
        "\n",
        "train_labels = to_categorical(train_labels)\n",
        "test_labels = to_categorical(test_labels)\n",
        "\n",
        "train_images, valid_images, train_labels, valid_labels = train_test_split(train_images,\n",
        "                                                                          train_labels, test_size=0.25, random_state=123)"
      ],
      "execution_count": 24,
      "outputs": []
    },
    {
      "cell_type": "code",
      "metadata": {
        "id": "rj0ResS2cPYB",
        "colab_type": "code",
        "colab": {}
      },
      "source": [
        "model = models.Sequential()\n",
        "model.add(layers.Conv2D(64, (3,3), padding='same', input_shape=(28, 28, 1)))\n",
        "model.add(layers.BatchNormalization())\n",
        "model.add(layers.Activation('relu'))\n",
        "\n",
        "model.add(layers.Conv2D(64, (3,3), padding='same'))\n",
        "model.add(layers.BatchNormalization())\n",
        "model.add(layers.Activation('relu'))\n",
        "\n",
        "model.add(layers.MaxPooling2D(2,2))\n",
        "\n",
        "model.add(layers.Conv2D(128, (3,3), padding='same'))\n",
        "model.add(layers.BatchNormalization())\n",
        "model.add(layers.Activation('relu'))\n",
        "\n",
        "model.add(layers.Conv2D(128, (3,3), padding='same'))\n",
        "model.add(layers.BatchNormalization())\n",
        "model.add(layers.Activation('relu'))\n",
        "\n",
        "model.add(layers.MaxPooling2D(2,2))\n",
        "\n",
        "model.add(layers.Conv2D(256, (3,3), padding='same'))\n",
        "model.add(layers.BatchNormalization())\n",
        "model.add(layers.Activation('relu'))\n",
        "\n",
        "model.add(layers.Conv2D(256, (3,3), padding='same'))\n",
        "model.add(layers.BatchNormalization())\n",
        "model.add(layers.Activation('relu'))\n",
        "\n",
        "model.add(layers.Conv2D(256, (3,3), padding='same'))\n",
        "model.add(layers.BatchNormalization())\n",
        "model.add(layers.Activation('relu'))\n",
        "\n",
        "model.add(layers.Conv2D(256, (3,3), padding='same'))\n",
        "model.add(layers.BatchNormalization())\n",
        "model.add(layers.Activation('relu'))\n",
        "\n",
        "model.add(layers.MaxPooling2D(2,2))\n",
        "\n",
        "model.add(layers.Conv2D(512, (3,3), padding='same'))\n",
        "model.add(layers.BatchNormalization())\n",
        "model.add(layers.Activation('relu'))\n",
        "\n",
        "model.add(layers.Conv2D(512, (3,3), padding='same'))\n",
        "model.add(layers.BatchNormalization())\n",
        "model.add(layers.Activation('relu'))\n",
        "\n",
        "model.add(layers.Conv2D(512, (3,3), padding='same'))\n",
        "model.add(layers.BatchNormalization())\n",
        "model.add(layers.Activation('relu'))\n",
        "\n",
        "model.add(layers.Conv2D(512, (3,3), padding='same'))\n",
        "model.add(layers.BatchNormalization())\n",
        "model.add(layers.Activation('relu'))\n",
        "\n",
        "model.add(layers.MaxPooling2D(2,2))\n",
        "\n",
        "model.add(layers.Flatten())\n",
        "model.add(layers.Dense(4096, activation = 'relu'))\n",
        "model.add(layers.Dropout(rate=0.2))\n",
        "model.add(layers.Dense(4096, activation = 'relu'))\n",
        "model.add(layers.Dropout(rate=0.2))\n",
        "model.add(layers.Dense(10, activation='softmax'))"
      ],
      "execution_count": 31,
      "outputs": []
    },
    {
      "cell_type": "code",
      "metadata": {
        "id": "mU_QseobcuUw",
        "colab_type": "code",
        "colab": {
          "base_uri": "https://localhost:8080/",
          "height": 1000
        },
        "outputId": "dbc6ec36-cef9-4e09-f3e3-0d27549018b2"
      },
      "source": [
        "model.summary()"
      ],
      "execution_count": 32,
      "outputs": [
        {
          "output_type": "stream",
          "text": [
            "Model: \"sequential_10\"\n",
            "_________________________________________________________________\n",
            "Layer (type)                 Output Shape              Param #   \n",
            "=================================================================\n",
            "conv2d_89 (Conv2D)           (None, 28, 28, 64)        640       \n",
            "_________________________________________________________________\n",
            "batch_normalization_86 (Batc (None, 28, 28, 64)        256       \n",
            "_________________________________________________________________\n",
            "activation_86 (Activation)   (None, 28, 28, 64)        0         \n",
            "_________________________________________________________________\n",
            "conv2d_90 (Conv2D)           (None, 28, 28, 64)        36928     \n",
            "_________________________________________________________________\n",
            "batch_normalization_87 (Batc (None, 28, 28, 64)        256       \n",
            "_________________________________________________________________\n",
            "activation_87 (Activation)   (None, 28, 28, 64)        0         \n",
            "_________________________________________________________________\n",
            "max_pooling2d_29 (MaxPooling (None, 14, 14, 64)        0         \n",
            "_________________________________________________________________\n",
            "conv2d_91 (Conv2D)           (None, 14, 14, 128)       73856     \n",
            "_________________________________________________________________\n",
            "batch_normalization_88 (Batc (None, 14, 14, 128)       512       \n",
            "_________________________________________________________________\n",
            "activation_88 (Activation)   (None, 14, 14, 128)       0         \n",
            "_________________________________________________________________\n",
            "conv2d_92 (Conv2D)           (None, 14, 14, 128)       147584    \n",
            "_________________________________________________________________\n",
            "batch_normalization_89 (Batc (None, 14, 14, 128)       512       \n",
            "_________________________________________________________________\n",
            "activation_89 (Activation)   (None, 14, 14, 128)       0         \n",
            "_________________________________________________________________\n",
            "max_pooling2d_30 (MaxPooling (None, 7, 7, 128)         0         \n",
            "_________________________________________________________________\n",
            "conv2d_93 (Conv2D)           (None, 7, 7, 256)         295168    \n",
            "_________________________________________________________________\n",
            "batch_normalization_90 (Batc (None, 7, 7, 256)         1024      \n",
            "_________________________________________________________________\n",
            "activation_90 (Activation)   (None, 7, 7, 256)         0         \n",
            "_________________________________________________________________\n",
            "conv2d_94 (Conv2D)           (None, 7, 7, 256)         590080    \n",
            "_________________________________________________________________\n",
            "batch_normalization_91 (Batc (None, 7, 7, 256)         1024      \n",
            "_________________________________________________________________\n",
            "activation_91 (Activation)   (None, 7, 7, 256)         0         \n",
            "_________________________________________________________________\n",
            "conv2d_95 (Conv2D)           (None, 7, 7, 256)         590080    \n",
            "_________________________________________________________________\n",
            "batch_normalization_92 (Batc (None, 7, 7, 256)         1024      \n",
            "_________________________________________________________________\n",
            "activation_92 (Activation)   (None, 7, 7, 256)         0         \n",
            "_________________________________________________________________\n",
            "conv2d_96 (Conv2D)           (None, 7, 7, 256)         590080    \n",
            "_________________________________________________________________\n",
            "batch_normalization_93 (Batc (None, 7, 7, 256)         1024      \n",
            "_________________________________________________________________\n",
            "activation_93 (Activation)   (None, 7, 7, 256)         0         \n",
            "_________________________________________________________________\n",
            "max_pooling2d_31 (MaxPooling (None, 3, 3, 256)         0         \n",
            "_________________________________________________________________\n",
            "conv2d_97 (Conv2D)           (None, 3, 3, 512)         1180160   \n",
            "_________________________________________________________________\n",
            "batch_normalization_94 (Batc (None, 3, 3, 512)         2048      \n",
            "_________________________________________________________________\n",
            "activation_94 (Activation)   (None, 3, 3, 512)         0         \n",
            "_________________________________________________________________\n",
            "conv2d_98 (Conv2D)           (None, 3, 3, 512)         2359808   \n",
            "_________________________________________________________________\n",
            "batch_normalization_95 (Batc (None, 3, 3, 512)         2048      \n",
            "_________________________________________________________________\n",
            "activation_95 (Activation)   (None, 3, 3, 512)         0         \n",
            "_________________________________________________________________\n",
            "conv2d_99 (Conv2D)           (None, 3, 3, 512)         2359808   \n",
            "_________________________________________________________________\n",
            "batch_normalization_96 (Batc (None, 3, 3, 512)         2048      \n",
            "_________________________________________________________________\n",
            "activation_96 (Activation)   (None, 3, 3, 512)         0         \n",
            "_________________________________________________________________\n",
            "conv2d_100 (Conv2D)          (None, 3, 3, 512)         2359808   \n",
            "_________________________________________________________________\n",
            "batch_normalization_97 (Batc (None, 3, 3, 512)         2048      \n",
            "_________________________________________________________________\n",
            "activation_97 (Activation)   (None, 3, 3, 512)         0         \n",
            "_________________________________________________________________\n",
            "max_pooling2d_32 (MaxPooling (None, 1, 1, 512)         0         \n",
            "_________________________________________________________________\n",
            "flatten_1 (Flatten)          (None, 512)               0         \n",
            "_________________________________________________________________\n",
            "dense_3 (Dense)              (None, 4096)              2101248   \n",
            "_________________________________________________________________\n",
            "dropout_2 (Dropout)          (None, 4096)              0         \n",
            "_________________________________________________________________\n",
            "dense_4 (Dense)              (None, 4096)              16781312  \n",
            "_________________________________________________________________\n",
            "dropout_3 (Dropout)          (None, 4096)              0         \n",
            "_________________________________________________________________\n",
            "dense_5 (Dense)              (None, 10)                40970     \n",
            "=================================================================\n",
            "Total params: 29,521,354\n",
            "Trainable params: 29,514,442\n",
            "Non-trainable params: 6,912\n",
            "_________________________________________________________________\n"
          ],
          "name": "stdout"
        }
      ]
    },
    {
      "cell_type": "code",
      "metadata": {
        "id": "dTfQzsyQgxk9",
        "colab_type": "code",
        "colab": {
          "base_uri": "https://localhost:8080/",
          "height": 389
        },
        "outputId": "bc7bc6f9-4c4c-4e45-cde6-d9144f2917be"
      },
      "source": [
        "model.compile(optimizer = keras.optimizers.Adam(lr=0.01),\n",
        "              loss = 'categorical_crossentropy',\n",
        "              metrics=['accuracy'])\n",
        "\n",
        "early_stopping_cb = keras.callbacks.EarlyStopping(patience = 3, restore_best_weights=True)\n",
        "\n",
        "history = model.fit(train_images, train_labels, epochs = 50,\n",
        "                    validation_data=(valid_images, valid_labels),\n",
        "                    callbacks = [early_stopping_cb],\n",
        "                    batch_size = 64, shuffle=True)"
      ],
      "execution_count": 33,
      "outputs": [
        {
          "output_type": "stream",
          "text": [
            "Epoch 1/50\n",
            "704/704 [==============================] - 29s 42ms/step - loss: 4.4284 - accuracy: 0.1992 - val_loss: 3.9890 - val_accuracy: 0.1125\n",
            "Epoch 2/50\n",
            "704/704 [==============================] - 29s 42ms/step - loss: 0.9957 - accuracy: 0.5688 - val_loss: 1.7762 - val_accuracy: 0.4879\n",
            "Epoch 3/50\n",
            "704/704 [==============================] - 29s 42ms/step - loss: 0.2595 - accuracy: 0.9354 - val_loss: 2.2636 - val_accuracy: 0.6045\n",
            "Epoch 4/50\n",
            "704/704 [==============================] - 30s 42ms/step - loss: 0.1884 - accuracy: 0.9553 - val_loss: 0.2141 - val_accuracy: 0.9581\n",
            "Epoch 5/50\n",
            "704/704 [==============================] - 30s 42ms/step - loss: 0.1230 - accuracy: 0.9724 - val_loss: 0.0968 - val_accuracy: 0.9823\n",
            "Epoch 6/50\n",
            "704/704 [==============================] - 30s 42ms/step - loss: 0.2025 - accuracy: 0.9582 - val_loss: 0.2448 - val_accuracy: 0.9485\n",
            "Epoch 7/50\n",
            "704/704 [==============================] - 30s 43ms/step - loss: 0.1036 - accuracy: 0.9764 - val_loss: 0.0809 - val_accuracy: 0.9827\n",
            "Epoch 8/50\n",
            "704/704 [==============================] - 30s 42ms/step - loss: 0.2526 - accuracy: 0.9505 - val_loss: 1.2737 - val_accuracy: 0.7969\n",
            "Epoch 9/50\n",
            "704/704 [==============================] - 30s 43ms/step - loss: 0.2047 - accuracy: 0.9511 - val_loss: 0.1179 - val_accuracy: 0.9715\n",
            "Epoch 10/50\n",
            "704/704 [==============================] - 30s 43ms/step - loss: 0.0810 - accuracy: 0.9824 - val_loss: 0.0977 - val_accuracy: 0.9789\n"
          ],
          "name": "stdout"
        }
      ]
    },
    {
      "cell_type": "code",
      "metadata": {
        "id": "inLv1pUKjjdW",
        "colab_type": "code",
        "colab": {
          "base_uri": "https://localhost:8080/",
          "height": 545
        },
        "outputId": "8be2f501-daed-4b5c-b97c-5d9b3d2b5198"
      },
      "source": [
        "acc = history.history['accuracy']\n",
        "val_acc = history.history['val_accuracy']\n",
        "loss = history.history['loss']\n",
        "val_loss = history.history['val_loss']\n",
        "\n",
        "epochs = range(len(acc))\n",
        "\n",
        "plt.plot(epochs, acc, 'r', label='Training acc')\n",
        "plt.plot(epochs, val_acc, 'b', label='Validataion acc')\n",
        "plt.title('Training and validation accuracy')\n",
        "plt.legend()\n",
        "\n",
        "plt.figure()\n",
        "plt.plot(epochs, loss, 'r', label='Training loss')\n",
        "plt.plot(epochs, val_loss, 'b', label='Valdation loss')\n",
        "plt.title('Training and validation loss')\n",
        "plt.legend()\n",
        "\n",
        "plt.show()"
      ],
      "execution_count": 39,
      "outputs": [
        {
          "output_type": "display_data",
          "data": {
            "image/png": "[encoded data removed]",
            "text/plain": [
              "<Figure size 432x288 with 1 Axes>"
            ]
          },
          "metadata": {
            "tags": [],
            "needs_background": "light"
          }
        },
        {
          "output_type": "display_data",
          "data": {
            "image/png": "[encoded data removed]",
            "text/plain": [
              "<Figure size 432x288 with 1 Axes>"
            ]
          },
          "metadata": {
            "tags": [],
            "needs_background": "light"
          }
        }
      ]
    },
    {
      "cell_type": "code",
      "metadata": {
        "id": "Gv_-VEXZmTUq",
        "colab_type": "code",
        "colab": {
          "base_uri": "https://localhost:8080/",
          "height": 52
        },
        "outputId": "db42dfb2-0f0f-490f-bdc9-54566da93b86"
      },
      "source": [
        "model.evaluate(test_images, test_labels)"
      ],
      "execution_count": 38,
      "outputs": [
        {
          "output_type": "stream",
          "text": [
            "313/313 [==============================] - 3s 8ms/step - loss: 0.0696 - accuracy: 0.9846\n"
          ],
          "name": "stdout"
        },
        {
          "output_type": "execute_result",
          "data": {
            "text/plain": [
              "[0.06956308335065842, 0.9846000075340271]"
            ]
          },
          "metadata": {
            "tags": []
          },
          "execution_count": 38
        }
      ]
    },
    {
      "cell_type": "code",
      "metadata": {
        "id": "SHvTSvBinG6G",
        "colab_type": "code",
        "colab": {}
      },
      "source": [
        ""
      ],
      "execution_count": null,
      "outputs": []
    }
  ]
}