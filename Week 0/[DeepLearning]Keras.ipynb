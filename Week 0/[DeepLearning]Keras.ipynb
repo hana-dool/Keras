{
 "cells": [
  {
   "cell_type": "markdown",
   "metadata": {},
   "source": [
    "# keras 기초문법"
   ]
  },
  {
   "cell_type": "markdown",
   "metadata": {},
   "source": [
    "## 모델 형성하기"
   ]
  },
  {
   "cell_type": "markdown",
   "metadata": {},
   "source": [
    "numpy / pandas # 데이터셋 형성하기"
   ]
  },
  {
   "cell_type": "markdown",
   "metadata": {},
   "source": [
    "### keras.model.Sequential()"
   ]
  },
  {
   "cell_type": "markdown",
   "metadata": {},
   "source": [
    "instance를 생성한다. 제일 먼저 이루어져야 하는 층"
   ]
  },
  {
   "cell_type": "markdown",
   "metadata": {},
   "source": [
    "### model.add()"
   ]
  },
  {
   "cell_type": "markdown",
   "metadata": {},
   "source": [
    "모델을 층(layer)을 쌓아가면서 구성한다.<br>\n",
    "\n",
    "**keras.layers.Dense()** <br>\n",
    "\n",
    "fully connected layer 를 추가한다.\n",
    "\n",
    "- units(첫번째 인자) : <br>\n",
    "    맨 앞에 쓰이는 정수값으로서 output의 갯수를 의미 <Br>\n",
    "- input_dim : <br> \n",
    "    맨 앞의 layer 층에서 쓰인다. 입력데이터 X의 한 샘플에 대한 모양의 dim 을 적어주면 된다. <br>\n",
    "    주로 X_train.shape[1:] 를 쓴다. (X_train 의 row(데이터 수) 가 제일 앞에 나오고 그 뒤는 데이터의 형태이기 떄문)\n",
    "- activation : 활성화함수를 추가한다. <br>\n",
    "    - linear : 디폴트값. 활성화 함수 없이 그냥 뉴런과 가중치의 계산 결과 그대로 출력\n",
    "    - sigmoid : 주로 이진분류문제의 맨 마지막 출력층에 사용 \n",
    "    - softmax : 주로 다중클래스분류의 맨 마지막 출력층에 사용되어 확률을 출력\n",
    "    - relu : hidden layer 에 주로 사용되는 활성화함수<br>\n",
    "- kernel_initializer=\"he_normal\"<br>\n",
    "    초기에 연결 가중치를 어떻게 초기화할지의 방법<br>\n",
    "    kernel initializer 가 초기화하는 부분은 노드 전에 이어져있는 부분이다. -(이부분의 w)- node\n",
    "    - he_normal/he_uniform : HE 초기화. Relu 함수와 그 변종(LeakyRelu 등) 을 위한 초기화방법<br> \n",
    "    - GlorotNormal/GlorotUniform : 글로럿 초기화. 활성화함수가 없거나, tanh/sigmoid/softmax 를 위한 초기화방법<br>\n",
    "    - lecun_normal : 르쿤 초기화. SELU 를 위한 초기화방법<br>\n",
    "     \n",
    " \n",
    "**keras.layers.Flatten()**\n",
    "\n",
    "input 에 대해서 1dim 의 벡터 형태의 데이터로 변환해준다.\n",
    "   \n",
    "- input_shape=[]<br>\n",
    "    input으로 받는 데이터의 모양 (ex [28,28])\n",
    "    \n",
    "**keras.layers.BatchNormalization()**\n",
    "\n",
    "배치 정규화.  입력값에 대해서 정규화를 통해 스케일과 평균을 조절해 데이터의 분포를 비슷하게 맞춰준다. <br>\n",
    "주로 활성화 함수를 통과하기 전에 실행한다.<br>\n",
    "\n",
    "\n",
    "   "
   ]
  },
  {
   "cell_type": "markdown",
   "metadata": {},
   "source": [
    "### model.compile()"
   ]
  },
  {
   "cell_type": "markdown",
   "metadata": {},
   "source": [
    "손실함수 정의 등 학습과정 설정\n",
    "\n",
    "**optimizer**\n",
    "\n",
    "최적화 방법\n",
    "\n",
    "- sgd      = keras.optimizers.SGD(lr=0.001, momentum=0.9)\n",
    "- momentum = keras.optimizers.SGD(lr=0.001, momentum=0.9, nesterov=True)\n",
    "- Adagrad  = keras.optimizers.Adagrad(lr=0.001)\n",
    "- RMSprop  = keras.optimizers.RMSprop(lr=0.001, rho=0.9)\n",
    "- Adam     = keras.optimizers.Adam(lr=0.001, beta_1=0.9, beta_2=0.999)\n",
    "- Adamax   = keras.optimizers.Adamax(lr=0.001, beta_1=0.9, beta_2=0.999)\n",
    "- Nadam    = keras.optimizers.Nadam(lr=0.001, beta_1=0.9, beta_2=0.999)<br>\n",
    "@@ 이때 위에 decay(학습률이 얼마나 줄어드는지) 를 추가할 수 있다.\n",
    "\n",
    "\n",
    "**loss**\n",
    "\n",
    "손실함수. 모델 fitting 시 이걸 기준으로 최적화\n",
    " - mse : mean squared error\n",
    " - binary_crossentropy <br>\n",
    "     : 이진분류를 할 떄에 corss entropy계산 <br>\n",
    "     : 이진분류시 출력층 : sigmoid + 손실함수 binary cross entropy 사용\n",
    " - categorical_crossentropy <br>\n",
    "     : y가 one hot incoding 이 되어있는 경우 cross entropy를 계산 (target과 output의 shape가 같아야 함) <br>\n",
    "     : softmax 출력층과 같이 사용된다.\n",
    " - sparse_categorical_crossentropy <br>\n",
    "     : y가 ont hot incoding 이 안되있는경우 ex1~10 의 값을 가지는 1dim vector corss entropy 계산 <br>\n",
    "     : softmax 출력층과 같이 사용된다.\n",
    "\n",
    "**metrics**\n",
    "\n",
    "모델의 평가 기준 \n",
    " - accuracy (Calculates how often predictions equals labels) (회귀떄에는 사용불가. 의미가없음)"
   ]
  },
  {
   "cell_type": "markdown",
   "metadata": {},
   "source": [
    "### model.fit()"
   ]
  },
  {
   "cell_type": "markdown",
   "metadata": {},
   "source": [
    "모델학습\n",
    "\n",
    "**첫번째 인자**\n",
    "\n",
    "X_train\n",
    "\n",
    "**두번째 인자**\n",
    "\n",
    "y_train\n",
    "\n",
    "**batch_size = 32(default)**<br>\n",
    "   \n",
    "학습할떄 몇개의 Sample 을 묶어서 update 할떄에 적용할지\n",
    " \n",
    "**epochs =5**<br>\n",
    "\n",
    "총 데이터를 몇번 반복해서 학습할지\n",
    "       \n",
    "**shuffle =True**<br>\n",
    "\n",
    "학습하면서 set 을 random 하게 섞을지\n",
    "        \n",
    "**verbose = 1(default)**<br>\n",
    "\n",
    "학습이 이루어지는 과정을 직접 볼지 안볼지 (default = 1 로 과정을 볼 수 있다.)\n",
    "\n",
    "**validation_data(X_val,y_val)**\n",
    "\n",
    "검증데이터를 사용한다.<br>\n",
    "검증데이터 사용시 각 에포크 마다 검증데이터의 정확도도 같이 출력이 되는데, 이 경우 훈련이 잘 되고있는지를 보여줄 뿐이며 실제로 모델이 검증데이터를 학습하지는 않는다. <br>\n",
    "검증데이터의 loss 가 낮아지다가 높아지기 시작하면 이는 overfitting \n",
    " \n",
    "**validation_split = 0.2**<br>\n",
    "     \n",
    "검증데이터를 사용하는것은 동일하지만 , 별도로 존재하는 검증데이터를 주는게 아니라 , X_train과 y_train에서 일정 비율을 분리하여 이를 검증 데이터로 사용한다.<br>\n",
    "역시나 훈련 자체에는 반영되지 않고 훈련 과정을 지켜보기 위한 용도로 사용. validation_data 대신 사용 가능하다.\n",
    "\n",
    "**callback = [checkpoint,earlystopping,tensorboard,lr_scheduler]**\n",
    "\n",
    "이 부분은 아래 값들이 가능하다.\n",
    "\n",
    "**1.keras.callbacks.ModelCheckpoint()** <br>\n",
    "\n",
    "모델이 기준에 따라 제일 좋을떄에 저장하는 옵션\n",
    "\n",
    "checkpoint = keras.callbacks.ModelCheckpoint() <br>\n",
    "model.fit(callbacks=[checkpoint]) # 처럼 사용 <br>\n",
    "- filepath<br>\n",
    "    문자열. 모델 파일을 저장할 경로 <br>\n",
    "- monitor='val_loss' <br>\n",
    "    어떤것을 기준으로 모델을 저장할지 <br>\n",
    "- verbose=0, <br>\n",
    "- save_best_only=False <br>\n",
    "    save_best_only는 모델의 정확도가 최고값을 갱신했을 때만 저장하도록 하는 옵션 <br>\n",
    "- save_weights_only=False <br>\n",
    "    true 면 모델의 가중치만 저장된다. <br>\n",
    "- mode='auto'<br>\n",
    "    svae_best_only True 일 경우 <br>\n",
    "    min : 우리가 정한 기준의 최소값보다 낮을떄 저장 덧씌우기(loss)<br>\n",
    "    max : 우리가 정한 기준의 최대값보다 높을떄 모델 덧씌워서 저장(acc)<br>\n",
    "    auto : 우리가 정한 loss 에 따라 자동유추(추천!)<br> \n",
    "- period=1<br>\n",
    "    체크포인트 간격 <br>\n",
    "\n",
    "**2.keras.callbacks.EarlyStopping()** <br>\n",
    "\n",
    "모델이 기준에 따라 더 학습되지 않는다고 판단하면 멈추는 옵션\n",
    "\n",
    "earlystop = keras.callbacks.ModelEarlyStopping() <br>\n",
    "history = model.fit(callbacks=[earlystop]) # fitting 시에 EarlyStopping 이 같이 들어간다.\n",
    "- monitor='val_loss'<br>\n",
    "    어떤것을 기준으로 학습을 stop 할지 결정\n",
    "- min_delta=0 <br>\n",
    "    우리가 정한 기준을 바탕으로 모델이 향상되었다고 판단할 최소한의 변화. min delta 미만의 절대적 변화는 향상되었다고 판단하지 않는다.\n",
    "- patience=0<br>\n",
    "    개선이 없다고 바로 종료하지 않고, 인내를 가지고 기다려주는 값으로 epoch 를 몇번이나 더 허용할지 결정\n",
    "- verbose=0 <br>\n",
    "- mode='auto'<br>\n",
    "    min : 정한 기준값이 더이상 감소하지 않으면 학습이 멈춘다.(loss 와 사용)<br>\n",
    "    max : 정한 기준값이 더이상 증가하지 않으면 학습이 멈춘다.(acc 와 사용)<br>\n",
    "    auto : 우리가 정한 기준값에서 방향성이 자동으로 유추된다. <br>\n",
    "- baseline=None <br>\n",
    "    관찰하는 수량이 도달해야하는 베이스라인 값 모델이 베이스라인을 초과하는 향상을 보이지 않으면 학습이 멈춘다.\n",
    "- restore_best_weights=False <br>\n",
    "\n",
    "**3.keras.callbacks.TensorBoard()**\n",
    "\n",
    "**4.keras.callbacks.ReduceLROnPlateau()**\n",
    "\n",
    "학습률을 점점 줄여나가는 스케일링 옵션\n",
    "\n",
    "lr_scheduler = keras.callbacks.ReduceLROnPlateau(factor=0.5, patience=5)<br>\n",
    "history = model.fit(callbacks=[lr_scheduler])\n",
    "\n",
    "- factor = 0.1<br>\n",
    "    모델이 향상이 없으면 learning rate 를 얼마나 줄일지\n",
    "- patience = 10<br>\n",
    "    모델이 향상이 없을때 얼마나 더 지켜볼지\n"
   ]
  },
  {
   "cell_type": "markdown",
   "metadata": {},
   "source": [
    "### model.evaluate()"
   ]
  },
  {
   "cell_type": "markdown",
   "metadata": {},
   "source": [
    "**model.evaluate # 모델 평가하기**\n",
    "테스트 데이터를 통해 학습한 모델에 대한 정확도를 평가한다.\n",
    "\n",
    "- 첫번째 인자 = X_test\n",
    "\n",
    "- 두번쨰 인자 = y_test\n",
    "\n",
    "- batch_size :<br>\n",
    "    왜 evaluate 에 batch size 가 필요할까? 그건 계산속도를 빠르게 하기 위함이다. 묶어서 계산할뿐이라 값은 거의 차이 안난다.<br>\n",
    "    The evaluate function of Model has a batch size just in order to speed-up evaluation, as the network can process multiple samples at a time, and with a GPU this makes evaluation much faster. I think the only way to reduce the effect of this would be to set batch_size to one.\n"
   ]
  },
  {
   "cell_type": "markdown",
   "metadata": {},
   "source": [
    "### model.predict()"
   ]
  },
  {
   "cell_type": "markdown",
   "metadata": {},
   "source": [
    "**model.predict() # 모델 예측하기**\n",
    "\n",
    "- 첫번째 인자 : 예측하고자 하는 데이터 (X_input)\n",
    "- 가장 높은 클래스에만 관심이 있으면 model.predict_classes 를 쓴다.\n",
    "    - y_pred = model.predict_classes(X_new)<br>\n",
    "      y_pred"
   ]
  },
  {
   "cell_type": "markdown",
   "metadata": {},
   "source": [
    "## 모델 살펴보기"
   ]
  },
  {
   "cell_type": "markdown",
   "metadata": {},
   "source": [
    "history = model.fit(X,y) 으로 fitting 해서 model 을 형성했다고 하자."
   ]
  },
  {
   "cell_type": "markdown",
   "metadata": {},
   "source": [
    "### history.history()"
   ]
  },
  {
   "cell_type": "markdown",
   "metadata": {},
   "source": [
    "**fit.history**\n",
    "\n",
    "fit = model.fit() 으로 학습시키고 나면, 이제 이 fit 에는 우리가 학습시킬때의 과정중에서 loss. accuracy(모델의 성능평가 metric 에서 지정한 기준으로) 가 어떻게 변화하였는지를 알려주는 dictionary 가 형성된다. key와 value 를 이용해서 그래프를 그려서 학습과정을 시각화할 수 있을것이다.<br>\n",
    "- pd.DataFrame(fit.history).plot<br>\n",
    "    - 이 명령어를 사용하면 각 epoch 별 loss,accuracy 의 변화를 살펴볼 수 있다. <br>\n",
    "    - 이떄에 만일 fit에서 validation data 도 설정하였다면 이 validation set 에서의 loss/ accuracy 또한 같이 산출해준다. <br>\n",
    "    - 그래프를 보면 초기에 validation에서의 accuracy/loss가 train 에 비해 더 낮아보인다. 이는 있을 수 없는일인데(fitting 이 train 에 대해서 일어나므로) 왜 이런현상이 일어나냐면, validation 의 accuracy/loss 는 epoch 가 끝난 후 측정되고, train 의 accuracy/loss 는 훈련도중에 형성이 되기떄문에, validation 의 경우는 좀 더 완벽한 모델에 대해서 평가가 되기 떄문이다."
   ]
  },
  {
   "cell_type": "markdown",
   "metadata": {},
   "source": [
    "### model.summary()"
   ]
  },
  {
   "cell_type": "markdown",
   "metadata": {},
   "source": [
    "**model.summary()**<br>\n",
    "우리가 정의한 모델의 구성요소/ 구조 등을 보여준다."
   ]
  },
  {
   "cell_type": "markdown",
   "metadata": {},
   "source": [
    "### model.layers()"
   ]
  },
  {
   "cell_type": "markdown",
   "metadata": {},
   "source": [
    "**model.layers**<br>\n",
    "우리가 쌓아올린 model 들의 layer 들을 살펴볼 수 있다. <br>\n",
    "- hidden1 = model.layers[1] <br>\n",
    "    weights, biases = hidden1.get_weights() <br>\n",
    "\n",
    "처럼 layers 의 개별 layer를 하나만 떼어놓은 뒤에 그 layer 의 weights/ biases 값이 구체적으로 어떤값을 가지는지 조사할 수도 있다."
   ]
  },
  {
   "cell_type": "markdown",
   "metadata": {},
   "source": [
    "## 모델 저장 및 불러오기"
   ]
  },
  {
   "cell_type": "markdown",
   "metadata": {},
   "source": [
    "model.fit() 으로 모델을 fitting 했다고 하자. 그러면<br>"
   ]
  },
  {
   "cell_type": "markdown",
   "metadata": {},
   "source": [
    "**model.save(\"저장할모델.h5\")**<br>\n",
    "모델을 쥬피터노트북과 같은 경로에 h5 확장자를 가지게 저장한다.<br>"
   ]
  },
  {
   "cell_type": "markdown",
   "metadata": {},
   "source": [
    "**model = keras.models.load_model(\"저장할모델.h5\")**<br>\n",
    "저장한 모델을 불러온다."
   ]
  },
  {
   "cell_type": "markdown",
   "metadata": {},
   "source": [
    "# keras 기초 예시"
   ]
  },
  {
   "cell_type": "markdown",
   "metadata": {},
   "source": [
    "Regression 을 할 떄에 keras 에서 쓸 수 있는 metrics <br>\n",
    "Mean Squared Error: mean_squared_error, MSE or mse <br>\n",
    "Mean Absolute Error: mean_absolute_error, MAE, mae <br>\n",
    "Mean Absolute Percentage Error: mean_absolute_percentage_error, MAPE, mape <br>\n",
    "Cosine Proximity: cosine_proximity, cosine <br>"
   ]
  },
  {
   "cell_type": "code",
   "execution_count": 26,
   "metadata": {},
   "outputs": [],
   "source": [
    "import tensorflow as tf\n",
    "from tensorflow import keras\n",
    "import numpy as np\n",
    "import pandas as pd\n",
    "from IPython.display import Image\n",
    "import matplotlib.pyplot as plt"
   ]
  },
  {
   "cell_type": "code",
   "execution_count": 27,
   "metadata": {},
   "outputs": [],
   "source": [
    "# keras 라는 독자적인 module 이 있지만, 대세는 tensorflow 에 들어간 keras 이다."
   ]
  },
  {
   "cell_type": "markdown",
   "metadata": {},
   "source": [
    "## Simple linear regression"
   ]
  },
  {
   "cell_type": "code",
   "execution_count": 28,
   "metadata": {},
   "outputs": [],
   "source": [
    "X = np.array([1,2,3,4,5,6])\n",
    "y = np.array([10,20,30,40,50,60])"
   ]
  },
  {
   "cell_type": "code",
   "execution_count": 29,
   "metadata": {},
   "outputs": [
    {
     "name": "stdout",
     "output_type": "stream",
     "text": [
      "[[69.352455]]\n"
     ]
    }
   ],
   "source": [
    "# 모델구성할떄에는 먼저 sequential 이라는 인스턴스를 먼저 형성해야한다.\n",
    "model = keras.models.Sequential() \n",
    "model.add(keras.layers.Dense(1,input_dim=1, activation='linear'))\n",
    "# 맨 앞의 1 : 출력인자. 즉 output 은 1dim 의 vector 가 될 것이다.\n",
    "# input_dim : 입력인자 X 의 dim 이 1이므로 1\n",
    "# optimizer 먼저 정의하자. 그냥 뒤 compile 에서 opimizer='sgd' 를 써버리면 optimizer 의 파라메터들을 우리 입맛대로 조종할 수가 없다.\n",
    "sgd = keras.optimizers.SGD(lr=0.01) \n",
    "# SGD : stochastic gradient descent 의 방법으로 최적화를 하겠다는 뜻.\n",
    "# lr : learning rate 로서, 0.01 을 사용\n",
    "model.compile(optimizer = sgd,  # 최적화는 위에서 튜닝한 sgd 사용\n",
    "              loss='mse', # 회귀분석이므로 손실함수는 mse\n",
    "              metrics=['mse']) # 회귀이므로 평가 기준도 mse 로 하자.\n",
    "model.fit(X, y, \n",
    "          batch_size=1, #데이터를 몇개씩 묶어서 J 구하고 학습할지. 여기서는 1을 사용?\n",
    "          epochs=10, # 총 데이터를 10번 학습을 시키겠다는뜻\n",
    "          shuffle =False, # 학습하면서 set 을 random 하게 섞을지\n",
    "          verbose =0 ) # 학습이 이루어지는 과정을 직접 볼지 안볼지 (default = 1 로 과정을 볼 수 있다.)\n",
    "# 모델 예측\n",
    "print(model.predict([7]))"
   ]
  },
  {
   "cell_type": "markdown",
   "metadata": {},
   "source": [
    "## Multi linear regression"
   ]
  },
  {
   "cell_type": "code",
   "execution_count": 39,
   "metadata": {},
   "outputs": [],
   "source": [
    "X_train = np.array([[73,80,75],\n",
    "                   [63,80,75],\n",
    "                   [93,88,93],\n",
    "                   [89,90,90],\n",
    "                   [96,98,100],\n",
    "                   [73,66,70]])\n",
    "y_train = np.array([72,88,92,81,100,71])\n",
    "X_test = np.array([[90,88,93],\n",
    "                   [70,70,70]])\n",
    "y_test = np.array([90,68])"
   ]
  },
  {
   "cell_type": "code",
   "execution_count": 40,
   "metadata": {},
   "outputs": [],
   "source": [
    "# 모델구성\n",
    "model = keras.Sequential()\n",
    "model.add(keras.layers.Dense(1,input_dim=3, activation='linear'))\n",
    "# 맨 앞의 1 : 출력인자. 즉 output 은 1dim 의 vector 가 될 것이다.\n",
    "# input_dim : 입력인자 X 의 dim 이 3이므로 3\n",
    "# 모델 컴파일\n",
    "sgd = keras.optimizers.SGD(lr=0.00001) \n",
    "# lr : learning rate 로서, 0.01 을 사용\n",
    "model.compile(optimizer = sgd,  # 최적화는 sgd 사용\n",
    "              loss='mse', # 손실함수는 mse \n",
    "              metrics=['mse', 'mae', 'mape']) # metrics 는 모델의 평가 기준. \n",
    "# 모델학습\n",
    "fit = model.fit(X_train, y_train, \n",
    "               batch_size=1, # 데이터 셋이 있을때 몇개씩 묶어서 볼것인가\n",
    "               epochs=10,\n",
    "                validation_split=0.2,# 10번 학습을 시키겠다는뜻\n",
    "               shuffle =False,\n",
    "               verbose=0) # 학습하면서 set 을 random 하게 섞을지"
   ]
  },
  {
   "cell_type": "markdown",
   "metadata": {},
   "source": [
    "### taining 과정"
   ]
  },
  {
   "cell_type": "code",
   "execution_count": 41,
   "metadata": {
    "scrolled": true
   },
   "outputs": [
    {
     "data": {
      "text/plain": [
       "{'loss': [8634.223052978516,\n",
       "  414.08211374282837,\n",
       "  244.86440229415894,\n",
       "  234.43143343925476,\n",
       "  232.08758807182312,\n",
       "  230.5470154285431,\n",
       "  229.10615849494934,\n",
       "  227.6860270500183,\n",
       "  226.277485370636,\n",
       "  224.87945103645325],\n",
       " 'mse': [8634.224,\n",
       "  414.08212,\n",
       "  244.86441,\n",
       "  234.43144,\n",
       "  232.08759,\n",
       "  230.54701,\n",
       "  229.10617,\n",
       "  227.68602,\n",
       "  226.27748,\n",
       "  224.87946],\n",
       " 'mae': [82.05602,\n",
       "  16.251314,\n",
       "  13.395786,\n",
       "  13.027269,\n",
       "  12.945231,\n",
       "  12.896313,\n",
       "  12.851346,\n",
       "  12.806977,\n",
       "  12.762809,\n",
       "  12.7188015],\n",
       " 'mape': [101.722694,\n",
       "  19.756174,\n",
       "  15.65145,\n",
       "  15.132828,\n",
       "  15.027248,\n",
       "  14.969381,\n",
       "  14.91717,\n",
       "  14.865774,\n",
       "  14.814626,\n",
       "  14.763665],\n",
       " 'val_loss': [384.28035736083984,\n",
       "  25.62184827774763,\n",
       "  13.713388681411743,\n",
       "  12.673208892345428,\n",
       "  12.505971550941467,\n",
       "  12.436538577079773,\n",
       "  12.380050241947174,\n",
       "  12.326747059822083,\n",
       "  12.275661051273346,\n",
       "  12.226354748010635],\n",
       " 'val_mse': [384.28036,\n",
       "  25.62185,\n",
       "  13.713388,\n",
       "  12.673209,\n",
       "  12.505972,\n",
       "  12.436539,\n",
       "  12.380051,\n",
       "  12.326747,\n",
       "  12.275661,\n",
       "  12.226355],\n",
       " 'val_mae': [18.676352,\n",
       "  3.7529526,\n",
       "  3.0822754,\n",
       "  3.026455,\n",
       "  3.000473,\n",
       "  2.9779892,\n",
       "  2.9559708,\n",
       "  2.9340744,\n",
       "  2.9122734,\n",
       "  2.8905334],\n",
       " 'val_mape': [21.274164,\n",
       "  3.8257198,\n",
       "  3.292571,\n",
       "  3.2617116,\n",
       "  3.231004,\n",
       "  3.2003994,\n",
       "  3.1698954,\n",
       "  3.1394994,\n",
       "  3.1092224,\n",
       "  3.0790343]}"
      ]
     },
     "execution_count": 41,
     "metadata": {},
     "output_type": "execute_result"
    }
   ],
   "source": [
    "fit.history # loss 와  metric(모델평가기준) 의 epoch 별 추이를 보여준다."
   ]
  },
  {
   "cell_type": "code",
   "execution_count": 42,
   "metadata": {},
   "outputs": [
    {
     "data": {
      "text/html": [
       "<div>\n",
       "<style scoped>\n",
       "    .dataframe tbody tr th:only-of-type {\n",
       "        vertical-align: middle;\n",
       "    }\n",
       "\n",
       "    .dataframe tbody tr th {\n",
       "        vertical-align: top;\n",
       "    }\n",
       "\n",
       "    .dataframe thead th {\n",
       "        text-align: right;\n",
       "    }\n",
       "</style>\n",
       "<table border=\"1\" class=\"dataframe\">\n",
       "  <thead>\n",
       "    <tr style=\"text-align: right;\">\n",
       "      <th></th>\n",
       "      <th>loss</th>\n",
       "      <th>mse</th>\n",
       "      <th>mae</th>\n",
       "      <th>mape</th>\n",
       "      <th>val_loss</th>\n",
       "      <th>val_mse</th>\n",
       "      <th>val_mae</th>\n",
       "      <th>val_mape</th>\n",
       "    </tr>\n",
       "  </thead>\n",
       "  <tbody>\n",
       "    <tr>\n",
       "      <th>0</th>\n",
       "      <td>8634.223053</td>\n",
       "      <td>8634.223633</td>\n",
       "      <td>82.056023</td>\n",
       "      <td>101.722694</td>\n",
       "      <td>384.280357</td>\n",
       "      <td>384.280365</td>\n",
       "      <td>18.676352</td>\n",
       "      <td>21.274164</td>\n",
       "    </tr>\n",
       "    <tr>\n",
       "      <th>1</th>\n",
       "      <td>414.082114</td>\n",
       "      <td>414.082123</td>\n",
       "      <td>16.251314</td>\n",
       "      <td>19.756174</td>\n",
       "      <td>25.621848</td>\n",
       "      <td>25.621849</td>\n",
       "      <td>3.752953</td>\n",
       "      <td>3.825720</td>\n",
       "    </tr>\n",
       "    <tr>\n",
       "      <th>2</th>\n",
       "      <td>244.864402</td>\n",
       "      <td>244.864410</td>\n",
       "      <td>13.395786</td>\n",
       "      <td>15.651450</td>\n",
       "      <td>13.713389</td>\n",
       "      <td>13.713388</td>\n",
       "      <td>3.082275</td>\n",
       "      <td>3.292571</td>\n",
       "    </tr>\n",
       "    <tr>\n",
       "      <th>3</th>\n",
       "      <td>234.431433</td>\n",
       "      <td>234.431442</td>\n",
       "      <td>13.027269</td>\n",
       "      <td>15.132828</td>\n",
       "      <td>12.673209</td>\n",
       "      <td>12.673209</td>\n",
       "      <td>3.026455</td>\n",
       "      <td>3.261712</td>\n",
       "    </tr>\n",
       "    <tr>\n",
       "      <th>4</th>\n",
       "      <td>232.087588</td>\n",
       "      <td>232.087585</td>\n",
       "      <td>12.945231</td>\n",
       "      <td>15.027248</td>\n",
       "      <td>12.505972</td>\n",
       "      <td>12.505972</td>\n",
       "      <td>3.000473</td>\n",
       "      <td>3.231004</td>\n",
       "    </tr>\n",
       "    <tr>\n",
       "      <th>5</th>\n",
       "      <td>230.547015</td>\n",
       "      <td>230.547012</td>\n",
       "      <td>12.896313</td>\n",
       "      <td>14.969381</td>\n",
       "      <td>12.436539</td>\n",
       "      <td>12.436539</td>\n",
       "      <td>2.977989</td>\n",
       "      <td>3.200399</td>\n",
       "    </tr>\n",
       "    <tr>\n",
       "      <th>6</th>\n",
       "      <td>229.106158</td>\n",
       "      <td>229.106171</td>\n",
       "      <td>12.851346</td>\n",
       "      <td>14.917170</td>\n",
       "      <td>12.380050</td>\n",
       "      <td>12.380051</td>\n",
       "      <td>2.955971</td>\n",
       "      <td>3.169895</td>\n",
       "    </tr>\n",
       "    <tr>\n",
       "      <th>7</th>\n",
       "      <td>227.686027</td>\n",
       "      <td>227.686020</td>\n",
       "      <td>12.806977</td>\n",
       "      <td>14.865774</td>\n",
       "      <td>12.326747</td>\n",
       "      <td>12.326747</td>\n",
       "      <td>2.934074</td>\n",
       "      <td>3.139499</td>\n",
       "    </tr>\n",
       "    <tr>\n",
       "      <th>8</th>\n",
       "      <td>226.277485</td>\n",
       "      <td>226.277481</td>\n",
       "      <td>12.762809</td>\n",
       "      <td>14.814626</td>\n",
       "      <td>12.275661</td>\n",
       "      <td>12.275661</td>\n",
       "      <td>2.912273</td>\n",
       "      <td>3.109222</td>\n",
       "    </tr>\n",
       "    <tr>\n",
       "      <th>9</th>\n",
       "      <td>224.879451</td>\n",
       "      <td>224.879456</td>\n",
       "      <td>12.718801</td>\n",
       "      <td>14.763665</td>\n",
       "      <td>12.226355</td>\n",
       "      <td>12.226355</td>\n",
       "      <td>2.890533</td>\n",
       "      <td>3.079034</td>\n",
       "    </tr>\n",
       "  </tbody>\n",
       "</table>\n",
       "</div>"
      ],
      "text/plain": [
       "          loss          mse        mae        mape    val_loss     val_mse  \\\n",
       "0  8634.223053  8634.223633  82.056023  101.722694  384.280357  384.280365   \n",
       "1   414.082114   414.082123  16.251314   19.756174   25.621848   25.621849   \n",
       "2   244.864402   244.864410  13.395786   15.651450   13.713389   13.713388   \n",
       "3   234.431433   234.431442  13.027269   15.132828   12.673209   12.673209   \n",
       "4   232.087588   232.087585  12.945231   15.027248   12.505972   12.505972   \n",
       "5   230.547015   230.547012  12.896313   14.969381   12.436539   12.436539   \n",
       "6   229.106158   229.106171  12.851346   14.917170   12.380050   12.380051   \n",
       "7   227.686027   227.686020  12.806977   14.865774   12.326747   12.326747   \n",
       "8   226.277485   226.277481  12.762809   14.814626   12.275661   12.275661   \n",
       "9   224.879451   224.879456  12.718801   14.763665   12.226355   12.226355   \n",
       "\n",
       "     val_mae   val_mape  \n",
       "0  18.676352  21.274164  \n",
       "1   3.752953   3.825720  \n",
       "2   3.082275   3.292571  \n",
       "3   3.026455   3.261712  \n",
       "4   3.000473   3.231004  \n",
       "5   2.977989   3.200399  \n",
       "6   2.955971   3.169895  \n",
       "7   2.934074   3.139499  \n",
       "8   2.912273   3.109222  \n",
       "9   2.890533   3.079034  "
      ]
     },
     "execution_count": 42,
     "metadata": {},
     "output_type": "execute_result"
    }
   ],
   "source": [
    "history = pd.DataFrame(fit.history)\n",
    "history"
   ]
  },
  {
   "cell_type": "code",
   "execution_count": 43,
   "metadata": {},
   "outputs": [
    {
     "data": {
      "text/html": [
       "<div>\n",
       "<style scoped>\n",
       "    .dataframe tbody tr th:only-of-type {\n",
       "        vertical-align: middle;\n",
       "    }\n",
       "\n",
       "    .dataframe tbody tr th {\n",
       "        vertical-align: top;\n",
       "    }\n",
       "\n",
       "    .dataframe thead th {\n",
       "        text-align: right;\n",
       "    }\n",
       "</style>\n",
       "<table border=\"1\" class=\"dataframe\">\n",
       "  <thead>\n",
       "    <tr style=\"text-align: right;\">\n",
       "      <th></th>\n",
       "      <th>mse</th>\n",
       "      <th>val_mse</th>\n",
       "    </tr>\n",
       "  </thead>\n",
       "  <tbody>\n",
       "    <tr>\n",
       "      <th>0</th>\n",
       "      <td>8634.223633</td>\n",
       "      <td>384.280365</td>\n",
       "    </tr>\n",
       "    <tr>\n",
       "      <th>1</th>\n",
       "      <td>414.082123</td>\n",
       "      <td>25.621849</td>\n",
       "    </tr>\n",
       "    <tr>\n",
       "      <th>2</th>\n",
       "      <td>244.864410</td>\n",
       "      <td>13.713388</td>\n",
       "    </tr>\n",
       "    <tr>\n",
       "      <th>3</th>\n",
       "      <td>234.431442</td>\n",
       "      <td>12.673209</td>\n",
       "    </tr>\n",
       "    <tr>\n",
       "      <th>4</th>\n",
       "      <td>232.087585</td>\n",
       "      <td>12.505972</td>\n",
       "    </tr>\n",
       "    <tr>\n",
       "      <th>5</th>\n",
       "      <td>230.547012</td>\n",
       "      <td>12.436539</td>\n",
       "    </tr>\n",
       "    <tr>\n",
       "      <th>6</th>\n",
       "      <td>229.106171</td>\n",
       "      <td>12.380051</td>\n",
       "    </tr>\n",
       "    <tr>\n",
       "      <th>7</th>\n",
       "      <td>227.686020</td>\n",
       "      <td>12.326747</td>\n",
       "    </tr>\n",
       "    <tr>\n",
       "      <th>8</th>\n",
       "      <td>226.277481</td>\n",
       "      <td>12.275661</td>\n",
       "    </tr>\n",
       "    <tr>\n",
       "      <th>9</th>\n",
       "      <td>224.879456</td>\n",
       "      <td>12.226355</td>\n",
       "    </tr>\n",
       "  </tbody>\n",
       "</table>\n",
       "</div>"
      ],
      "text/plain": [
       "           mse     val_mse\n",
       "0  8634.223633  384.280365\n",
       "1   414.082123   25.621849\n",
       "2   244.864410   13.713388\n",
       "3   234.431442   12.673209\n",
       "4   232.087585   12.505972\n",
       "5   230.547012   12.436539\n",
       "6   229.106171   12.380051\n",
       "7   227.686020   12.326747\n",
       "8   226.277481   12.275661\n",
       "9   224.879456   12.226355"
      ]
     },
     "execution_count": 43,
     "metadata": {},
     "output_type": "execute_result"
    }
   ],
   "source": [
    "# 판단기준 중에서 mse 를 이용하도록 하자.\n",
    "hist=history[['mse','val_mse']]\n",
    "hist"
   ]
  },
  {
   "cell_type": "code",
   "execution_count": 44,
   "metadata": {},
   "outputs": [
    {
     "data": {
      "image/png": "[encoded data removed]",
      "text/plain": [
       "<Figure size 576x360 with 1 Axes>"
      ]
     },
     "metadata": {
      "needs_background": "light"
     },
     "output_type": "display_data"
    }
   ],
   "source": [
    "# mae /mape 를 이용해서 학습 그래프 그리기\n",
    "hist.plot(figsize=(8, 5))\n",
    "plt.grid(True) \n",
    "# grid 를 그려주면 뭔가 이뻐보인다..\n",
    "# 아래 x 축은 epoch 이다. \n",
    "# 처음에 val 값이 더 좋아보이는건 mse 는 epoch 도중 계산되고 val 은 epoch 끝나고 계산되기떄문"
   ]
  },
  {
   "cell_type": "code",
   "execution_count": 45,
   "metadata": {},
   "outputs": [
    {
     "data": {
      "image/png": "[encoded data removed]",
      "text/plain": [
       "<Figure size 432x288 with 1 Axes>"
      ]
     },
     "metadata": {
      "needs_background": "light"
     },
     "output_type": "display_data"
    }
   ],
   "source": [
    "# loss 그리기\n",
    "# 사실 loss 를 mse 로 설정해서 이렇게 그리나 마나이긴 하다..\n",
    "history['loss'].plot();"
   ]
  },
  {
   "cell_type": "markdown",
   "metadata": {},
   "source": [
    "### 예측 및 평가"
   ]
  },
  {
   "cell_type": "code",
   "execution_count": 46,
   "metadata": {},
   "outputs": [
    {
     "data": {
      "text/plain": [
       "array([[90.467735],\n",
       "       [67.92232 ]], dtype=float32)"
      ]
     },
     "execution_count": 46,
     "metadata": {},
     "output_type": "execute_result"
    }
   ],
   "source": [
    "model.predict(X_test)"
   ]
  },
  {
   "cell_type": "code",
   "execution_count": 47,
   "metadata": {},
   "outputs": [
    {
     "name": "stdout",
     "output_type": "stream",
     "text": [
      "\r",
      "2/2 [==============================] - 0s 38ms/sample - loss: 0.1124 - mse: 0.1124 - mae: 0.2727 - mape: 0.3170\n"
     ]
    },
    {
     "data": {
      "text/plain": [
       "[0.1124054342508316, 0.112405434, 0.2727089, 0.31697243]"
      ]
     },
     "execution_count": 47,
     "metadata": {},
     "output_type": "execute_result"
    }
   ],
   "source": [
    "model.evaluate(X_test,y_test)"
   ]
  },
  {
   "cell_type": "markdown",
   "metadata": {},
   "source": [
    "## Logistic regression"
   ]
  },
  {
   "cell_type": "code",
   "execution_count": 48,
   "metadata": {},
   "outputs": [],
   "source": [
    "X = np.array([-10,1,2,3,4,5,6,7,8,9,10])\n",
    "y = np.array([0,0,0,0,0,0,0,0,1,1,1])"
   ]
  },
  {
   "cell_type": "code",
   "execution_count": 49,
   "metadata": {},
   "outputs": [],
   "source": [
    "# 모델구성\n",
    "model = keras.models.Sequential()\n",
    "model.add(keras.layers.Dense(1,input_dim=1, activation='sigmoid'))\n",
    "# binary y 에 대한 logistic 을 하려고 하므로 출력층은 sigmoid , loss 는 binary_crossentropy , metric 은 binary_accueacy 를 해야한다.\n",
    "# 모델 컴파일\n",
    "sgd = keras.optimizers.SGD(lr=0.01) \n",
    "model.compile(optimizer = sgd,  # 최적화는 sgd 사용\n",
    "              loss='binary_crossentropy', # binary 경우의 로지스틱이므로 binary crossentropy 사용\n",
    "              metrics=['binary_accuracy']) # metrics 는 모델의 평가 기준. \n",
    "# 모델학습\n",
    "fit = model.fit(X, y, \n",
    "          batch_size=1, \n",
    "          epochs=400, # 10번 학습을 시키겠다는뜻\n",
    "          shuffle =False,\n",
    "          verbose=0) # 학습하면서 set 을 random 하게 섞을지"
   ]
  },
  {
   "cell_type": "markdown",
   "metadata": {},
   "source": [
    "### Training 과정"
   ]
  },
  {
   "cell_type": "code",
   "execution_count": 50,
   "metadata": {
    "scrolled": true
   },
   "outputs": [
    {
     "data": {
      "image/png": "[encoded data removed]",
      "text/plain": [
       "<Figure size 576x360 with 1 Axes>"
      ]
     },
     "metadata": {
      "needs_background": "light"
     },
     "output_type": "display_data"
    }
   ],
   "source": [
    "history = pd.DataFrame(fit.history)\n",
    "hist.plot(figsize=(8, 5))\n",
    "plt.grid(True) "
   ]
  },
  {
   "cell_type": "markdown",
   "metadata": {},
   "source": [
    "### 예측"
   ]
  },
  {
   "cell_type": "code",
   "execution_count": 51,
   "metadata": {
    "scrolled": true
   },
   "outputs": [
    {
     "data": {
      "text/plain": [
       "array([[0.8240231]], dtype=float32)"
      ]
     },
     "execution_count": 51,
     "metadata": {},
     "output_type": "execute_result"
    }
   ],
   "source": [
    "# x 가 9.4 일떄 label 이 1일 확률은...???\n",
    "model.predict([9.4])"
   ]
  },
  {
   "cell_type": "code",
   "execution_count": 52,
   "metadata": {
    "scrolled": true
   },
   "outputs": [
    {
     "data": {
      "text/plain": [
       "[<matplotlib.lines.Line2D at 0x162bd0de2c8>]"
      ]
     },
     "execution_count": 52,
     "metadata": {},
     "output_type": "execute_result"
    },
    {
     "data": {
      "image/png": "[encoded data removed]",
      "text/plain": [
       "<Figure size 432x288 with 1 Axes>"
      ]
     },
     "metadata": {
      "needs_background": "light"
     },
     "output_type": "display_data"
    }
   ],
   "source": [
    "# X 에 대한 예측 시각화\n",
    "plt.plot(X,model.predict(X),'b') # blue 그래프를 그리고싶으므로 'b'\n",
    "plt.plot(X,y,'k.') # plot 을 검은점으로 하려므로 k."
   ]
  },
  {
   "cell_type": "code",
   "execution_count": 53,
   "metadata": {
    "scrolled": true
   },
   "outputs": [
    {
     "name": "stdout",
     "output_type": "stream",
     "text": [
      "Model: \"sequential_7\"\n",
      "_________________________________________________________________\n",
      "Layer (type)                 Output Shape              Param #   \n",
      "=================================================================\n",
      "dense_7 (Dense)              (None, 1)                 2         \n",
      "=================================================================\n",
      "Total params: 2\n",
      "Trainable params: 2\n",
      "Non-trainable params: 0\n",
      "_________________________________________________________________\n"
     ]
    }
   ],
   "source": [
    "model.summary()"
   ]
  },
  {
   "cell_type": "markdown",
   "metadata": {},
   "source": [
    "## 와인 데이터셋 연습"
   ]
  },
  {
   "cell_type": "code",
   "execution_count": 54,
   "metadata": {},
   "outputs": [],
   "source": [
    "from sklearn.datasets import load_wine\n",
    "wine = load_wine()"
   ]
  },
  {
   "cell_type": "code",
   "execution_count": 55,
   "metadata": {
    "scrolled": true
   },
   "outputs": [
    {
     "data": {
      "text/html": [
       "<div>\n",
       "<style scoped>\n",
       "    .dataframe tbody tr th:only-of-type {\n",
       "        vertical-align: middle;\n",
       "    }\n",
       "\n",
       "    .dataframe tbody tr th {\n",
       "        vertical-align: top;\n",
       "    }\n",
       "\n",
       "    .dataframe thead th {\n",
       "        text-align: right;\n",
       "    }\n",
       "</style>\n",
       "<table border=\"1\" class=\"dataframe\">\n",
       "  <thead>\n",
       "    <tr style=\"text-align: right;\">\n",
       "      <th></th>\n",
       "      <th>alcohol</th>\n",
       "      <th>malic_acid</th>\n",
       "      <th>ash</th>\n",
       "      <th>alcalinity_of_ash</th>\n",
       "      <th>magnesium</th>\n",
       "      <th>total_phenols</th>\n",
       "      <th>flavanoids</th>\n",
       "      <th>nonflavanoid_phenols</th>\n",
       "      <th>proanthocyanins</th>\n",
       "      <th>color_intensity</th>\n",
       "      <th>hue</th>\n",
       "      <th>od280/od315_of_diluted_wines</th>\n",
       "      <th>proline</th>\n",
       "      <th>class</th>\n",
       "    </tr>\n",
       "  </thead>\n",
       "  <tbody>\n",
       "    <tr>\n",
       "      <th>173</th>\n",
       "      <td>13.71</td>\n",
       "      <td>5.65</td>\n",
       "      <td>2.45</td>\n",
       "      <td>20.5</td>\n",
       "      <td>95.0</td>\n",
       "      <td>1.68</td>\n",
       "      <td>0.61</td>\n",
       "      <td>0.52</td>\n",
       "      <td>1.06</td>\n",
       "      <td>7.7</td>\n",
       "      <td>0.64</td>\n",
       "      <td>1.74</td>\n",
       "      <td>740.0</td>\n",
       "      <td>2</td>\n",
       "    </tr>\n",
       "    <tr>\n",
       "      <th>174</th>\n",
       "      <td>13.40</td>\n",
       "      <td>3.91</td>\n",
       "      <td>2.48</td>\n",
       "      <td>23.0</td>\n",
       "      <td>102.0</td>\n",
       "      <td>1.80</td>\n",
       "      <td>0.75</td>\n",
       "      <td>0.43</td>\n",
       "      <td>1.41</td>\n",
       "      <td>7.3</td>\n",
       "      <td>0.70</td>\n",
       "      <td>1.56</td>\n",
       "      <td>750.0</td>\n",
       "      <td>2</td>\n",
       "    </tr>\n",
       "    <tr>\n",
       "      <th>175</th>\n",
       "      <td>13.27</td>\n",
       "      <td>4.28</td>\n",
       "      <td>2.26</td>\n",
       "      <td>20.0</td>\n",
       "      <td>120.0</td>\n",
       "      <td>1.59</td>\n",
       "      <td>0.69</td>\n",
       "      <td>0.43</td>\n",
       "      <td>1.35</td>\n",
       "      <td>10.2</td>\n",
       "      <td>0.59</td>\n",
       "      <td>1.56</td>\n",
       "      <td>835.0</td>\n",
       "      <td>2</td>\n",
       "    </tr>\n",
       "    <tr>\n",
       "      <th>176</th>\n",
       "      <td>13.17</td>\n",
       "      <td>2.59</td>\n",
       "      <td>2.37</td>\n",
       "      <td>20.0</td>\n",
       "      <td>120.0</td>\n",
       "      <td>1.65</td>\n",
       "      <td>0.68</td>\n",
       "      <td>0.53</td>\n",
       "      <td>1.46</td>\n",
       "      <td>9.3</td>\n",
       "      <td>0.60</td>\n",
       "      <td>1.62</td>\n",
       "      <td>840.0</td>\n",
       "      <td>2</td>\n",
       "    </tr>\n",
       "    <tr>\n",
       "      <th>177</th>\n",
       "      <td>14.13</td>\n",
       "      <td>4.10</td>\n",
       "      <td>2.74</td>\n",
       "      <td>24.5</td>\n",
       "      <td>96.0</td>\n",
       "      <td>2.05</td>\n",
       "      <td>0.76</td>\n",
       "      <td>0.56</td>\n",
       "      <td>1.35</td>\n",
       "      <td>9.2</td>\n",
       "      <td>0.61</td>\n",
       "      <td>1.60</td>\n",
       "      <td>560.0</td>\n",
       "      <td>2</td>\n",
       "    </tr>\n",
       "  </tbody>\n",
       "</table>\n",
       "</div>"
      ],
      "text/plain": [
       "     alcohol  malic_acid   ash  alcalinity_of_ash  magnesium  total_phenols  \\\n",
       "173    13.71        5.65  2.45               20.5       95.0           1.68   \n",
       "174    13.40        3.91  2.48               23.0      102.0           1.80   \n",
       "175    13.27        4.28  2.26               20.0      120.0           1.59   \n",
       "176    13.17        2.59  2.37               20.0      120.0           1.65   \n",
       "177    14.13        4.10  2.74               24.5       96.0           2.05   \n",
       "\n",
       "     flavanoids  nonflavanoid_phenols  proanthocyanins  color_intensity   hue  \\\n",
       "173        0.61                  0.52             1.06              7.7  0.64   \n",
       "174        0.75                  0.43             1.41              7.3  0.70   \n",
       "175        0.69                  0.43             1.35             10.2  0.59   \n",
       "176        0.68                  0.53             1.46              9.3  0.60   \n",
       "177        0.76                  0.56             1.35              9.2  0.61   \n",
       "\n",
       "     od280/od315_of_diluted_wines  proline  class  \n",
       "173                          1.74    740.0      2  \n",
       "174                          1.56    750.0      2  \n",
       "175                          1.56    835.0      2  \n",
       "176                          1.62    840.0      2  \n",
       "177                          1.60    560.0      2  "
      ]
     },
     "execution_count": 55,
     "metadata": {},
     "output_type": "execute_result"
    }
   ],
   "source": [
    "df = pd.DataFrame(wine.data, columns=wine.feature_names)\n",
    "df['class'] = wine.target\n",
    "df.tail()"
   ]
  },
  {
   "cell_type": "code",
   "execution_count": 56,
   "metadata": {},
   "outputs": [
    {
     "data": {
      "text/plain": [
       "(178, 14)"
      ]
     },
     "execution_count": 56,
     "metadata": {},
     "output_type": "execute_result"
    }
   ],
   "source": [
    "df.shape"
   ]
  },
  {
   "cell_type": "code",
   "execution_count": 57,
   "metadata": {},
   "outputs": [],
   "source": [
    "X = df.iloc[:,0:13]\n",
    "y = df.iloc[:,13]"
   ]
  },
  {
   "cell_type": "code",
   "execution_count": 58,
   "metadata": {},
   "outputs": [
    {
     "data": {
      "text/plain": [
       "1    71\n",
       "0    59\n",
       "2    48\n",
       "Name: class, dtype: int64"
      ]
     },
     "execution_count": 58,
     "metadata": {},
     "output_type": "execute_result"
    }
   ],
   "source": [
    "# y 레이블이 3개이므로 다중분류일것이다.\n",
    "pd.Series(y).value_counts()"
   ]
  },
  {
   "cell_type": "code",
   "execution_count": 59,
   "metadata": {
    "scrolled": true
   },
   "outputs": [
    {
     "name": "stdout",
     "output_type": "stream",
     "text": [
      "Train on 178 samples\n",
      "Epoch 1/20\n",
      "178/178 [==============================] - 0s 1ms/sample - loss: 534.1288 - accuracy: 0.8820\n",
      "Epoch 2/20\n",
      "178/178 [==============================] - 0s 73us/sample - loss: 1219.9423 - accuracy: 0.3315\n",
      "Epoch 3/20\n",
      "178/178 [==============================] - 0s 73us/sample - loss: 1.1011 - accuracy: 0.3315\n",
      "Epoch 4/20\n",
      "178/178 [==============================] - 0s 78us/sample - loss: 1.0999 - accuracy: 0.3315\n",
      "Epoch 5/20\n",
      "178/178 [==============================] - 0s 90us/sample - loss: 1.0989 - accuracy: 0.3315\n",
      "Epoch 6/20\n",
      "178/178 [==============================] - 0s 84us/sample - loss: 1.0980 - accuracy: 0.3427\n",
      "Epoch 7/20\n",
      "178/178 [==============================] - 0s 73us/sample - loss: 1.0971 - accuracy: 0.3989\n",
      "Epoch 8/20\n",
      "178/178 [==============================] - 0s 84us/sample - loss: 1.0964 - accuracy: 0.3989\n",
      "Epoch 9/20\n",
      "178/178 [==============================] - 0s 84us/sample - loss: 1.0957 - accuracy: 0.3989\n",
      "Epoch 10/20\n",
      "178/178 [==============================] - 0s 84us/sample - loss: 1.0951 - accuracy: 0.3989\n",
      "Epoch 11/20\n",
      "178/178 [==============================] - 0s 78us/sample - loss: 1.0946 - accuracy: 0.3989\n",
      "Epoch 12/20\n",
      "178/178 [==============================] - 0s 78us/sample - loss: 1.0941 - accuracy: 0.3989\n",
      "Epoch 13/20\n",
      "178/178 [==============================] - 0s 73us/sample - loss: 1.0937 - accuracy: 0.3989\n",
      "Epoch 14/20\n",
      "178/178 [==============================] - 0s 78us/sample - loss: 1.0933 - accuracy: 0.3989\n",
      "Epoch 15/20\n",
      "178/178 [==============================] - 0s 78us/sample - loss: 1.0930 - accuracy: 0.3989\n",
      "Epoch 16/20\n",
      "178/178 [==============================] - 0s 90us/sample - loss: 1.0927 - accuracy: 0.3989\n",
      "Epoch 17/20\n",
      "178/178 [==============================] - 0s 90us/sample - loss: 1.0924 - accuracy: 0.3989\n",
      "Epoch 18/20\n",
      "178/178 [==============================] - 0s 84us/sample - loss: 1.0921 - accuracy: 0.3989\n",
      "Epoch 19/20\n",
      "178/178 [==============================] - 0s 78us/sample - loss: 1.0919 - accuracy: 0.3989\n",
      "Epoch 20/20\n",
      "178/178 [==============================] - 0s 78us/sample - loss: 1.0917 - accuracy: 0.3989\n"
     ]
    }
   ],
   "source": [
    "# 모델구성\n",
    "model = keras.Sequential()\n",
    "model.add(keras.layers.Dense(20,input_dim=13, activation='relu')) \n",
    "model.add(keras.layers.Dense(10,activation='relu')) # hidden layer\n",
    "model.add(keras.layers.Dense(3,activation = 'softmax')) \n",
    "# multi class 분류이므로 output은 3, 여기에서는 softmax 를 써주어야한다.\n",
    "\n",
    "# 모델 컴파일\n",
    "sgd = keras.optimizers.SGD(lr=0.01) # optimizer 정의\n",
    "model.compile(optimizer = sgd,  # 최적화는 sgd 사용\n",
    "              loss='sparse_categorical_crossentropy',  # y lable 이 ont-hot encoding 된 상태가 아니기떄문에 sparse 사용\n",
    "              metrics=['accuracy']) \n",
    "# 모델학습\n",
    "fit = model.fit(X, y, \n",
    "          batch_size=10, # 데이터 셋이 있을때 몇개씩 묶어서 볼것인가\n",
    "          epochs= 20, # 10번 학습을 시키겠다는뜻\n",
    "          shuffle =False)"
   ]
  },
  {
   "cell_type": "code",
   "execution_count": 60,
   "metadata": {
    "scrolled": true
   },
   "outputs": [
    {
     "name": "stdout",
     "output_type": "stream",
     "text": [
      "Model: \"sequential_8\"\n",
      "_________________________________________________________________\n",
      "Layer (type)                 Output Shape              Param #   \n",
      "=================================================================\n",
      "dense_8 (Dense)              (None, 20)                280       \n",
      "_________________________________________________________________\n",
      "dense_9 (Dense)              (None, 10)                210       \n",
      "_________________________________________________________________\n",
      "dense_10 (Dense)             (None, 3)                 33        \n",
      "=================================================================\n",
      "Total params: 523\n",
      "Trainable params: 523\n",
      "Non-trainable params: 0\n",
      "_________________________________________________________________\n"
     ]
    }
   ],
   "source": [
    "model.summary() #모델 자체는 좀 안좋은거같다.... 데이터가 너무 적어서 그런듯? 특성도 많고 데이터도 좀 어렵구.. "
   ]
  },
  {
   "cell_type": "markdown",
   "metadata": {},
   "source": [
    "## iris 데이터 꽃 유형분류 연습"
   ]
  },
  {
   "cell_type": "code",
   "execution_count": 61,
   "metadata": {},
   "outputs": [],
   "source": [
    "from sklearn.datasets import load_iris\n",
    "data = load_iris()"
   ]
  },
  {
   "cell_type": "code",
   "execution_count": 62,
   "metadata": {},
   "outputs": [],
   "source": [
    "X = data.data\n",
    "y = data.target"
   ]
  },
  {
   "cell_type": "code",
   "execution_count": 63,
   "metadata": {},
   "outputs": [
    {
     "data": {
      "text/plain": [
       "2    50\n",
       "1    50\n",
       "0    50\n",
       "dtype: int64"
      ]
     },
     "execution_count": 63,
     "metadata": {},
     "output_type": "execute_result"
    }
   ],
   "source": [
    "pd.Series(y).value_counts()"
   ]
  },
  {
   "cell_type": "code",
   "execution_count": 64,
   "metadata": {
    "scrolled": true
   },
   "outputs": [],
   "source": [
    "model = keras.models.Sequential()\n",
    "model.add(keras.layers.Dense(16,input_dim=4,activation='relu'))\n",
    "model.add(keras.layers.Dense(3,activation = 'softmax')) \n",
    "# y 카테로리가 3개이므로 output 에 3 을 넣었다.\n",
    "# 다중 카테고리 분류에서는 activation 이 softmax 함수를 맨 마지막에 넣어주어야한다.\n",
    "model.compile(loss='sparse_categorical_crossentropy',\n",
    "              optimizer= 'adam',\n",
    "              metrics=['accuracy'])\n",
    "fit = model.fit(X,y, epochs=100, batch_size = 10,verbose = 0) \n",
    "#verbose = 0 은 학습과정 보기 싫을떄."
   ]
  },
  {
   "cell_type": "markdown",
   "metadata": {},
   "source": [
    "### 데이터 label encoder 하기"
   ]
  },
  {
   "cell_type": "code",
   "execution_count": 65,
   "metadata": {},
   "outputs": [],
   "source": [
    "from sklearn.preprocessing import LabelEncoder"
   ]
  },
  {
   "cell_type": "code",
   "execution_count": 66,
   "metadata": {},
   "outputs": [],
   "source": [
    "#label encoder\n",
    "xx = np.array(['dog','cat','bird','fish'])"
   ]
  },
  {
   "cell_type": "code",
   "execution_count": 67,
   "metadata": {},
   "outputs": [
    {
     "name": "stdout",
     "output_type": "stream",
     "text": [
      "[2 1 0 3]\n"
     ]
    }
   ],
   "source": [
    "encoder = LabelEncoder()\n",
    "encoder.fit(xx)\n",
    "yy = encoder.transform(xx)\n",
    "print(yy)"
   ]
  },
  {
   "cell_type": "code",
   "execution_count": 68,
   "metadata": {},
   "outputs": [
    {
     "name": "stdout",
     "output_type": "stream",
     "text": [
      "['dog' 'cat' 'bird' 'fish']\n"
     ]
    }
   ],
   "source": [
    "# encoder 를 거꾸로 실행\n",
    "print(encoder.inverse_transform(yy))"
   ]
  },
  {
   "cell_type": "code",
   "execution_count": 69,
   "metadata": {},
   "outputs": [
    {
     "name": "stderr",
     "output_type": "stream",
     "text": [
      "Using TensorFlow backend.\n"
     ]
    }
   ],
   "source": [
    "# one hot encoding\n",
    "from keras.utils import np_utils\n",
    "YY = np_utils.to_categorical(yy)"
   ]
  },
  {
   "cell_type": "code",
   "execution_count": 70,
   "metadata": {
    "scrolled": true
   },
   "outputs": [
    {
     "name": "stdout",
     "output_type": "stream",
     "text": [
      "[[0. 0. 1. 0.]\n",
      " [0. 1. 0. 0.]\n",
      " [1. 0. 0. 0.]\n",
      " [0. 0. 0. 1.]]\n"
     ]
    }
   ],
   "source": [
    "print(YY)"
   ]
  },
  {
   "cell_type": "markdown",
   "metadata": {},
   "source": [
    "### 데이터 one hot encoder 해서 분류하기"
   ]
  },
  {
   "cell_type": "code",
   "execution_count": 71,
   "metadata": {},
   "outputs": [],
   "source": [
    "# label encoder \n",
    "# 값들이 수치형이 아니라 categorical 일때에 one hot encoder 를 위해 수치형으로 변환해야한다.\n",
    "# 물론 지금은 y data 가 0,1,2 로 이쁘게 되어있지만 안 그런 경우가 더 많다.\n",
    "from sklearn.preprocessing import LabelEncoder\n",
    "encoder = LabelEncoder() # 객채선안\n",
    "encoder.fit(y) # fit method\n",
    "y = encoder.transform(y) # transform method"
   ]
  },
  {
   "cell_type": "code",
   "execution_count": 72,
   "metadata": {},
   "outputs": [],
   "source": [
    "# onehot encoder\n",
    "from keras.utils import np_utils\n",
    "y = np_utils.to_categorical(y)"
   ]
  },
  {
   "cell_type": "code",
   "execution_count": 73,
   "metadata": {},
   "outputs": [
    {
     "data": {
      "text/plain": [
       "array([[1., 0., 0.],\n",
       "       [1., 0., 0.],\n",
       "       [1., 0., 0.],\n",
       "       [1., 0., 0.],\n",
       "       [1., 0., 0.],\n",
       "       [1., 0., 0.],\n",
       "       [1., 0., 0.],\n",
       "       [1., 0., 0.],\n",
       "       [1., 0., 0.],\n",
       "       [1., 0., 0.],\n",
       "       [1., 0., 0.],\n",
       "       [1., 0., 0.],\n",
       "       [1., 0., 0.],\n",
       "       [1., 0., 0.],\n",
       "       [1., 0., 0.],\n",
       "       [1., 0., 0.],\n",
       "       [1., 0., 0.],\n",
       "       [1., 0., 0.],\n",
       "       [1., 0., 0.],\n",
       "       [1., 0., 0.],\n",
       "       [1., 0., 0.],\n",
       "       [1., 0., 0.],\n",
       "       [1., 0., 0.],\n",
       "       [1., 0., 0.],\n",
       "       [1., 0., 0.],\n",
       "       [1., 0., 0.],\n",
       "       [1., 0., 0.],\n",
       "       [1., 0., 0.],\n",
       "       [1., 0., 0.],\n",
       "       [1., 0., 0.],\n",
       "       [1., 0., 0.],\n",
       "       [1., 0., 0.],\n",
       "       [1., 0., 0.],\n",
       "       [1., 0., 0.],\n",
       "       [1., 0., 0.],\n",
       "       [1., 0., 0.],\n",
       "       [1., 0., 0.],\n",
       "       [1., 0., 0.],\n",
       "       [1., 0., 0.],\n",
       "       [1., 0., 0.],\n",
       "       [1., 0., 0.],\n",
       "       [1., 0., 0.],\n",
       "       [1., 0., 0.],\n",
       "       [1., 0., 0.],\n",
       "       [1., 0., 0.],\n",
       "       [1., 0., 0.],\n",
       "       [1., 0., 0.],\n",
       "       [1., 0., 0.],\n",
       "       [1., 0., 0.],\n",
       "       [1., 0., 0.],\n",
       "       [0., 1., 0.],\n",
       "       [0., 1., 0.],\n",
       "       [0., 1., 0.],\n",
       "       [0., 1., 0.],\n",
       "       [0., 1., 0.],\n",
       "       [0., 1., 0.],\n",
       "       [0., 1., 0.],\n",
       "       [0., 1., 0.],\n",
       "       [0., 1., 0.],\n",
       "       [0., 1., 0.],\n",
       "       [0., 1., 0.],\n",
       "       [0., 1., 0.],\n",
       "       [0., 1., 0.],\n",
       "       [0., 1., 0.],\n",
       "       [0., 1., 0.],\n",
       "       [0., 1., 0.],\n",
       "       [0., 1., 0.],\n",
       "       [0., 1., 0.],\n",
       "       [0., 1., 0.],\n",
       "       [0., 1., 0.],\n",
       "       [0., 1., 0.],\n",
       "       [0., 1., 0.],\n",
       "       [0., 1., 0.],\n",
       "       [0., 1., 0.],\n",
       "       [0., 1., 0.],\n",
       "       [0., 1., 0.],\n",
       "       [0., 1., 0.],\n",
       "       [0., 1., 0.],\n",
       "       [0., 1., 0.],\n",
       "       [0., 1., 0.],\n",
       "       [0., 1., 0.],\n",
       "       [0., 1., 0.],\n",
       "       [0., 1., 0.],\n",
       "       [0., 1., 0.],\n",
       "       [0., 1., 0.],\n",
       "       [0., 1., 0.],\n",
       "       [0., 1., 0.],\n",
       "       [0., 1., 0.],\n",
       "       [0., 1., 0.],\n",
       "       [0., 1., 0.],\n",
       "       [0., 1., 0.],\n",
       "       [0., 1., 0.],\n",
       "       [0., 1., 0.],\n",
       "       [0., 1., 0.],\n",
       "       [0., 1., 0.],\n",
       "       [0., 1., 0.],\n",
       "       [0., 1., 0.],\n",
       "       [0., 1., 0.],\n",
       "       [0., 1., 0.],\n",
       "       [0., 1., 0.],\n",
       "       [0., 0., 1.],\n",
       "       [0., 0., 1.],\n",
       "       [0., 0., 1.],\n",
       "       [0., 0., 1.],\n",
       "       [0., 0., 1.],\n",
       "       [0., 0., 1.],\n",
       "       [0., 0., 1.],\n",
       "       [0., 0., 1.],\n",
       "       [0., 0., 1.],\n",
       "       [0., 0., 1.],\n",
       "       [0., 0., 1.],\n",
       "       [0., 0., 1.],\n",
       "       [0., 0., 1.],\n",
       "       [0., 0., 1.],\n",
       "       [0., 0., 1.],\n",
       "       [0., 0., 1.],\n",
       "       [0., 0., 1.],\n",
       "       [0., 0., 1.],\n",
       "       [0., 0., 1.],\n",
       "       [0., 0., 1.],\n",
       "       [0., 0., 1.],\n",
       "       [0., 0., 1.],\n",
       "       [0., 0., 1.],\n",
       "       [0., 0., 1.],\n",
       "       [0., 0., 1.],\n",
       "       [0., 0., 1.],\n",
       "       [0., 0., 1.],\n",
       "       [0., 0., 1.],\n",
       "       [0., 0., 1.],\n",
       "       [0., 0., 1.],\n",
       "       [0., 0., 1.],\n",
       "       [0., 0., 1.],\n",
       "       [0., 0., 1.],\n",
       "       [0., 0., 1.],\n",
       "       [0., 0., 1.],\n",
       "       [0., 0., 1.],\n",
       "       [0., 0., 1.],\n",
       "       [0., 0., 1.],\n",
       "       [0., 0., 1.],\n",
       "       [0., 0., 1.],\n",
       "       [0., 0., 1.],\n",
       "       [0., 0., 1.],\n",
       "       [0., 0., 1.],\n",
       "       [0., 0., 1.],\n",
       "       [0., 0., 1.],\n",
       "       [0., 0., 1.],\n",
       "       [0., 0., 1.],\n",
       "       [0., 0., 1.],\n",
       "       [0., 0., 1.],\n",
       "       [0., 0., 1.]], dtype=float32)"
      ]
     },
     "execution_count": 73,
     "metadata": {},
     "output_type": "execute_result"
    }
   ],
   "source": [
    "y"
   ]
  },
  {
   "cell_type": "code",
   "execution_count": 74,
   "metadata": {},
   "outputs": [],
   "source": [
    "model = keras.models.Sequential()\n",
    "model.add(keras.layers.Dense(16,input_dim=4,activation='relu'))\n",
    "model.add(keras.layers.Dense(3,activation = 'softmax')) \n",
    "# y 카테로리가 3개이므로 output 에 3 을 넣었다.\n",
    "# 다중 카테고리 분류에서는 activation 이 softmax 함수를 맨 마지막에 넣어주어야한다.\n",
    "model.compile(loss='categorical_crossentropy', # one hot encoding 되었으므로 이 loss 를 써주어야 ㅎ나다.\n",
    "              optimizer= 'adam',\n",
    "              metrics=['accuracy'])\n",
    "fit = model.fit(X,y, epochs=100, batch_size = 10,verbose = 0) \n",
    "#verbose = 0 은 학습과정 보기 싫을떄."
   ]
  },
  {
   "cell_type": "markdown",
   "metadata": {},
   "source": [
    "## 이미지 분류기"
   ]
  },
  {
   "cell_type": "markdown",
   "metadata": {},
   "source": [
    "### 데이터 전처리 및 데이터 살펴보기"
   ]
  },
  {
   "cell_type": "code",
   "execution_count": 75,
   "metadata": {},
   "outputs": [],
   "source": [
    "#MNIST 데이터셋 load 하기. 이미 train/test set 이 나누어져있는 상태이기떄문에 data load 할떄에 train/test 를 모두 로드하자.\n",
    "fashion_mnist = keras.datasets.fashion_mnist\n",
    "(X_train_full, y_train_full), (X_test, y_test) = fashion_mnist.load_data()"
   ]
  },
  {
   "cell_type": "code",
   "execution_count": 76,
   "metadata": {},
   "outputs": [
    {
     "data": {
      "text/plain": [
       "(60000, 28, 28)"
      ]
     },
     "execution_count": 76,
     "metadata": {},
     "output_type": "execute_result"
    }
   ],
   "source": [
    "# 훈련 세트는 60,000개의 흑백 이미지입니다. 각 이미지의 크기는 28x28 픽셀입니다:\n",
    "X_train_full.shape"
   ]
  },
  {
   "cell_type": "code",
   "execution_count": 77,
   "metadata": {},
   "outputs": [
    {
     "data": {
      "text/plain": [
       "dtype('uint8')"
      ]
     },
     "execution_count": 77,
     "metadata": {},
     "output_type": "execute_result"
    }
   ],
   "source": [
    "# 각 픽셀의 강도는 바이트(0~255)로 표현된다.\n",
    "X_train_full.dtype"
   ]
  },
  {
   "cell_type": "code",
   "execution_count": 78,
   "metadata": {},
   "outputs": [],
   "source": [
    "# 전체 훈련 세트를 valid set 과 train set 으로 나누자. (학습에 대한 추이를 보기 위함.)\n",
    "# 그리고 픽셀의 강도를 0~1 의 값을 가지도록 설정하자. \n",
    "X_valid, X_train = X_train_full[:5000] / 255., X_train_full[5000:] / 255.\n",
    "y_valid, y_train = y_train_full[:5000], y_train_full[5000:]\n",
    "X_test = X_test / 255."
   ]
  },
  {
   "cell_type": "code",
   "execution_count": 79,
   "metadata": {},
   "outputs": [
    {
     "data": {
      "image/png": "[encoded data removed]",
      "text/plain": [
       "<Figure size 432x288 with 1 Axes>"
      ]
     },
     "metadata": {
      "needs_background": "light"
     },
     "output_type": "display_data"
    }
   ],
   "source": [
    "#맷플롯립의 `imshow()` 함수와 `'binary'` 컬러맵을 사용해 이미지를 출력할 수 있습니다:\n",
    "plt.imshow(X_train[0], cmap=\"binary\")\n",
    "plt.axis('off') # axis 를 off 해서 없애자.\n",
    "plt.show()"
   ]
  },
  {
   "cell_type": "code",
   "execution_count": 80,
   "metadata": {},
   "outputs": [
    {
     "data": {
      "text/plain": [
       "array([4, 0, 7, ..., 3, 0, 5], dtype=uint8)"
      ]
     },
     "execution_count": 80,
     "metadata": {},
     "output_type": "execute_result"
    }
   ],
   "source": [
    "# 레이블은 0에서 9까지 (uint8로 표현된) 클래스 아이디 이다.\n",
    "y_train"
   ]
  },
  {
   "cell_type": "code",
   "execution_count": 81,
   "metadata": {},
   "outputs": [],
   "source": [
    "# 클래스 이름은 다음과 같습니다:\n",
    "class_names = [\"T-shirt/top\", \"Trouser\", \"Pullover\", \"Dress\", \"Coat\",\n",
    "               \"Sandal\", \"Shirt\", \"Sneaker\", \"Bag\", \"Ankle boot\"]"
   ]
  },
  {
   "cell_type": "code",
   "execution_count": 82,
   "metadata": {},
   "outputs": [
    {
     "data": {
      "text/plain": [
       "'Coat'"
      ]
     },
     "execution_count": 82,
     "metadata": {},
     "output_type": "execute_result"
    }
   ],
   "source": [
    "# 훈련 세트에 있는 첫 번째 이미지는 코트이다.\n",
    "class_names[y_train[0]]"
   ]
  },
  {
   "cell_type": "code",
   "execution_count": 83,
   "metadata": {},
   "outputs": [
    {
     "data": {
      "text/plain": [
       "(5000, 28, 28)"
      ]
     },
     "execution_count": 83,
     "metadata": {},
     "output_type": "execute_result"
    }
   ],
   "source": [
    "#검증 세트는 5,000개의 이미지를 담고 있고 테스트 세트는 10,000개의 이미지를 가집니다:\n",
    "X_valid.shape"
   ]
  },
  {
   "cell_type": "code",
   "execution_count": 84,
   "metadata": {},
   "outputs": [
    {
     "data": {
      "text/plain": [
       "(10000, 28, 28)"
      ]
     },
     "execution_count": 84,
     "metadata": {},
     "output_type": "execute_result"
    }
   ],
   "source": [
    "X_test.shape"
   ]
  },
  {
   "cell_type": "code",
   "execution_count": 85,
   "metadata": {
    "scrolled": true
   },
   "outputs": [
    {
     "data": {
      "image/png": "[encoded data removed]",
      "text/plain": [
       "<Figure size 864x345.6 with 40 Axes>"
      ]
     },
     "metadata": {
      "needs_background": "light"
     },
     "output_type": "display_data"
    }
   ],
   "source": [
    "# 이 데이터셋에 있는 샘플 이미지를 몇 개 출력해 보자,\n",
    "n_rows = 4\n",
    "n_cols = 10\n",
    "plt.figure(figsize=(n_cols * 1.2, n_rows * 1.2))\n",
    "for row in range(n_rows):\n",
    "    for col in range(n_cols):\n",
    "        index = n_cols * row + col\n",
    "        plt.subplot(n_rows, n_cols, index + 1)\n",
    "        plt.imshow(X_train[index], cmap=\"binary\", interpolation=\"nearest\")\n",
    "        plt.axis('off')\n",
    "        plt.title(class_names[y_train[index]], fontsize=12)\n",
    "plt.subplots_adjust(wspace=0.2, hspace=0.5)\n",
    "plt.show()"
   ]
  },
  {
   "cell_type": "markdown",
   "metadata": {},
   "source": [
    "### 모델 구성하기"
   ]
  },
  {
   "cell_type": "code",
   "execution_count": 86,
   "metadata": {},
   "outputs": [
    {
     "name": "stdout",
     "output_type": "stream",
     "text": [
      "Model: \"sequential_11\"\n",
      "_________________________________________________________________\n",
      "Layer (type)                 Output Shape              Param #   \n",
      "=================================================================\n",
      "flatten (Flatten)            (None, 784)               0         \n",
      "_________________________________________________________________\n",
      "dense_15 (Dense)             (None, 300)               235500    \n",
      "_________________________________________________________________\n",
      "dense_16 (Dense)             (None, 100)               30100     \n",
      "_________________________________________________________________\n",
      "dense_17 (Dense)             (None, 10)                1010      \n",
      "=================================================================\n",
      "Total params: 266,610\n",
      "Trainable params: 266,610\n",
      "Non-trainable params: 0\n",
      "_________________________________________________________________\n"
     ]
    }
   ],
   "source": [
    "model = keras.models.Sequential() \n",
    "model.add(keras.layers.Flatten(input_shape=[28, 28])) # flatten 층은 입력 이미지를 1d vector 로 변환한다.\n",
    "model.add(keras.layers.Dense(300, activation=\"relu\"))# 뉴런 300 개를 가지는 hidden layer 를 추가한다. # activation 은 relu 사용\n",
    "model.add(keras.layers.Dense(100, activation=\"relu\"))# 이번에는 뉴런 100개를 가지는 hidden layer 를 또 추가한다.\n",
    "model.add(keras.layers.Dense(10, activation=\"softmax\"))# 마지막 출력은 다중 lable 문제이므로 softmax 를 사용한다.\n",
    "model.summary()"
   ]
  },
  {
   "cell_type": "code",
   "execution_count": 87,
   "metadata": {},
   "outputs": [
    {
     "name": "stdout",
     "output_type": "stream",
     "text": [
      "Model: \"sequential_12\"\n",
      "_________________________________________________________________\n",
      "Layer (type)                 Output Shape              Param #   \n",
      "=================================================================\n",
      "dense_18 (Dense)             (None, 28, 300)           8700      \n",
      "_________________________________________________________________\n",
      "dense_19 (Dense)             (None, 28, 100)           30100     \n",
      "_________________________________________________________________\n",
      "dense_20 (Dense)             (None, 28, 10)            1010      \n",
      "=================================================================\n",
      "Total params: 39,810\n",
      "Trainable params: 39,810\n",
      "Non-trainable params: 0\n",
      "_________________________________________________________________\n"
     ]
    }
   ],
   "source": [
    "# flatten 이 없으면 이렇게 첫 28*28 의 x 데이터를 모두 활용하지 못하게 된다.\n",
    "model1 = keras.models.Sequential()\n",
    "model1.add(keras.layers.Dense(300,activation='relu',input_shape=[28,28]))\n",
    "model1.add(keras.layers.Dense(100,activation='relu'))\n",
    "model1.add(keras.layers.Dense(10,activation='softmax'))\n",
    "model1.summary()"
   ]
  },
  {
   "cell_type": "code",
   "execution_count": 88,
   "metadata": {},
   "outputs": [],
   "source": [
    "keras.backend.clear_session() # tf.keras.backend.clear_session(). Resets all state generated by Keras.\n",
    "np.random.seed(42) # 재현성을 높히기 위해 random 고정\n",
    "tf.random.set_seed(42) # same as above"
   ]
  },
  {
   "cell_type": "code",
   "execution_count": 89,
   "metadata": {},
   "outputs": [],
   "source": [
    "# 이런식으로도 구성할 수 있다.  나는 맨 위 방법이 층을 쌓아간다는 느낌이 더 강해서 더 좋은거같다.\n",
    "model = keras.models.Sequential([\n",
    "    keras.layers.Flatten(input_shape=[28, 28]),\n",
    "    keras.layers.Dense(300, activation=\"relu\"),\n",
    "    keras.layers.Dense(100, activation=\"relu\"),\n",
    "    keras.layers.Dense(10, activation=\"softmax\")\n",
    "])"
   ]
  },
  {
   "cell_type": "markdown",
   "metadata": {},
   "source": [
    "### 모델 살펴보기"
   ]
  },
  {
   "cell_type": "code",
   "execution_count": 90,
   "metadata": {
    "scrolled": true
   },
   "outputs": [
    {
     "name": "stdout",
     "output_type": "stream",
     "text": [
      "Model: \"sequential\"\n",
      "_________________________________________________________________\n",
      "Layer (type)                 Output Shape              Param #   \n",
      "=================================================================\n",
      "flatten (Flatten)            (None, 784)               0         \n",
      "_________________________________________________________________\n",
      "dense (Dense)                (None, 300)               235500    \n",
      "_________________________________________________________________\n",
      "dense_1 (Dense)              (None, 100)               30100     \n",
      "_________________________________________________________________\n",
      "dense_2 (Dense)              (None, 10)                1010      \n",
      "=================================================================\n",
      "Total params: 266,610\n",
      "Trainable params: 266,610\n",
      "Non-trainable params: 0\n",
      "_________________________________________________________________\n"
     ]
    }
   ],
   "source": [
    "model.summary()\n",
    "# 파라미터가 매우 많다. 모델이 유연하다는 의미도 있지만, 과대적합의 위험도 있다. "
   ]
  },
  {
   "cell_type": "code",
   "execution_count": 91,
   "metadata": {},
   "outputs": [
    {
     "data": {
      "text/plain": [
       "[<tensorflow.python.keras.layers.core.Flatten at 0x162bedcb5c8>,\n",
       " <tensorflow.python.keras.layers.core.Dense at 0x162bedcb908>,\n",
       " <tensorflow.python.keras.layers.core.Dense at 0x162bedcbbc8>,\n",
       " <tensorflow.python.keras.layers.core.Dense at 0x162bedcbd48>]"
      ]
     },
     "execution_count": 91,
     "metadata": {},
     "output_type": "execute_result"
    }
   ],
   "source": [
    "# 레이어 살펴보기\n",
    "model.layers"
   ]
  },
  {
   "cell_type": "code",
   "execution_count": 92,
   "metadata": {},
   "outputs": [
    {
     "data": {
      "text/plain": [
       "'dense'"
      ]
     },
     "execution_count": 92,
     "metadata": {},
     "output_type": "execute_result"
    }
   ],
   "source": [
    "#레이어를 선택할 수 있다.\n",
    "hidden1 = model.layers[1]\n",
    "hidden1.name"
   ]
  },
  {
   "cell_type": "code",
   "execution_count": 93,
   "metadata": {},
   "outputs": [],
   "source": [
    "# get_wights() method 를 통해서 모든 층의 파라미터를 조사할 수 있다.\n",
    "weights, biases = hidden1.get_weights() # dense 층의 경우 연결 가중치(w) 와 편향(b) 가 모두 표시된다."
   ]
  },
  {
   "cell_type": "code",
   "execution_count": 94,
   "metadata": {},
   "outputs": [
    {
     "data": {
      "text/plain": [
       "array([[ 0.02448617, -0.00877795, -0.02189048, ..., -0.02766046,\n",
       "         0.03859074, -0.06889391],\n",
       "       [ 0.00476504, -0.03105379, -0.0586676 , ...,  0.00602964,\n",
       "        -0.02763776, -0.04165364],\n",
       "       [-0.06189284, -0.06901957,  0.07102345, ..., -0.04238207,\n",
       "         0.07121518, -0.07331658],\n",
       "       ...,\n",
       "       [-0.03048757,  0.02155137, -0.05400612, ..., -0.00113463,\n",
       "         0.00228987,  0.05581069],\n",
       "       [ 0.07061854, -0.06960931,  0.07038955, ..., -0.00384101,\n",
       "         0.00034875,  0.02878492],\n",
       "       [-0.06022581,  0.01577859, -0.02585464, ..., -0.00527829,\n",
       "         0.00272203, -0.06793761]], dtype=float32)"
      ]
     },
     "execution_count": 94,
     "metadata": {},
     "output_type": "execute_result"
    }
   ],
   "source": [
    "weights"
   ]
  },
  {
   "cell_type": "code",
   "execution_count": 95,
   "metadata": {},
   "outputs": [
    {
     "data": {
      "text/plain": [
       "(784, 300)"
      ]
     },
     "execution_count": 95,
     "metadata": {},
     "output_type": "execute_result"
    }
   ],
   "source": [
    "weights.shape"
   ]
  },
  {
   "cell_type": "code",
   "execution_count": 96,
   "metadata": {},
   "outputs": [
    {
     "data": {
      "text/plain": [
       "array([0., 0., 0., 0., 0., 0., 0., 0., 0., 0., 0., 0., 0., 0., 0., 0., 0.,\n",
       "       0., 0., 0., 0., 0., 0., 0., 0., 0., 0., 0., 0., 0., 0., 0., 0., 0.,\n",
       "       0., 0., 0., 0., 0., 0., 0., 0., 0., 0., 0., 0., 0., 0., 0., 0., 0.,\n",
       "       0., 0., 0., 0., 0., 0., 0., 0., 0., 0., 0., 0., 0., 0., 0., 0., 0.,\n",
       "       0., 0., 0., 0., 0., 0., 0., 0., 0., 0., 0., 0., 0., 0., 0., 0., 0.,\n",
       "       0., 0., 0., 0., 0., 0., 0., 0., 0., 0., 0., 0., 0., 0., 0., 0., 0.,\n",
       "       0., 0., 0., 0., 0., 0., 0., 0., 0., 0., 0., 0., 0., 0., 0., 0., 0.,\n",
       "       0., 0., 0., 0., 0., 0., 0., 0., 0., 0., 0., 0., 0., 0., 0., 0., 0.,\n",
       "       0., 0., 0., 0., 0., 0., 0., 0., 0., 0., 0., 0., 0., 0., 0., 0., 0.,\n",
       "       0., 0., 0., 0., 0., 0., 0., 0., 0., 0., 0., 0., 0., 0., 0., 0., 0.,\n",
       "       0., 0., 0., 0., 0., 0., 0., 0., 0., 0., 0., 0., 0., 0., 0., 0., 0.,\n",
       "       0., 0., 0., 0., 0., 0., 0., 0., 0., 0., 0., 0., 0., 0., 0., 0., 0.,\n",
       "       0., 0., 0., 0., 0., 0., 0., 0., 0., 0., 0., 0., 0., 0., 0., 0., 0.,\n",
       "       0., 0., 0., 0., 0., 0., 0., 0., 0., 0., 0., 0., 0., 0., 0., 0., 0.,\n",
       "       0., 0., 0., 0., 0., 0., 0., 0., 0., 0., 0., 0., 0., 0., 0., 0., 0.,\n",
       "       0., 0., 0., 0., 0., 0., 0., 0., 0., 0., 0., 0., 0., 0., 0., 0., 0.,\n",
       "       0., 0., 0., 0., 0., 0., 0., 0., 0., 0., 0., 0., 0., 0., 0., 0., 0.,\n",
       "       0., 0., 0., 0., 0., 0., 0., 0., 0., 0., 0.], dtype=float32)"
      ]
     },
     "execution_count": 96,
     "metadata": {},
     "output_type": "execute_result"
    }
   ],
   "source": [
    "biases"
   ]
  },
  {
   "cell_type": "code",
   "execution_count": 97,
   "metadata": {},
   "outputs": [
    {
     "data": {
      "text/plain": [
       "(300,)"
      ]
     },
     "execution_count": 97,
     "metadata": {},
     "output_type": "execute_result"
    }
   ],
   "source": [
    "biases.shape"
   ]
  },
  {
   "cell_type": "code",
   "execution_count": 98,
   "metadata": {},
   "outputs": [],
   "source": [
    "model.compile(loss=\"sparse_categorical_crossentropy\", \n",
    "              # y variable 이 원 핫 인코딩이 아닌 상태에서 cross entropy 를 계산하는 loss , 즉 그냥 corss entropy 라고 생각하자\n",
    "              # 여기서는 정답 레이블이 0~9 인 1dim vector 이므로 sparse 를 사용\n",
    "              optimizer=\"sgd\",\n",
    "              metrics=[\"accuracy\"]) "
   ]
  },
  {
   "cell_type": "code",
   "execution_count": 99,
   "metadata": {},
   "outputs": [
    {
     "name": "stdout",
     "output_type": "stream",
     "text": [
      "Train on 55000 samples, validate on 5000 samples\n",
      "Epoch 1/30\n",
      "55000/55000 [==============================] - 3s 56us/sample - loss: 0.7226 - accuracy: 0.7642 - val_loss: 0.5075 - val_accuracy: 0.8314\n",
      "Epoch 2/30\n",
      "55000/55000 [==============================] - 3s 49us/sample - loss: 0.4843 - accuracy: 0.8321 - val_loss: 0.4538 - val_accuracy: 0.8486\n",
      "Epoch 3/30\n",
      "55000/55000 [==============================] - 3s 49us/sample - loss: 0.4413 - accuracy: 0.8465 - val_loss: 0.4385 - val_accuracy: 0.8490\n",
      "Epoch 4/30\n",
      "55000/55000 [==============================] - 3s 52us/sample - loss: 0.4128 - accuracy: 0.8549 - val_loss: 0.4163 - val_accuracy: 0.8562\n",
      "Epoch 5/30\n",
      "55000/55000 [==============================] - 3s 49us/sample - loss: 0.3926 - accuracy: 0.8617 - val_loss: 0.3817 - val_accuracy: 0.8636\n",
      "Epoch 6/30\n",
      "55000/55000 [==============================] - 3s 50us/sample - loss: 0.3770 - accuracy: 0.8667 - val_loss: 0.3729 - val_accuracy: 0.8680\n",
      "Epoch 7/30\n",
      "55000/55000 [==============================] - 3s 52us/sample - loss: 0.3626 - accuracy: 0.8733 - val_loss: 0.3699 - val_accuracy: 0.8710\n",
      "Epoch 8/30\n",
      "55000/55000 [==============================] - 3s 52us/sample - loss: 0.3517 - accuracy: 0.8749 - val_loss: 0.3666 - val_accuracy: 0.8696\n",
      "Epoch 9/30\n",
      "55000/55000 [==============================] - 3s 51us/sample - loss: 0.3420 - accuracy: 0.8772 - val_loss: 0.3438 - val_accuracy: 0.8786\n",
      "Epoch 10/30\n",
      "55000/55000 [==============================] - 3s 51us/sample - loss: 0.3326 - accuracy: 0.8814 - val_loss: 0.3511 - val_accuracy: 0.8794\n",
      "Epoch 11/30\n",
      "55000/55000 [==============================] - 3s 49us/sample - loss: 0.3241 - accuracy: 0.8835 - val_loss: 0.3357 - val_accuracy: 0.8816\n",
      "Epoch 12/30\n",
      "55000/55000 [==============================] - 3s 47us/sample - loss: 0.3159 - accuracy: 0.8871 - val_loss: 0.3310 - val_accuracy: 0.8846\n",
      "Epoch 13/30\n",
      "55000/55000 [==============================] - 3s 52us/sample - loss: 0.3073 - accuracy: 0.8903 - val_loss: 0.3325 - val_accuracy: 0.8826\n",
      "Epoch 14/30\n",
      "55000/55000 [==============================] - 3s 49us/sample - loss: 0.3017 - accuracy: 0.8920 - val_loss: 0.3243 - val_accuracy: 0.8880\n",
      "Epoch 15/30\n",
      "55000/55000 [==============================] - 3s 48us/sample - loss: 0.2953 - accuracy: 0.8937 - val_loss: 0.3173 - val_accuracy: 0.8892\n",
      "Epoch 16/30\n",
      "55000/55000 [==============================] - 3s 48us/sample - loss: 0.2898 - accuracy: 0.8966 - val_loss: 0.3251 - val_accuracy: 0.8888\n",
      "Epoch 17/30\n",
      "55000/55000 [==============================] - 3s 48us/sample - loss: 0.2833 - accuracy: 0.8987 - val_loss: 0.3178 - val_accuracy: 0.8920\n",
      "Epoch 18/30\n",
      "55000/55000 [==============================] - 3s 48us/sample - loss: 0.2781 - accuracy: 0.8999 - val_loss: 0.3102 - val_accuracy: 0.8908\n",
      "Epoch 19/30\n",
      "55000/55000 [==============================] - 3s 48us/sample - loss: 0.2729 - accuracy: 0.9021 - val_loss: 0.3205 - val_accuracy: 0.8836\n",
      "Epoch 20/30\n",
      "55000/55000 [==============================] - 3s 47us/sample - loss: 0.2680 - accuracy: 0.9044 - val_loss: 0.3219 - val_accuracy: 0.8852\n",
      "Epoch 21/30\n",
      "55000/55000 [==============================] - 3s 48us/sample - loss: 0.2635 - accuracy: 0.9041 - val_loss: 0.3007 - val_accuracy: 0.8944\n",
      "Epoch 22/30\n",
      "55000/55000 [==============================] - 3s 51us/sample - loss: 0.2575 - accuracy: 0.9076 - val_loss: 0.3103 - val_accuracy: 0.8878\n",
      "Epoch 23/30\n",
      "55000/55000 [==============================] - 3s 53us/sample - loss: 0.2538 - accuracy: 0.9084 - val_loss: 0.3001 - val_accuracy: 0.8910\n",
      "Epoch 24/30\n",
      "55000/55000 [==============================] - 3s 53us/sample - loss: 0.2492 - accuracy: 0.9103 - val_loss: 0.3096 - val_accuracy: 0.8870\n",
      "Epoch 25/30\n",
      "55000/55000 [==============================] - 3s 53us/sample - loss: 0.2452 - accuracy: 0.9121 - val_loss: 0.3114 - val_accuracy: 0.8892\n",
      "Epoch 26/30\n",
      "55000/55000 [==============================] - 3s 55us/sample - loss: 0.2408 - accuracy: 0.9145 - val_loss: 0.3263 - val_accuracy: 0.8850\n",
      "Epoch 27/30\n",
      "55000/55000 [==============================] - 3s 52us/sample - loss: 0.2367 - accuracy: 0.9151 - val_loss: 0.3117 - val_accuracy: 0.8852\n",
      "Epoch 28/30\n",
      "55000/55000 [==============================] - 3s 56us/sample - loss: 0.2323 - accuracy: 0.9177 - val_loss: 0.2921 - val_accuracy: 0.8950\n",
      "Epoch 29/30\n",
      "55000/55000 [==============================] - 3s 53us/sample - loss: 0.2288 - accuracy: 0.9190 - val_loss: 0.2970 - val_accuracy: 0.8920\n",
      "Epoch 30/30\n",
      "55000/55000 [==============================] - 3s 51us/sample - loss: 0.2256 - accuracy: 0.9192 - val_loss: 0.3016 - val_accuracy: 0.8902\n"
     ]
    }
   ],
   "source": [
    "history = model.fit(X_train, y_train, epochs=30,\n",
    "                    validation_data=(X_valid, y_valid)) # 이 떄에는 학습의 추이를 살펴보려고 val date를 추가하였다."
   ]
  },
  {
   "cell_type": "code",
   "execution_count": 100,
   "metadata": {},
   "outputs": [
    {
     "data": {
      "text/plain": [
       "{'batch_size': 32,\n",
       " 'epochs': 30,\n",
       " 'steps': 1719,\n",
       " 'samples': 55000,\n",
       " 'verbose': 0,\n",
       " 'do_validation': True,\n",
       " 'metrics': ['loss', 'accuracy', 'val_loss', 'val_accuracy']}"
      ]
     },
     "execution_count": 100,
     "metadata": {},
     "output_type": "execute_result"
    }
   ],
   "source": [
    "history.params #모델적합이 어떻게 이루어졌는지에 대해서 간략하게 history 제공"
   ]
  },
  {
   "cell_type": "code",
   "execution_count": 101,
   "metadata": {},
   "outputs": [
    {
     "data": {
      "text/plain": [
       "dict_keys(['loss', 'accuracy', 'val_loss', 'val_accuracy'])"
      ]
     },
     "execution_count": 101,
     "metadata": {},
     "output_type": "execute_result"
    }
   ],
   "source": [
    "history.history.keys()"
   ]
  },
  {
   "cell_type": "markdown",
   "metadata": {},
   "source": [
    "### training 과정"
   ]
  },
  {
   "cell_type": "code",
   "execution_count": 102,
   "metadata": {
    "scrolled": true
   },
   "outputs": [
    {
     "data": {
      "image/png": "[encoded data removed]",
      "text/plain": [
       "<Figure size 576x360 with 1 Axes>"
      ]
     },
     "metadata": {
      "needs_background": "light"
     },
     "output_type": "display_data"
    }
   ],
   "source": [
    "pd.DataFrame(history.history).plot(figsize=(8, 5))\n",
    "plt.show()"
   ]
  },
  {
   "cell_type": "markdown",
   "metadata": {},
   "source": [
    "### 모델 평가"
   ]
  },
  {
   "cell_type": "code",
   "execution_count": 103,
   "metadata": {
    "scrolled": true
   },
   "outputs": [
    {
     "name": "stdout",
     "output_type": "stream",
     "text": [
      "10000/10000 [==============================] - 0s 33us/sample - loss: 0.3348 - accuracy: 0.8788\n"
     ]
    },
    {
     "data": {
      "text/plain": [
       "[0.3347936288356781, 0.8788]"
      ]
     },
     "execution_count": 103,
     "metadata": {},
     "output_type": "execute_result"
    }
   ],
   "source": [
    "model.evaluate(X_test, y_test)"
   ]
  },
  {
   "cell_type": "markdown",
   "metadata": {},
   "source": [
    "### 모델 예측하기"
   ]
  },
  {
   "cell_type": "code",
   "execution_count": 104,
   "metadata": {},
   "outputs": [
    {
     "data": {
      "text/plain": [
       "array([[0.  , 0.  , 0.  , 0.  , 0.  , 0.  , 0.  , 0.01, 0.  , 0.98],\n",
       "       [0.  , 0.  , 0.99, 0.  , 0.01, 0.  , 0.  , 0.  , 0.  , 0.  ],\n",
       "       [0.  , 1.  , 0.  , 0.  , 0.  , 0.  , 0.  , 0.  , 0.  , 0.  ]],\n",
       "      dtype=float32)"
      ]
     },
     "execution_count": 104,
     "metadata": {},
     "output_type": "execute_result"
    }
   ],
   "source": [
    "X_new = X_test[:3]\n",
    "y_proba = model.predict(X_new)\n",
    "y_proba.round(2) #각각 0~ 9 class 마다 각각의 확률을 모델이 추정하였다."
   ]
  },
  {
   "cell_type": "code",
   "execution_count": 205,
   "metadata": {},
   "outputs": [
    {
     "data": {
      "text/plain": [
       "array([9, 2, 1], dtype=int64)"
      ]
     },
     "execution_count": 205,
     "metadata": {},
     "output_type": "execute_result"
    }
   ],
   "source": [
    "# 가장 높은 클래스에만 관심이 있으면 model.predict_classes 를 쓴다.\n",
    "y_pred = model.predict_classes(X_new)\n",
    "y_pred"
   ]
  },
  {
   "cell_type": "code",
   "execution_count": 206,
   "metadata": {},
   "outputs": [
    {
     "data": {
      "text/plain": [
       "array(['Ankle boot', 'Pullover', 'Trouser'], dtype='<U11')"
      ]
     },
     "execution_count": 206,
     "metadata": {},
     "output_type": "execute_result"
    }
   ],
   "source": [
    "np.array(class_names)[y_pred]"
   ]
  },
  {
   "cell_type": "code",
   "execution_count": 207,
   "metadata": {},
   "outputs": [
    {
     "data": {
      "text/plain": [
       "array([9, 2, 1], dtype=uint8)"
      ]
     },
     "execution_count": 207,
     "metadata": {},
     "output_type": "execute_result"
    }
   ],
   "source": [
    "y_new = y_test[:3]\n",
    "y_new"
   ]
  },
  {
   "cell_type": "code",
   "execution_count": 208,
   "metadata": {
    "scrolled": true
   },
   "outputs": [
    {
     "data": {
      "image/png": "[encoded data removed]",
      "text/plain": [
       "<Figure size 518.4x172.8 with 3 Axes>"
      ]
     },
     "metadata": {
      "needs_background": "light"
     },
     "output_type": "display_data"
    }
   ],
   "source": [
    "plt.figure(figsize=(7.2, 2.4))\n",
    "for index, image in enumerate(X_new):\n",
    "    plt.subplot(1, 3, index + 1)\n",
    "    plt.imshow(image, cmap=\"binary\", interpolation=\"nearest\")\n",
    "    plt.axis('off')\n",
    "    plt.title(class_names[y_test[index]], fontsize=12)\n",
    "plt.subplots_adjust(wspace=0.2, hspace=0.5)\n",
    "plt.show()"
   ]
  },
  {
   "cell_type": "markdown",
   "metadata": {},
   "source": [
    "## 캘리포니아 주택 예측"
   ]
  },
  {
   "cell_type": "code",
   "execution_count": 214,
   "metadata": {},
   "outputs": [],
   "source": [
    "from sklearn.datasets import fetch_california_housing\n",
    "from sklearn.model_selection import train_test_split\n",
    "from sklearn.preprocessing import StandardScaler\n",
    "housing = fetch_california_housing()\n",
    "\n",
    "X_train_full, X_test, y_train_full, y_test = train_test_split(housing.data, housing.target, random_state=42) \n",
    "# test size 는 default 로 0.25\n",
    "X_train, X_valid, y_train, y_valid = train_test_split(X_train_full, y_train_full, random_state=42)\n",
    "# 이 역시 valid size 는 defaualt 로 0.25\n",
    "\n",
    "# X data scaling\n",
    "scaler = StandardScaler() \n",
    "X_train = scaler.fit_transform(X_train)\n",
    "X_valid = scaler.transform(X_valid) \n",
    "X_test = scaler.transform(X_test)"
   ]
  },
  {
   "cell_type": "code",
   "execution_count": 216,
   "metadata": {
    "scrolled": false
   },
   "outputs": [
    {
     "data": {
      "text/plain": [
       "(11610, 8)"
      ]
     },
     "execution_count": 216,
     "metadata": {},
     "output_type": "execute_result"
    }
   ],
   "source": [
    "X_train.shape"
   ]
  },
  {
   "cell_type": "code",
   "execution_count": 217,
   "metadata": {},
   "outputs": [],
   "source": [
    "np.random.seed(42)\n",
    "tf.random.set_seed(42)"
   ]
  },
  {
   "cell_type": "markdown",
   "metadata": {},
   "source": [
    "### 모델구성"
   ]
  },
  {
   "cell_type": "code",
   "execution_count": 231,
   "metadata": {},
   "outputs": [
    {
     "name": "stdout",
     "output_type": "stream",
     "text": [
      "Train on 11610 samples, validate on 3870 samples\n",
      "Epoch 1/20\n",
      "11610/11610 [==============================] - 1s 50us/sample - loss: 1.9093 - mse: 1.9093 - val_loss: 4.0438 - val_mse: 4.0438\n",
      "Epoch 2/20\n",
      "11610/11610 [==============================] - 0s 28us/sample - loss: 0.7255 - mse: 0.7255 - val_loss: 1.2611 - val_mse: 1.2611\n",
      "Epoch 3/20\n",
      "11610/11610 [==============================] - 0s 29us/sample - loss: 0.6642 - mse: 0.6642 - val_loss: 0.6587 - val_mse: 0.6587\n",
      "Epoch 4/20\n",
      "11610/11610 [==============================] - 0s 32us/sample - loss: 0.6240 - mse: 0.6240 - val_loss: 0.6491 - val_mse: 0.6491\n",
      "Epoch 5/20\n",
      "11610/11610 [==============================] - 0s 31us/sample - loss: 0.5962 - mse: 0.5962 - val_loss: 0.6326 - val_mse: 0.6326\n",
      "Epoch 6/20\n",
      "11610/11610 [==============================] - 0s 29us/sample - loss: 0.5712 - mse: 0.5712 - val_loss: 0.5656 - val_mse: 0.5656\n",
      "Epoch 7/20\n",
      "11610/11610 [==============================] - 0s 31us/sample - loss: 0.5469 - mse: 0.5469 - val_loss: 0.5449 - val_mse: 0.5449\n",
      "Epoch 8/20\n",
      "11610/11610 [==============================] - 0s 29us/sample - loss: 0.5267 - mse: 0.5267 - val_loss: 0.5109 - val_mse: 0.5109\n",
      "Epoch 9/20\n",
      "11610/11610 [==============================] - 0s 31us/sample - loss: 0.5080 - mse: 0.5080 - val_loss: 0.5175 - val_mse: 0.5175\n",
      "Epoch 10/20\n",
      "11610/11610 [==============================] - 0s 30us/sample - loss: 0.4931 - mse: 0.4931 - val_loss: 0.4807 - val_mse: 0.4807\n",
      "Epoch 11/20\n",
      "11610/11610 [==============================] - 0s 29us/sample - loss: 0.4800 - mse: 0.4800 - val_loss: 0.4582 - val_mse: 0.4582\n",
      "Epoch 12/20\n",
      "11610/11610 [==============================] - 0s 29us/sample - loss: 0.4687 - mse: 0.4687 - val_loss: 0.4455 - val_mse: 0.4455\n",
      "Epoch 13/20\n",
      "11610/11610 [==============================] - 0s 30us/sample - loss: 0.4591 - mse: 0.4591 - val_loss: 0.4448 - val_mse: 0.4448\n",
      "Epoch 14/20\n",
      "11610/11610 [==============================] - 0s 30us/sample - loss: 0.4514 - mse: 0.4514 - val_loss: 0.4350 - val_mse: 0.4350\n",
      "Epoch 15/20\n",
      "11610/11610 [==============================] - 0s 31us/sample - loss: 0.4449 - mse: 0.4449 - val_loss: 0.4239 - val_mse: 0.4239\n",
      "Epoch 16/20\n",
      "11610/11610 [==============================] - 0s 30us/sample - loss: 0.4389 - mse: 0.4389 - val_loss: 0.4159 - val_mse: 0.4159\n",
      "Epoch 17/20\n",
      "11610/11610 [==============================] - 0s 28us/sample - loss: 0.4339 - mse: 0.4339 - val_loss: 0.4197 - val_mse: 0.4197\n",
      "Epoch 18/20\n",
      "11610/11610 [==============================] - 0s 28us/sample - loss: 0.4294 - mse: 0.4294 - val_loss: 0.4084 - val_mse: 0.4084\n",
      "Epoch 19/20\n",
      "11610/11610 [==============================] - 0s 33us/sample - loss: 0.4257 - mse: 0.4257 - val_loss: 0.4068 - val_mse: 0.4068\n",
      "Epoch 20/20\n",
      "11610/11610 [==============================] - 0s 32us/sample - loss: 0.4224 - mse: 0.4224 - val_loss: 0.3977 - val_mse: 0.3977\n",
      "5160/5160 [==============================] - 0s 16us/sample - loss: 0.4178 - mse: 0.4178\n"
     ]
    }
   ],
   "source": [
    "model = keras.models.Sequential()\n",
    "model.add(keras.layers.Dense(30,activation='relu',input_shape = X_train.shape[1:]))\n",
    "model.add(keras.layers.Dense(1)) #잡음이 많은 데이터의 경우, weight 가 많으면 과적합시 엄청 큰 문제가 생기므로, hidden layer 를 더 늘리지 않고 바로출력층을 쌓자.\n",
    "model.compile(loss=\"mean_squared_error\", \n",
    "              optimizer=keras.optimizers.SGD(lr=1e-3),\n",
    "              metrics=['mse'])\n",
    "history = model.fit(X_train, y_train, epochs=20, validation_data=(X_valid, y_valid))\n",
    "evaluation = model.evaluate(X_test, y_test)"
   ]
  },
  {
   "cell_type": "markdown",
   "metadata": {},
   "source": [
    "### Training 과정"
   ]
  },
  {
   "cell_type": "code",
   "execution_count": 233,
   "metadata": {},
   "outputs": [
    {
     "data": {
      "image/png": "[encoded data removed]",
      "text/plain": [
       "<Figure size 576x360 with 1 Axes>"
      ]
     },
     "metadata": {
      "needs_background": "light"
     },
     "output_type": "display_data"
    }
   ],
   "source": [
    "pd.DataFrame(history.history).plot(figsize=(8, 5))\n",
    "plt.show()\n",
    "# loss/mse 가 같아서 그냥 같게 나오긴 한다."
   ]
  },
  {
   "cell_type": "code",
   "execution_count": 234,
   "metadata": {
    "scrolled": false
   },
   "outputs": [
    {
     "data": {
      "text/plain": [
       "array([[0.6056558],\n",
       "       [1.7686511],\n",
       "       [3.3945727]], dtype=float32)"
      ]
     },
     "execution_count": 234,
     "metadata": {},
     "output_type": "execute_result"
    }
   ],
   "source": [
    "X_new = X_test[:3] # 3개 테이터\n",
    "y_pred = model.predict(X_new)\n",
    "y_pred # 그에 대한 prediction y 값"
   ]
  }
 ],
 "metadata": {
  "kernelspec": {
   "display_name": "Python 3",
   "language": "python",
   "name": "python3"
  },
  "language_info": {
   "codemirror_mode": {
    "name": "ipython",
    "version": 3
   },
   "file_extension": ".py",
   "mimetype": "text/x-python",
   "name": "python",
   "nbconvert_exporter": "python",
   "pygments_lexer": "ipython3",
   "version": "3.7.6"
  },
  "toc": {
   "base_numbering": 1,
   "nav_menu": {},
   "number_sections": true,
   "sideBar": true,
   "skip_h1_title": false,
   "title_cell": "Table of Contents",
   "title_sidebar": "Contents",
   "toc_cell": false,
   "toc_position": {
    "height": "calc(100% - 180px)",
    "left": "10px",
    "top": "150px",
    "width": "303px"
   },
   "toc_section_display": true,
   "toc_window_display": true
  },
  "varInspector": {
   "cols": {
    "lenName": 16,
    "lenType": 16,
    "lenVar": 40
   },
   "kernels_config": {
    "python": {
     "delete_cmd_postfix": "",
     "delete_cmd_prefix": "del ",
     "library": "var_list.py",
     "varRefreshCmd": "print(var_dic_list())"
    },
    "r": {
     "delete_cmd_postfix": ") ",
     "delete_cmd_prefix": "rm(",
     "library": "var_list.r",
     "varRefreshCmd": "cat(var_dic_list()) "
    }
   },
   "types_to_exclude": [
    "module",
    "function",
    "builtin_function_or_method",
    "instance",
    "_Feature"
   ],
   "window_display": false
  }
 },
 "nbformat": 4,
 "nbformat_minor": 4
}
