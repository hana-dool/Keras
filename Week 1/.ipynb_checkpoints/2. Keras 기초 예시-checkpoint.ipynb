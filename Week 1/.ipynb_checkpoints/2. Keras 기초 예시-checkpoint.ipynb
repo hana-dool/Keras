{
 "cells": [
  {
   "cell_type": "code",
   "execution_count": 1,
   "metadata": {},
   "outputs": [],
   "source": [
    "import tensorflow as tf\n",
    "from tensorflow import keras\n",
    "import numpy as np\n",
    "import pandas as pd\n",
    "from IPython.display import Image\n",
    "import matplotlib.pyplot as plt"
   ]
  },
  {
   "cell_type": "code",
   "execution_count": 2,
   "metadata": {},
   "outputs": [],
   "source": [
    "# keras 라는 독자적인 module 이 있지만, 대세는 tensorflow 에 들어간 keras 이다."
   ]
  },
  {
   "cell_type": "markdown",
   "metadata": {},
   "source": [
    "## Simple linear regression"
   ]
  },
  {
   "cell_type": "code",
   "execution_count": 3,
   "metadata": {},
   "outputs": [],
   "source": [
    "X = np.array([1,2,3,4,5,6])\n",
    "y = np.array([10,20,30,40,50,60])"
   ]
  },
  {
   "cell_type": "code",
   "execution_count": 4,
   "metadata": {},
   "outputs": [
    {
     "name": "stdout",
     "output_type": "stream",
     "text": [
      "[[69.40147]]\n"
     ]
    }
   ],
   "source": [
    "# 모델구성할떄에는 먼저 sequential 이라는 인스턴스를 먼저 형성해야한다.\n",
    "model = keras.models.Sequential() \n",
    "model.add(keras.layers.Dense(1,input_dim=1, activation='linear'))\n",
    "# 맨 앞의 1 : 출력인자. 즉 output 은 1dim 의 vector 가 될 것이다.\n",
    "# input_dim : 입력인자 X 의 dim 이 1이므로 1\n",
    "# optimizer 먼저 정의하자. 그냥 뒤 compile 에서 opimizer='sgd' 를 써버리면 optimizer 의 파라메터들을 우리 입맛대로 조종할 수가 없다.\n",
    "sgd = keras.optimizers.SGD(lr=0.01) \n",
    "# SGD : stochastic gradient descent 의 방법으로 최적화를 하겠다는 뜻.\n",
    "# lr : learning rate 로서, 0.01 을 사용\n",
    "model.compile(optimizer = sgd,  # 최적화는 위에서 튜닝한 sgd 사용\n",
    "              loss='mse', # 회귀분석이므로 손실함수는 mse\n",
    "              metrics=['mse']) # 회귀이므로 평가 기준도 mse 로 하자.\n",
    "model.fit(X, y, \n",
    "          batch_size=1, #데이터를 몇개씩 묶어서 J 구하고 학습할지. 여기서는 1을 사용?\n",
    "          epochs=10, # 총 데이터를 10번 학습을 시키겠다는뜻\n",
    "          shuffle =False, # 학습하면서 set 을 random 하게 섞을지\n",
    "          verbose =0 ) # 학습이 이루어지는 과정을 직접 볼지 안볼지 (default = 1 로 과정을 볼 수 있다.)\n",
    "# 모델 예측\n",
    "print(model.predict([7]))"
   ]
  },
  {
   "cell_type": "markdown",
   "metadata": {},
   "source": [
    "## Multi linear regression"
   ]
  },
  {
   "cell_type": "code",
   "execution_count": 5,
   "metadata": {},
   "outputs": [],
   "source": [
    "X_train = np.array([[73,80,75],\n",
    "                   [63,80,75],\n",
    "                   [93,88,93],\n",
    "                   [89,90,90],\n",
    "                   [96,98,100],\n",
    "                   [73,66,70]])\n",
    "y_train = np.array([72,88,92,81,100,71])\n",
    "X_test = np.array([[90,88,93],\n",
    "                   [70,70,70]])\n",
    "y_test = np.array([90,68])"
   ]
  },
  {
   "cell_type": "code",
   "execution_count": 6,
   "metadata": {},
   "outputs": [],
   "source": [
    "# 모델구성\n",
    "model = keras.Sequential()\n",
    "model.add(keras.layers.Dense(1,input_dim=3, activation='linear'))\n",
    "# 맨 앞의 1 : 출력인자. 즉 output 은 1dim 의 vector 가 될 것이다.\n",
    "# input_dim : 입력인자 X 의 dim 이 3이므로 3\n",
    "# 모델 컴파일\n",
    "sgd = keras.optimizers.SGD(lr=0.00001) \n",
    "# lr : learning rate 로서, 0.01 을 사용\n",
    "model.compile(optimizer = sgd,  # 최적화는 sgd 사용\n",
    "              loss='mse', # 손실함수는 mse \n",
    "              metrics=['mse', 'mae', 'mape']) # metrics 는 모델의 평가 기준. \n",
    "# 모델학습\n",
    "fit = model.fit(X_train, y_train, \n",
    "               batch_size=1, # 데이터 셋이 있을때 몇개씩 묶어서 볼것인가\n",
    "               epochs=10,\n",
    "                validation_split=0.2,# 10번 학습을 시키겠다는뜻\n",
    "               shuffle =False,\n",
    "               verbose=0) # 학습하면서 set 을 random 하게 섞을지"
   ]
  },
  {
   "cell_type": "markdown",
   "metadata": {},
   "source": [
    "### taining 과정"
   ]
  },
  {
   "cell_type": "code",
   "execution_count": 7,
   "metadata": {
    "scrolled": true
   },
   "outputs": [
    {
     "data": {
      "text/plain": [
       "{'loss': [7423.822036743164,\n",
       "  194.25160312652588,\n",
       "  92.02353382110596,\n",
       "  89.90269088745117,\n",
       "  89.75403881072998,\n",
       "  89.7056770324707,\n",
       "  89.66738891601562,\n",
       "  89.63022804260254,\n",
       "  89.59345149993896,\n",
       "  89.55689811706543],\n",
       " 'mse': [7423.822,\n",
       "  194.2516,\n",
       "  92.02353,\n",
       "  89.902695,\n",
       "  89.754036,\n",
       "  89.70567,\n",
       "  89.66739,\n",
       "  89.630226,\n",
       "  89.59345,\n",
       "  89.5569],\n",
       " 'mae': [78.33341,\n",
       "  12.7567215,\n",
       "  9.2755375,\n",
       "  9.31336,\n",
       "  9.317104,\n",
       "  9.316923,\n",
       "  9.31629,\n",
       "  9.315592,\n",
       "  9.314888,\n",
       "  9.31418],\n",
       " 'mape': [96.312325,\n",
       "  14.955436,\n",
       "  11.037157,\n",
       "  11.195356,\n",
       "  11.212845,\n",
       "  11.214134,\n",
       "  11.213555,\n",
       "  11.212746,\n",
       "  11.211912,\n",
       "  11.211071],\n",
       " 'val_loss': [585.7944946289062,\n",
       "  95.06513595581055,\n",
       "  66.2827033996582,\n",
       "  63.38713264465332,\n",
       "  63.1105842590332,\n",
       "  63.130632400512695,\n",
       "  63.18490028381348,\n",
       "  63.242746353149414,\n",
       "  63.30078887939453,\n",
       "  63.35859298706055],\n",
       " 'val_mse': [585.7945,\n",
       "  95.06514,\n",
       "  66.2827,\n",
       "  63.38713,\n",
       "  63.110584,\n",
       "  63.13063,\n",
       "  63.1849,\n",
       "  63.242744,\n",
       "  63.30079,\n",
       "  63.358593],\n",
       " 'val_mae': [24.162827,\n",
       "  9.691837,\n",
       "  8.028358,\n",
       "  7.839466,\n",
       "  7.8203354,\n",
       "  7.820732,\n",
       "  7.823387,\n",
       "  7.826275,\n",
       "  7.829176,\n",
       "  7.83206],\n",
       " 'val_mape': [28.812134,\n",
       "  11.888579,\n",
       "  9.944086,\n",
       "  9.724196,\n",
       "  9.702847,\n",
       "  9.704334,\n",
       "  9.708457,\n",
       "  9.712851,\n",
       "  9.717257,\n",
       "  9.72164]}"
      ]
     },
     "execution_count": 7,
     "metadata": {},
     "output_type": "execute_result"
    }
   ],
   "source": [
    "fit.history # loss 와  metric(모델평가기준) 의 epoch 별 추이를 보여준다."
   ]
  },
  {
   "cell_type": "code",
   "execution_count": 8,
   "metadata": {},
   "outputs": [
    {
     "data": {
      "text/html": [
       "<div>\n",
       "<style scoped>\n",
       "    .dataframe tbody tr th:only-of-type {\n",
       "        vertical-align: middle;\n",
       "    }\n",
       "\n",
       "    .dataframe tbody tr th {\n",
       "        vertical-align: top;\n",
       "    }\n",
       "\n",
       "    .dataframe thead th {\n",
       "        text-align: right;\n",
       "    }\n",
       "</style>\n",
       "<table border=\"1\" class=\"dataframe\">\n",
       "  <thead>\n",
       "    <tr style=\"text-align: right;\">\n",
       "      <th></th>\n",
       "      <th>loss</th>\n",
       "      <th>mse</th>\n",
       "      <th>mae</th>\n",
       "      <th>mape</th>\n",
       "      <th>val_loss</th>\n",
       "      <th>val_mse</th>\n",
       "      <th>val_mae</th>\n",
       "      <th>val_mape</th>\n",
       "    </tr>\n",
       "  </thead>\n",
       "  <tbody>\n",
       "    <tr>\n",
       "      <th>0</th>\n",
       "      <td>7423.822037</td>\n",
       "      <td>7423.821777</td>\n",
       "      <td>78.333412</td>\n",
       "      <td>96.312325</td>\n",
       "      <td>585.794495</td>\n",
       "      <td>585.794495</td>\n",
       "      <td>24.162827</td>\n",
       "      <td>28.812134</td>\n",
       "    </tr>\n",
       "    <tr>\n",
       "      <th>1</th>\n",
       "      <td>194.251603</td>\n",
       "      <td>194.251602</td>\n",
       "      <td>12.756721</td>\n",
       "      <td>14.955436</td>\n",
       "      <td>95.065136</td>\n",
       "      <td>95.065140</td>\n",
       "      <td>9.691837</td>\n",
       "      <td>11.888579</td>\n",
       "    </tr>\n",
       "    <tr>\n",
       "      <th>2</th>\n",
       "      <td>92.023534</td>\n",
       "      <td>92.023529</td>\n",
       "      <td>9.275537</td>\n",
       "      <td>11.037157</td>\n",
       "      <td>66.282703</td>\n",
       "      <td>66.282700</td>\n",
       "      <td>8.028358</td>\n",
       "      <td>9.944086</td>\n",
       "    </tr>\n",
       "    <tr>\n",
       "      <th>3</th>\n",
       "      <td>89.902691</td>\n",
       "      <td>89.902695</td>\n",
       "      <td>9.313360</td>\n",
       "      <td>11.195356</td>\n",
       "      <td>63.387133</td>\n",
       "      <td>63.387131</td>\n",
       "      <td>7.839466</td>\n",
       "      <td>9.724196</td>\n",
       "    </tr>\n",
       "    <tr>\n",
       "      <th>4</th>\n",
       "      <td>89.754039</td>\n",
       "      <td>89.754036</td>\n",
       "      <td>9.317104</td>\n",
       "      <td>11.212845</td>\n",
       "      <td>63.110584</td>\n",
       "      <td>63.110584</td>\n",
       "      <td>7.820335</td>\n",
       "      <td>9.702847</td>\n",
       "    </tr>\n",
       "    <tr>\n",
       "      <th>5</th>\n",
       "      <td>89.705677</td>\n",
       "      <td>89.705673</td>\n",
       "      <td>9.316923</td>\n",
       "      <td>11.214134</td>\n",
       "      <td>63.130632</td>\n",
       "      <td>63.130630</td>\n",
       "      <td>7.820732</td>\n",
       "      <td>9.704334</td>\n",
       "    </tr>\n",
       "    <tr>\n",
       "      <th>6</th>\n",
       "      <td>89.667389</td>\n",
       "      <td>89.667389</td>\n",
       "      <td>9.316290</td>\n",
       "      <td>11.213555</td>\n",
       "      <td>63.184900</td>\n",
       "      <td>63.184898</td>\n",
       "      <td>7.823387</td>\n",
       "      <td>9.708457</td>\n",
       "    </tr>\n",
       "    <tr>\n",
       "      <th>7</th>\n",
       "      <td>89.630228</td>\n",
       "      <td>89.630226</td>\n",
       "      <td>9.315592</td>\n",
       "      <td>11.212746</td>\n",
       "      <td>63.242746</td>\n",
       "      <td>63.242744</td>\n",
       "      <td>7.826275</td>\n",
       "      <td>9.712851</td>\n",
       "    </tr>\n",
       "    <tr>\n",
       "      <th>8</th>\n",
       "      <td>89.593451</td>\n",
       "      <td>89.593452</td>\n",
       "      <td>9.314888</td>\n",
       "      <td>11.211912</td>\n",
       "      <td>63.300789</td>\n",
       "      <td>63.300789</td>\n",
       "      <td>7.829176</td>\n",
       "      <td>9.717257</td>\n",
       "    </tr>\n",
       "    <tr>\n",
       "      <th>9</th>\n",
       "      <td>89.556898</td>\n",
       "      <td>89.556900</td>\n",
       "      <td>9.314180</td>\n",
       "      <td>11.211071</td>\n",
       "      <td>63.358593</td>\n",
       "      <td>63.358593</td>\n",
       "      <td>7.832060</td>\n",
       "      <td>9.721640</td>\n",
       "    </tr>\n",
       "  </tbody>\n",
       "</table>\n",
       "</div>"
      ],
      "text/plain": [
       "          loss          mse        mae       mape    val_loss     val_mse  \\\n",
       "0  7423.822037  7423.821777  78.333412  96.312325  585.794495  585.794495   \n",
       "1   194.251603   194.251602  12.756721  14.955436   95.065136   95.065140   \n",
       "2    92.023534    92.023529   9.275537  11.037157   66.282703   66.282700   \n",
       "3    89.902691    89.902695   9.313360  11.195356   63.387133   63.387131   \n",
       "4    89.754039    89.754036   9.317104  11.212845   63.110584   63.110584   \n",
       "5    89.705677    89.705673   9.316923  11.214134   63.130632   63.130630   \n",
       "6    89.667389    89.667389   9.316290  11.213555   63.184900   63.184898   \n",
       "7    89.630228    89.630226   9.315592  11.212746   63.242746   63.242744   \n",
       "8    89.593451    89.593452   9.314888  11.211912   63.300789   63.300789   \n",
       "9    89.556898    89.556900   9.314180  11.211071   63.358593   63.358593   \n",
       "\n",
       "     val_mae   val_mape  \n",
       "0  24.162827  28.812134  \n",
       "1   9.691837  11.888579  \n",
       "2   8.028358   9.944086  \n",
       "3   7.839466   9.724196  \n",
       "4   7.820335   9.702847  \n",
       "5   7.820732   9.704334  \n",
       "6   7.823387   9.708457  \n",
       "7   7.826275   9.712851  \n",
       "8   7.829176   9.717257  \n",
       "9   7.832060   9.721640  "
      ]
     },
     "execution_count": 8,
     "metadata": {},
     "output_type": "execute_result"
    }
   ],
   "source": [
    "history = pd.DataFrame(fit.history)\n",
    "history"
   ]
  },
  {
   "cell_type": "code",
   "execution_count": 9,
   "metadata": {},
   "outputs": [
    {
     "data": {
      "text/html": [
       "<div>\n",
       "<style scoped>\n",
       "    .dataframe tbody tr th:only-of-type {\n",
       "        vertical-align: middle;\n",
       "    }\n",
       "\n",
       "    .dataframe tbody tr th {\n",
       "        vertical-align: top;\n",
       "    }\n",
       "\n",
       "    .dataframe thead th {\n",
       "        text-align: right;\n",
       "    }\n",
       "</style>\n",
       "<table border=\"1\" class=\"dataframe\">\n",
       "  <thead>\n",
       "    <tr style=\"text-align: right;\">\n",
       "      <th></th>\n",
       "      <th>mse</th>\n",
       "      <th>val_mse</th>\n",
       "    </tr>\n",
       "  </thead>\n",
       "  <tbody>\n",
       "    <tr>\n",
       "      <th>0</th>\n",
       "      <td>7423.821777</td>\n",
       "      <td>585.794495</td>\n",
       "    </tr>\n",
       "    <tr>\n",
       "      <th>1</th>\n",
       "      <td>194.251602</td>\n",
       "      <td>95.065140</td>\n",
       "    </tr>\n",
       "    <tr>\n",
       "      <th>2</th>\n",
       "      <td>92.023529</td>\n",
       "      <td>66.282700</td>\n",
       "    </tr>\n",
       "    <tr>\n",
       "      <th>3</th>\n",
       "      <td>89.902695</td>\n",
       "      <td>63.387131</td>\n",
       "    </tr>\n",
       "    <tr>\n",
       "      <th>4</th>\n",
       "      <td>89.754036</td>\n",
       "      <td>63.110584</td>\n",
       "    </tr>\n",
       "    <tr>\n",
       "      <th>5</th>\n",
       "      <td>89.705673</td>\n",
       "      <td>63.130630</td>\n",
       "    </tr>\n",
       "    <tr>\n",
       "      <th>6</th>\n",
       "      <td>89.667389</td>\n",
       "      <td>63.184898</td>\n",
       "    </tr>\n",
       "    <tr>\n",
       "      <th>7</th>\n",
       "      <td>89.630226</td>\n",
       "      <td>63.242744</td>\n",
       "    </tr>\n",
       "    <tr>\n",
       "      <th>8</th>\n",
       "      <td>89.593452</td>\n",
       "      <td>63.300789</td>\n",
       "    </tr>\n",
       "    <tr>\n",
       "      <th>9</th>\n",
       "      <td>89.556900</td>\n",
       "      <td>63.358593</td>\n",
       "    </tr>\n",
       "  </tbody>\n",
       "</table>\n",
       "</div>"
      ],
      "text/plain": [
       "           mse     val_mse\n",
       "0  7423.821777  585.794495\n",
       "1   194.251602   95.065140\n",
       "2    92.023529   66.282700\n",
       "3    89.902695   63.387131\n",
       "4    89.754036   63.110584\n",
       "5    89.705673   63.130630\n",
       "6    89.667389   63.184898\n",
       "7    89.630226   63.242744\n",
       "8    89.593452   63.300789\n",
       "9    89.556900   63.358593"
      ]
     },
     "execution_count": 9,
     "metadata": {},
     "output_type": "execute_result"
    }
   ],
   "source": [
    "# 판단기준 중에서 mse 를 이용하도록 하자.\n",
    "hist=history[['mse','val_mse']]\n",
    "hist"
   ]
  },
  {
   "cell_type": "code",
   "execution_count": 10,
   "metadata": {},
   "outputs": [
    {
     "data": {
      "image/png": "[encoded data removed]",
      "text/plain": [
       "<Figure size 576x360 with 1 Axes>"
      ]
     },
     "metadata": {
      "needs_background": "light"
     },
     "output_type": "display_data"
    }
   ],
   "source": [
    "# mae /mape 를 이용해서 학습 그래프 그리기\n",
    "hist.plot(figsize=(8, 5))\n",
    "plt.grid(True) \n",
    "# grid 를 그려주면 뭔가 이뻐보인다..\n",
    "# 아래 x 축은 epoch 이다. \n",
    "# 처음에 val 값이 더 좋아보이는건 mse 는 epoch 도중 계산되고 val 은 epoch 끝나고 계산되기떄문"
   ]
  },
  {
   "cell_type": "code",
   "execution_count": 11,
   "metadata": {},
   "outputs": [
    {
     "data": {
      "image/png": "[encoded data removed]",
      "text/plain": [
       "<Figure size 432x288 with 1 Axes>"
      ]
     },
     "metadata": {
      "needs_background": "light"
     },
     "output_type": "display_data"
    }
   ],
   "source": [
    "# loss 그리기\n",
    "# 사실 loss 를 mse 로 설정해서 이렇게 그리나 마나이긴 하다..\n",
    "history['loss'].plot();"
   ]
  },
  {
   "cell_type": "markdown",
   "metadata": {},
   "source": [
    "### 예측 및 평가"
   ]
  },
  {
   "cell_type": "code",
   "execution_count": 12,
   "metadata": {},
   "outputs": [
    {
     "data": {
      "text/plain": [
       "array([[82.63678],\n",
       "       [67.40273]], dtype=float32)"
      ]
     },
     "execution_count": 12,
     "metadata": {},
     "output_type": "execute_result"
    }
   ],
   "source": [
    "model.predict(X_test)"
   ]
  },
  {
   "cell_type": "code",
   "execution_count": 13,
   "metadata": {},
   "outputs": [
    {
     "name": "stdout",
     "output_type": "stream",
     "text": [
      "\r",
      "2/2 [==============================] - 0s 40ms/sample - loss: 27.2869 - mse: 27.2869 - mae: 3.9802 - mape: 4.5298\n"
     ]
    },
    {
     "data": {
      "text/plain": [
       "[27.286869049072266, 27.28687, 3.9802437, 4.5298448]"
      ]
     },
     "execution_count": 13,
     "metadata": {},
     "output_type": "execute_result"
    }
   ],
   "source": [
    "model.evaluate(X_test,y_test)"
   ]
  },
  {
   "cell_type": "markdown",
   "metadata": {},
   "source": [
    "## Logistic regression"
   ]
  },
  {
   "cell_type": "code",
   "execution_count": 14,
   "metadata": {},
   "outputs": [],
   "source": [
    "X = np.array([-10,1,2,3,4,5,6,7,8,9,10])\n",
    "y = np.array([0,0,0,0,0,0,0,0,1,1,1])"
   ]
  },
  {
   "cell_type": "code",
   "execution_count": 15,
   "metadata": {},
   "outputs": [],
   "source": [
    "# 모델구성\n",
    "model = keras.models.Sequential()\n",
    "model.add(keras.layers.Dense(1,input_dim=1, activation='sigmoid'))\n",
    "# binary y 에 대한 logistic 을 하려고 하므로 출력층은 sigmoid , loss 는 binary_crossentropy , metric 은 binary_accueacy 를 해야한다.\n",
    "# 모델 컴파일\n",
    "sgd = keras.optimizers.SGD(lr=0.01) \n",
    "model.compile(optimizer = sgd,  # 최적화는 sgd 사용\n",
    "              loss='binary_crossentropy', # binary 경우의 로지스틱이므로 binary crossentropy 사용\n",
    "              metrics=['binary_accuracy']) # metrics 는 모델의 평가 기준. \n",
    "# 모델학습\n",
    "fit = model.fit(X, y, \n",
    "          batch_size=1, \n",
    "          epochs=400, # 10번 학습을 시키겠다는뜻\n",
    "          shuffle =False,\n",
    "          verbose=0) # 학습하면서 set 을 random 하게 섞을지"
   ]
  },
  {
   "cell_type": "markdown",
   "metadata": {},
   "source": [
    "### Training 과정"
   ]
  },
  {
   "cell_type": "code",
   "execution_count": 16,
   "metadata": {
    "scrolled": true
   },
   "outputs": [
    {
     "data": {
      "image/png": "[encoded data removed]",
      "text/plain": [
       "<Figure size 576x360 with 1 Axes>"
      ]
     },
     "metadata": {
      "needs_background": "light"
     },
     "output_type": "display_data"
    }
   ],
   "source": [
    "history = pd.DataFrame(fit.history)\n",
    "hist.plot(figsize=(8, 5))\n",
    "plt.grid(True) "
   ]
  },
  {
   "cell_type": "markdown",
   "metadata": {},
   "source": [
    "### 예측"
   ]
  },
  {
   "cell_type": "code",
   "execution_count": 17,
   "metadata": {
    "scrolled": true
   },
   "outputs": [
    {
     "data": {
      "text/plain": [
       "array([[0.8261697]], dtype=float32)"
      ]
     },
     "execution_count": 17,
     "metadata": {},
     "output_type": "execute_result"
    }
   ],
   "source": [
    "# x 가 9.4 일떄 label 이 1일 확률은...???\n",
    "model.predict([9.4])"
   ]
  },
  {
   "cell_type": "code",
   "execution_count": 18,
   "metadata": {
    "scrolled": true
   },
   "outputs": [
    {
     "data": {
      "text/plain": [
       "[<matplotlib.lines.Line2D at 0x2c66b89e9c8>]"
      ]
     },
     "execution_count": 18,
     "metadata": {},
     "output_type": "execute_result"
    },
    {
     "data": {
      "image/png": "[encoded data removed]",
      "text/plain": [
       "<Figure size 432x288 with 1 Axes>"
      ]
     },
     "metadata": {
      "needs_background": "light"
     },
     "output_type": "display_data"
    }
   ],
   "source": [
    "# X 에 대한 예측 시각화\n",
    "plt.plot(X,model.predict(X),'b') # blue 그래프를 그리고싶으므로 'b'\n",
    "plt.plot(X,y,'k.') # plot 을 검은점으로 하려므로 k."
   ]
  },
  {
   "cell_type": "code",
   "execution_count": 19,
   "metadata": {
    "scrolled": true
   },
   "outputs": [
    {
     "name": "stdout",
     "output_type": "stream",
     "text": [
      "Model: \"sequential_2\"\n",
      "_________________________________________________________________\n",
      "Layer (type)                 Output Shape              Param #   \n",
      "=================================================================\n",
      "dense_2 (Dense)              (None, 1)                 2         \n",
      "=================================================================\n",
      "Total params: 2\n",
      "Trainable params: 2\n",
      "Non-trainable params: 0\n",
      "_________________________________________________________________\n"
     ]
    }
   ],
   "source": [
    "model.summary()"
   ]
  },
  {
   "cell_type": "markdown",
   "metadata": {},
   "source": [
    "## 와인 데이터셋 연습"
   ]
  },
  {
   "cell_type": "code",
   "execution_count": 20,
   "metadata": {},
   "outputs": [],
   "source": [
    "from sklearn.datasets import load_wine\n",
    "wine = load_wine()"
   ]
  },
  {
   "cell_type": "code",
   "execution_count": 21,
   "metadata": {
    "scrolled": true
   },
   "outputs": [
    {
     "data": {
      "text/html": [
       "<div>\n",
       "<style scoped>\n",
       "    .dataframe tbody tr th:only-of-type {\n",
       "        vertical-align: middle;\n",
       "    }\n",
       "\n",
       "    .dataframe tbody tr th {\n",
       "        vertical-align: top;\n",
       "    }\n",
       "\n",
       "    .dataframe thead th {\n",
       "        text-align: right;\n",
       "    }\n",
       "</style>\n",
       "<table border=\"1\" class=\"dataframe\">\n",
       "  <thead>\n",
       "    <tr style=\"text-align: right;\">\n",
       "      <th></th>\n",
       "      <th>alcohol</th>\n",
       "      <th>malic_acid</th>\n",
       "      <th>ash</th>\n",
       "      <th>alcalinity_of_ash</th>\n",
       "      <th>magnesium</th>\n",
       "      <th>total_phenols</th>\n",
       "      <th>flavanoids</th>\n",
       "      <th>nonflavanoid_phenols</th>\n",
       "      <th>proanthocyanins</th>\n",
       "      <th>color_intensity</th>\n",
       "      <th>hue</th>\n",
       "      <th>od280/od315_of_diluted_wines</th>\n",
       "      <th>proline</th>\n",
       "      <th>class</th>\n",
       "    </tr>\n",
       "  </thead>\n",
       "  <tbody>\n",
       "    <tr>\n",
       "      <th>173</th>\n",
       "      <td>13.71</td>\n",
       "      <td>5.65</td>\n",
       "      <td>2.45</td>\n",
       "      <td>20.5</td>\n",
       "      <td>95.0</td>\n",
       "      <td>1.68</td>\n",
       "      <td>0.61</td>\n",
       "      <td>0.52</td>\n",
       "      <td>1.06</td>\n",
       "      <td>7.7</td>\n",
       "      <td>0.64</td>\n",
       "      <td>1.74</td>\n",
       "      <td>740.0</td>\n",
       "      <td>2</td>\n",
       "    </tr>\n",
       "    <tr>\n",
       "      <th>174</th>\n",
       "      <td>13.40</td>\n",
       "      <td>3.91</td>\n",
       "      <td>2.48</td>\n",
       "      <td>23.0</td>\n",
       "      <td>102.0</td>\n",
       "      <td>1.80</td>\n",
       "      <td>0.75</td>\n",
       "      <td>0.43</td>\n",
       "      <td>1.41</td>\n",
       "      <td>7.3</td>\n",
       "      <td>0.70</td>\n",
       "      <td>1.56</td>\n",
       "      <td>750.0</td>\n",
       "      <td>2</td>\n",
       "    </tr>\n",
       "    <tr>\n",
       "      <th>175</th>\n",
       "      <td>13.27</td>\n",
       "      <td>4.28</td>\n",
       "      <td>2.26</td>\n",
       "      <td>20.0</td>\n",
       "      <td>120.0</td>\n",
       "      <td>1.59</td>\n",
       "      <td>0.69</td>\n",
       "      <td>0.43</td>\n",
       "      <td>1.35</td>\n",
       "      <td>10.2</td>\n",
       "      <td>0.59</td>\n",
       "      <td>1.56</td>\n",
       "      <td>835.0</td>\n",
       "      <td>2</td>\n",
       "    </tr>\n",
       "    <tr>\n",
       "      <th>176</th>\n",
       "      <td>13.17</td>\n",
       "      <td>2.59</td>\n",
       "      <td>2.37</td>\n",
       "      <td>20.0</td>\n",
       "      <td>120.0</td>\n",
       "      <td>1.65</td>\n",
       "      <td>0.68</td>\n",
       "      <td>0.53</td>\n",
       "      <td>1.46</td>\n",
       "      <td>9.3</td>\n",
       "      <td>0.60</td>\n",
       "      <td>1.62</td>\n",
       "      <td>840.0</td>\n",
       "      <td>2</td>\n",
       "    </tr>\n",
       "    <tr>\n",
       "      <th>177</th>\n",
       "      <td>14.13</td>\n",
       "      <td>4.10</td>\n",
       "      <td>2.74</td>\n",
       "      <td>24.5</td>\n",
       "      <td>96.0</td>\n",
       "      <td>2.05</td>\n",
       "      <td>0.76</td>\n",
       "      <td>0.56</td>\n",
       "      <td>1.35</td>\n",
       "      <td>9.2</td>\n",
       "      <td>0.61</td>\n",
       "      <td>1.60</td>\n",
       "      <td>560.0</td>\n",
       "      <td>2</td>\n",
       "    </tr>\n",
       "  </tbody>\n",
       "</table>\n",
       "</div>"
      ],
      "text/plain": [
       "     alcohol  malic_acid   ash  alcalinity_of_ash  magnesium  total_phenols  \\\n",
       "173    13.71        5.65  2.45               20.5       95.0           1.68   \n",
       "174    13.40        3.91  2.48               23.0      102.0           1.80   \n",
       "175    13.27        4.28  2.26               20.0      120.0           1.59   \n",
       "176    13.17        2.59  2.37               20.0      120.0           1.65   \n",
       "177    14.13        4.10  2.74               24.5       96.0           2.05   \n",
       "\n",
       "     flavanoids  nonflavanoid_phenols  proanthocyanins  color_intensity   hue  \\\n",
       "173        0.61                  0.52             1.06              7.7  0.64   \n",
       "174        0.75                  0.43             1.41              7.3  0.70   \n",
       "175        0.69                  0.43             1.35             10.2  0.59   \n",
       "176        0.68                  0.53             1.46              9.3  0.60   \n",
       "177        0.76                  0.56             1.35              9.2  0.61   \n",
       "\n",
       "     od280/od315_of_diluted_wines  proline  class  \n",
       "173                          1.74    740.0      2  \n",
       "174                          1.56    750.0      2  \n",
       "175                          1.56    835.0      2  \n",
       "176                          1.62    840.0      2  \n",
       "177                          1.60    560.0      2  "
      ]
     },
     "execution_count": 21,
     "metadata": {},
     "output_type": "execute_result"
    }
   ],
   "source": [
    "df = pd.DataFrame(wine.data, columns=wine.feature_names)\n",
    "df['class'] = wine.target\n",
    "df.tail()"
   ]
  },
  {
   "cell_type": "code",
   "execution_count": 22,
   "metadata": {},
   "outputs": [
    {
     "data": {
      "text/plain": [
       "(178, 14)"
      ]
     },
     "execution_count": 22,
     "metadata": {},
     "output_type": "execute_result"
    }
   ],
   "source": [
    "df.shape"
   ]
  },
  {
   "cell_type": "code",
   "execution_count": 23,
   "metadata": {},
   "outputs": [],
   "source": [
    "X = df.iloc[:,0:13]\n",
    "y = df.iloc[:,13]"
   ]
  },
  {
   "cell_type": "code",
   "execution_count": 24,
   "metadata": {},
   "outputs": [
    {
     "data": {
      "text/plain": [
       "1    71\n",
       "0    59\n",
       "2    48\n",
       "Name: class, dtype: int64"
      ]
     },
     "execution_count": 24,
     "metadata": {},
     "output_type": "execute_result"
    }
   ],
   "source": [
    "# y 레이블이 3개이므로 다중분류일것이다.\n",
    "pd.Series(y).value_counts()"
   ]
  },
  {
   "cell_type": "code",
   "execution_count": 25,
   "metadata": {
    "scrolled": true
   },
   "outputs": [
    {
     "name": "stdout",
     "output_type": "stream",
     "text": [
      "Train on 178 samples\n",
      "Epoch 1/20\n",
      "178/178 [==============================] - 0s 1ms/sample - loss: 190.1543 - accuracy: 0.8258\n",
      "Epoch 2/20\n",
      "178/178 [==============================] - 0s 90us/sample - loss: 1.1041 - accuracy: 0.2079\n",
      "Epoch 3/20\n",
      "178/178 [==============================] - 0s 95us/sample - loss: 1.1027 - accuracy: 0.1629\n",
      "Epoch 4/20\n",
      "178/178 [==============================] - 0s 95us/sample - loss: 1.1013 - accuracy: 0.3315\n",
      "Epoch 5/20\n",
      "178/178 [==============================] - 0s 95us/sample - loss: 1.1001 - accuracy: 0.3315\n",
      "Epoch 6/20\n",
      "178/178 [==============================] - 0s 95us/sample - loss: 1.0991 - accuracy: 0.3315\n",
      "Epoch 7/20\n",
      "178/178 [==============================] - 0s 101us/sample - loss: 1.0981 - accuracy: 0.3315\n",
      "Epoch 8/20\n",
      "178/178 [==============================] - 0s 90us/sample - loss: 1.0973 - accuracy: 0.3427\n",
      "Epoch 9/20\n",
      "178/178 [==============================] - 0s 95us/sample - loss: 1.0965 - accuracy: 0.3989\n",
      "Epoch 10/20\n",
      "178/178 [==============================] - 0s 109us/sample - loss: 1.0958 - accuracy: 0.3989\n",
      "Epoch 11/20\n",
      "178/178 [==============================] - 0s 78us/sample - loss: 1.0952 - accuracy: 0.3989\n",
      "Epoch 12/20\n",
      "178/178 [==============================] - 0s 73us/sample - loss: 1.0947 - accuracy: 0.3989\n",
      "Epoch 13/20\n",
      "178/178 [==============================] - 0s 78us/sample - loss: 1.0942 - accuracy: 0.3989\n",
      "Epoch 14/20\n",
      "178/178 [==============================] - 0s 78us/sample - loss: 1.0937 - accuracy: 0.3989\n",
      "Epoch 15/20\n",
      "178/178 [==============================] - 0s 84us/sample - loss: 1.0934 - accuracy: 0.3989\n",
      "Epoch 16/20\n",
      "178/178 [==============================] - 0s 137us/sample - loss: 1.0930 - accuracy: 0.3989\n",
      "Epoch 17/20\n",
      "178/178 [==============================] - 0s 84us/sample - loss: 1.0927 - accuracy: 0.3989\n",
      "Epoch 18/20\n",
      "178/178 [==============================] - 0s 78us/sample - loss: 1.0924 - accuracy: 0.3989\n",
      "Epoch 19/20\n",
      "178/178 [==============================] - 0s 78us/sample - loss: 1.0921 - accuracy: 0.3989\n",
      "Epoch 20/20\n",
      "178/178 [==============================] - 0s 78us/sample - loss: 1.0919 - accuracy: 0.3989\n"
     ]
    }
   ],
   "source": [
    "# 모델구성\n",
    "model = keras.Sequential()\n",
    "model.add(keras.layers.Dense(20,input_dim=13, activation='relu')) \n",
    "model.add(keras.layers.Dense(10,activation='relu')) # hidden layer\n",
    "model.add(keras.layers.Dense(3,activation = 'softmax')) \n",
    "# multi class 분류이므로 output은 3, 여기에서는 softmax 를 써주어야한다.\n",
    "\n",
    "# 모델 컴파일\n",
    "sgd = keras.optimizers.SGD(lr=0.01) # optimizer 정의\n",
    "model.compile(optimizer = sgd,  # 최적화는 sgd 사용\n",
    "              loss='sparse_categorical_crossentropy',  # y lable 이 ont-hot encoding 된 상태가 아니기떄문에 sparse 사용\n",
    "              metrics=['accuracy']) \n",
    "# 모델학습\n",
    "fit = model.fit(X, y, \n",
    "          batch_size=10, # 데이터 셋이 있을때 몇개씩 묶어서 볼것인가\n",
    "          epochs= 20, # 10번 학습을 시키겠다는뜻\n",
    "          shuffle =False)"
   ]
  },
  {
   "cell_type": "code",
   "execution_count": 26,
   "metadata": {
    "scrolled": true
   },
   "outputs": [
    {
     "name": "stdout",
     "output_type": "stream",
     "text": [
      "Model: \"sequential_3\"\n",
      "_________________________________________________________________\n",
      "Layer (type)                 Output Shape              Param #   \n",
      "=================================================================\n",
      "dense_3 (Dense)              (None, 20)                280       \n",
      "_________________________________________________________________\n",
      "dense_4 (Dense)              (None, 10)                210       \n",
      "_________________________________________________________________\n",
      "dense_5 (Dense)              (None, 3)                 33        \n",
      "=================================================================\n",
      "Total params: 523\n",
      "Trainable params: 523\n",
      "Non-trainable params: 0\n",
      "_________________________________________________________________\n"
     ]
    }
   ],
   "source": [
    "model.summary() #모델 자체는 좀 안좋은거같다.... 데이터가 너무 적어서 그런듯? 특성도 많고 데이터도 좀 어렵구.. "
   ]
  },
  {
   "cell_type": "markdown",
   "metadata": {},
   "source": [
    "## iris 데이터 꽃 유형분류 연습"
   ]
  },
  {
   "cell_type": "code",
   "execution_count": 27,
   "metadata": {},
   "outputs": [],
   "source": [
    "from sklearn.datasets import load_iris\n",
    "data = load_iris()"
   ]
  },
  {
   "cell_type": "code",
   "execution_count": 28,
   "metadata": {},
   "outputs": [],
   "source": [
    "X = data.data\n",
    "y = data.target"
   ]
  },
  {
   "cell_type": "code",
   "execution_count": 29,
   "metadata": {},
   "outputs": [
    {
     "data": {
      "text/plain": [
       "2    50\n",
       "1    50\n",
       "0    50\n",
       "dtype: int64"
      ]
     },
     "execution_count": 29,
     "metadata": {},
     "output_type": "execute_result"
    }
   ],
   "source": [
    "pd.Series(y).value_counts()"
   ]
  },
  {
   "cell_type": "code",
   "execution_count": 30,
   "metadata": {
    "scrolled": true
   },
   "outputs": [],
   "source": [
    "model = keras.models.Sequential()\n",
    "model.add(keras.layers.Dense(16,input_dim=4,activation='relu'))\n",
    "model.add(keras.layers.Dense(3,activation = 'softmax')) \n",
    "# y 카테로리가 3개이므로 output 에 3 을 넣었다.\n",
    "# 다중 카테고리 분류에서는 activation 이 softmax 함수를 맨 마지막에 넣어주어야한다.\n",
    "model.compile(loss='sparse_categorical_crossentropy',\n",
    "              optimizer= 'adam',\n",
    "              metrics=['accuracy'])\n",
    "fit = model.fit(X,y, epochs=100, batch_size = 10,verbose = 0) \n",
    "#verbose = 0 은 학습과정 보기 싫을떄."
   ]
  },
  {
   "cell_type": "markdown",
   "metadata": {},
   "source": [
    "### 데이터 label encoder 하기"
   ]
  },
  {
   "cell_type": "code",
   "execution_count": 31,
   "metadata": {},
   "outputs": [],
   "source": [
    "from sklearn.preprocessing import LabelEncoder"
   ]
  },
  {
   "cell_type": "code",
   "execution_count": 32,
   "metadata": {},
   "outputs": [],
   "source": [
    "#label encoder\n",
    "xx = np.array(['dog','cat','bird','fish'])"
   ]
  },
  {
   "cell_type": "code",
   "execution_count": 33,
   "metadata": {},
   "outputs": [
    {
     "name": "stdout",
     "output_type": "stream",
     "text": [
      "[2 1 0 3]\n"
     ]
    }
   ],
   "source": [
    "encoder = LabelEncoder()\n",
    "encoder.fit(xx)\n",
    "yy = encoder.transform(xx)\n",
    "print(yy)"
   ]
  },
  {
   "cell_type": "code",
   "execution_count": 34,
   "metadata": {},
   "outputs": [
    {
     "name": "stdout",
     "output_type": "stream",
     "text": [
      "['dog' 'cat' 'bird' 'fish']\n"
     ]
    }
   ],
   "source": [
    "# encoder 를 거꾸로 실행\n",
    "print(encoder.inverse_transform(yy))"
   ]
  },
  {
   "cell_type": "code",
   "execution_count": 35,
   "metadata": {},
   "outputs": [
    {
     "name": "stderr",
     "output_type": "stream",
     "text": [
      "Using TensorFlow backend.\n"
     ]
    }
   ],
   "source": [
    "# one hot encoding\n",
    "from keras.utils import np_utils\n",
    "YY = np_utils.to_categorical(yy)"
   ]
  },
  {
   "cell_type": "code",
   "execution_count": 36,
   "metadata": {
    "scrolled": true
   },
   "outputs": [
    {
     "name": "stdout",
     "output_type": "stream",
     "text": [
      "[[0. 0. 1. 0.]\n",
      " [0. 1. 0. 0.]\n",
      " [1. 0. 0. 0.]\n",
      " [0. 0. 0. 1.]]\n"
     ]
    }
   ],
   "source": [
    "print(YY)"
   ]
  },
  {
   "cell_type": "markdown",
   "metadata": {},
   "source": [
    "### 데이터 one hot encoder 해서 분류하기"
   ]
  },
  {
   "cell_type": "code",
   "execution_count": 37,
   "metadata": {},
   "outputs": [],
   "source": [
    "# label encoder \n",
    "# 값들이 수치형이 아니라 categorical 일때에 one hot encoder 를 위해 수치형으로 변환해야한다.\n",
    "# 물론 지금은 y data 가 0,1,2 로 이쁘게 되어있지만 안 그런 경우가 더 많다.\n",
    "from sklearn.preprocessing import LabelEncoder\n",
    "encoder = LabelEncoder() # 객채선안\n",
    "encoder.fit(y) # fit method\n",
    "y = encoder.transform(y) # transform method"
   ]
  },
  {
   "cell_type": "code",
   "execution_count": 38,
   "metadata": {},
   "outputs": [],
   "source": [
    "# onehot encoder\n",
    "from keras.utils import np_utils\n",
    "y = np_utils.to_categorical(y)"
   ]
  },
  {
   "cell_type": "code",
   "execution_count": 39,
   "metadata": {},
   "outputs": [
    {
     "data": {
      "text/plain": [
       "array([[1., 0., 0.],\n",
       "       [1., 0., 0.],\n",
       "       [1., 0., 0.],\n",
       "       [1., 0., 0.],\n",
       "       [1., 0., 0.],\n",
       "       [1., 0., 0.],\n",
       "       [1., 0., 0.],\n",
       "       [1., 0., 0.],\n",
       "       [1., 0., 0.],\n",
       "       [1., 0., 0.],\n",
       "       [1., 0., 0.],\n",
       "       [1., 0., 0.],\n",
       "       [1., 0., 0.],\n",
       "       [1., 0., 0.],\n",
       "       [1., 0., 0.],\n",
       "       [1., 0., 0.],\n",
       "       [1., 0., 0.],\n",
       "       [1., 0., 0.],\n",
       "       [1., 0., 0.],\n",
       "       [1., 0., 0.],\n",
       "       [1., 0., 0.],\n",
       "       [1., 0., 0.],\n",
       "       [1., 0., 0.],\n",
       "       [1., 0., 0.],\n",
       "       [1., 0., 0.],\n",
       "       [1., 0., 0.],\n",
       "       [1., 0., 0.],\n",
       "       [1., 0., 0.],\n",
       "       [1., 0., 0.],\n",
       "       [1., 0., 0.],\n",
       "       [1., 0., 0.],\n",
       "       [1., 0., 0.],\n",
       "       [1., 0., 0.],\n",
       "       [1., 0., 0.],\n",
       "       [1., 0., 0.],\n",
       "       [1., 0., 0.],\n",
       "       [1., 0., 0.],\n",
       "       [1., 0., 0.],\n",
       "       [1., 0., 0.],\n",
       "       [1., 0., 0.],\n",
       "       [1., 0., 0.],\n",
       "       [1., 0., 0.],\n",
       "       [1., 0., 0.],\n",
       "       [1., 0., 0.],\n",
       "       [1., 0., 0.],\n",
       "       [1., 0., 0.],\n",
       "       [1., 0., 0.],\n",
       "       [1., 0., 0.],\n",
       "       [1., 0., 0.],\n",
       "       [1., 0., 0.],\n",
       "       [0., 1., 0.],\n",
       "       [0., 1., 0.],\n",
       "       [0., 1., 0.],\n",
       "       [0., 1., 0.],\n",
       "       [0., 1., 0.],\n",
       "       [0., 1., 0.],\n",
       "       [0., 1., 0.],\n",
       "       [0., 1., 0.],\n",
       "       [0., 1., 0.],\n",
       "       [0., 1., 0.],\n",
       "       [0., 1., 0.],\n",
       "       [0., 1., 0.],\n",
       "       [0., 1., 0.],\n",
       "       [0., 1., 0.],\n",
       "       [0., 1., 0.],\n",
       "       [0., 1., 0.],\n",
       "       [0., 1., 0.],\n",
       "       [0., 1., 0.],\n",
       "       [0., 1., 0.],\n",
       "       [0., 1., 0.],\n",
       "       [0., 1., 0.],\n",
       "       [0., 1., 0.],\n",
       "       [0., 1., 0.],\n",
       "       [0., 1., 0.],\n",
       "       [0., 1., 0.],\n",
       "       [0., 1., 0.],\n",
       "       [0., 1., 0.],\n",
       "       [0., 1., 0.],\n",
       "       [0., 1., 0.],\n",
       "       [0., 1., 0.],\n",
       "       [0., 1., 0.],\n",
       "       [0., 1., 0.],\n",
       "       [0., 1., 0.],\n",
       "       [0., 1., 0.],\n",
       "       [0., 1., 0.],\n",
       "       [0., 1., 0.],\n",
       "       [0., 1., 0.],\n",
       "       [0., 1., 0.],\n",
       "       [0., 1., 0.],\n",
       "       [0., 1., 0.],\n",
       "       [0., 1., 0.],\n",
       "       [0., 1., 0.],\n",
       "       [0., 1., 0.],\n",
       "       [0., 1., 0.],\n",
       "       [0., 1., 0.],\n",
       "       [0., 1., 0.],\n",
       "       [0., 1., 0.],\n",
       "       [0., 1., 0.],\n",
       "       [0., 1., 0.],\n",
       "       [0., 1., 0.],\n",
       "       [0., 0., 1.],\n",
       "       [0., 0., 1.],\n",
       "       [0., 0., 1.],\n",
       "       [0., 0., 1.],\n",
       "       [0., 0., 1.],\n",
       "       [0., 0., 1.],\n",
       "       [0., 0., 1.],\n",
       "       [0., 0., 1.],\n",
       "       [0., 0., 1.],\n",
       "       [0., 0., 1.],\n",
       "       [0., 0., 1.],\n",
       "       [0., 0., 1.],\n",
       "       [0., 0., 1.],\n",
       "       [0., 0., 1.],\n",
       "       [0., 0., 1.],\n",
       "       [0., 0., 1.],\n",
       "       [0., 0., 1.],\n",
       "       [0., 0., 1.],\n",
       "       [0., 0., 1.],\n",
       "       [0., 0., 1.],\n",
       "       [0., 0., 1.],\n",
       "       [0., 0., 1.],\n",
       "       [0., 0., 1.],\n",
       "       [0., 0., 1.],\n",
       "       [0., 0., 1.],\n",
       "       [0., 0., 1.],\n",
       "       [0., 0., 1.],\n",
       "       [0., 0., 1.],\n",
       "       [0., 0., 1.],\n",
       "       [0., 0., 1.],\n",
       "       [0., 0., 1.],\n",
       "       [0., 0., 1.],\n",
       "       [0., 0., 1.],\n",
       "       [0., 0., 1.],\n",
       "       [0., 0., 1.],\n",
       "       [0., 0., 1.],\n",
       "       [0., 0., 1.],\n",
       "       [0., 0., 1.],\n",
       "       [0., 0., 1.],\n",
       "       [0., 0., 1.],\n",
       "       [0., 0., 1.],\n",
       "       [0., 0., 1.],\n",
       "       [0., 0., 1.],\n",
       "       [0., 0., 1.],\n",
       "       [0., 0., 1.],\n",
       "       [0., 0., 1.],\n",
       "       [0., 0., 1.],\n",
       "       [0., 0., 1.],\n",
       "       [0., 0., 1.],\n",
       "       [0., 0., 1.]], dtype=float32)"
      ]
     },
     "execution_count": 39,
     "metadata": {},
     "output_type": "execute_result"
    }
   ],
   "source": [
    "y"
   ]
  },
  {
   "cell_type": "code",
   "execution_count": 40,
   "metadata": {},
   "outputs": [],
   "source": [
    "model = keras.models.Sequential()\n",
    "model.add(keras.layers.Dense(16,input_dim=4,activation='relu'))\n",
    "model.add(keras.layers.Dense(3,activation = 'softmax')) \n",
    "# y 카테로리가 3개이므로 output 에 3 을 넣었다.\n",
    "# 다중 카테고리 분류에서는 activation 이 softmax 함수를 맨 마지막에 넣어주어야한다.\n",
    "model.compile(loss='categorical_crossentropy', # one hot encoding 되었으므로 이 loss 를 써주어야 ㅎ나다.\n",
    "              optimizer= 'adam',\n",
    "              metrics=['accuracy'])\n",
    "fit = model.fit(X,y, epochs=100, batch_size = 10,verbose = 0) \n",
    "#verbose = 0 은 학습과정 보기 싫을떄."
   ]
  },
  {
   "cell_type": "markdown",
   "metadata": {},
   "source": [
    "## 이미지 분류기"
   ]
  },
  {
   "cell_type": "markdown",
   "metadata": {},
   "source": [
    "### 데이터 전처리 및 데이터 살펴보기"
   ]
  },
  {
   "cell_type": "code",
   "execution_count": 41,
   "metadata": {},
   "outputs": [],
   "source": [
    "#MNIST 데이터셋 load 하기. 이미 train/test set 이 나누어져있는 상태이기떄문에 data load 할떄에 train/test 를 모두 로드하자.\n",
    "fashion_mnist = keras.datasets.fashion_mnist\n",
    "(X_train_full, y_train_full), (X_test, y_test) = fashion_mnist.load_data()"
   ]
  },
  {
   "cell_type": "code",
   "execution_count": 42,
   "metadata": {},
   "outputs": [
    {
     "data": {
      "text/plain": [
       "(60000, 28, 28)"
      ]
     },
     "execution_count": 42,
     "metadata": {},
     "output_type": "execute_result"
    }
   ],
   "source": [
    "# 훈련 세트는 60,000개의 흑백 이미지입니다. 각 이미지의 크기는 28x28 픽셀입니다:\n",
    "X_train_full.shape"
   ]
  },
  {
   "cell_type": "code",
   "execution_count": 43,
   "metadata": {},
   "outputs": [
    {
     "data": {
      "text/plain": [
       "dtype('uint8')"
      ]
     },
     "execution_count": 43,
     "metadata": {},
     "output_type": "execute_result"
    }
   ],
   "source": [
    "# 각 픽셀의 강도는 바이트(0~255)로 표현된다.\n",
    "X_train_full.dtype"
   ]
  },
  {
   "cell_type": "code",
   "execution_count": 44,
   "metadata": {},
   "outputs": [],
   "source": [
    "# 전체 훈련 세트를 valid set 과 train set 으로 나누자. (학습에 대한 추이를 보기 위함.)\n",
    "# 그리고 픽셀의 강도를 0~1 의 값을 가지도록 설정하자. \n",
    "X_valid, X_train = X_train_full[:5000] / 255., X_train_full[5000:] / 255.\n",
    "y_valid, y_train = y_train_full[:5000], y_train_full[5000:]\n",
    "X_test = X_test / 255."
   ]
  },
  {
   "cell_type": "code",
   "execution_count": 45,
   "metadata": {},
   "outputs": [
    {
     "data": {
      "image/png": "[encoded data removed]",
      "text/plain": [
       "<Figure size 432x288 with 1 Axes>"
      ]
     },
     "metadata": {
      "needs_background": "light"
     },
     "output_type": "display_data"
    }
   ],
   "source": [
    "#맷플롯립의 `imshow()` 함수와 `'binary'` 컬러맵을 사용해 이미지를 출력할 수 있습니다:\n",
    "plt.imshow(X_train[0], cmap=\"binary\")\n",
    "plt.axis('off') # axis 를 off 해서 없애자.\n",
    "plt.show()"
   ]
  },
  {
   "cell_type": "code",
   "execution_count": 46,
   "metadata": {},
   "outputs": [
    {
     "data": {
      "text/plain": [
       "array([4, 0, 7, ..., 3, 0, 5], dtype=uint8)"
      ]
     },
     "execution_count": 46,
     "metadata": {},
     "output_type": "execute_result"
    }
   ],
   "source": [
    "# 레이블은 0에서 9까지 (uint8로 표현된) 클래스 아이디 이다.\n",
    "y_train"
   ]
  },
  {
   "cell_type": "code",
   "execution_count": 47,
   "metadata": {},
   "outputs": [],
   "source": [
    "# 클래스 이름은 다음과 같습니다:\n",
    "class_names = [\"T-shirt/top\", \"Trouser\", \"Pullover\", \"Dress\", \"Coat\",\n",
    "               \"Sandal\", \"Shirt\", \"Sneaker\", \"Bag\", \"Ankle boot\"]"
   ]
  },
  {
   "cell_type": "code",
   "execution_count": 48,
   "metadata": {},
   "outputs": [
    {
     "data": {
      "text/plain": [
       "'Coat'"
      ]
     },
     "execution_count": 48,
     "metadata": {},
     "output_type": "execute_result"
    }
   ],
   "source": [
    "# 훈련 세트에 있는 첫 번째 이미지는 코트이다.\n",
    "class_names[y_train[0]]"
   ]
  },
  {
   "cell_type": "code",
   "execution_count": 49,
   "metadata": {},
   "outputs": [
    {
     "data": {
      "text/plain": [
       "(5000, 28, 28)"
      ]
     },
     "execution_count": 49,
     "metadata": {},
     "output_type": "execute_result"
    }
   ],
   "source": [
    "#검증 세트는 5,000개의 이미지를 담고 있고 테스트 세트는 10,000개의 이미지를 가집니다:\n",
    "X_valid.shape"
   ]
  },
  {
   "cell_type": "code",
   "execution_count": 50,
   "metadata": {},
   "outputs": [
    {
     "data": {
      "text/plain": [
       "(10000, 28, 28)"
      ]
     },
     "execution_count": 50,
     "metadata": {},
     "output_type": "execute_result"
    }
   ],
   "source": [
    "X_test.shape"
   ]
  },
  {
   "cell_type": "code",
   "execution_count": 51,
   "metadata": {
    "scrolled": true
   },
   "outputs": [
    {
     "data": {
      "image/png": "[encoded data removed]",
      "text/plain": [
       "<Figure size 864x345.6 with 40 Axes>"
      ]
     },
     "metadata": {
      "needs_background": "light"
     },
     "output_type": "display_data"
    }
   ],
   "source": [
    "# 이 데이터셋에 있는 샘플 이미지를 몇 개 출력해 보자,\n",
    "n_rows = 4\n",
    "n_cols = 10\n",
    "plt.figure(figsize=(n_cols * 1.2, n_rows * 1.2))\n",
    "for row in range(n_rows):\n",
    "    for col in range(n_cols):\n",
    "        index = n_cols * row + col\n",
    "        plt.subplot(n_rows, n_cols, index + 1)\n",
    "        plt.imshow(X_train[index], cmap=\"binary\", interpolation=\"nearest\")\n",
    "        plt.axis('off')\n",
    "        plt.title(class_names[y_train[index]], fontsize=12)\n",
    "plt.subplots_adjust(wspace=0.2, hspace=0.5)\n",
    "plt.show()"
   ]
  },
  {
   "cell_type": "markdown",
   "metadata": {},
   "source": [
    "### 모델 구성하기"
   ]
  },
  {
   "cell_type": "code",
   "execution_count": 52,
   "metadata": {},
   "outputs": [
    {
     "name": "stdout",
     "output_type": "stream",
     "text": [
      "Model: \"sequential_6\"\n",
      "_________________________________________________________________\n",
      "Layer (type)                 Output Shape              Param #   \n",
      "=================================================================\n",
      "flatten (Flatten)            (None, 784)               0         \n",
      "_________________________________________________________________\n",
      "dense_10 (Dense)             (None, 300)               235500    \n",
      "_________________________________________________________________\n",
      "dense_11 (Dense)             (None, 100)               30100     \n",
      "_________________________________________________________________\n",
      "dense_12 (Dense)             (None, 10)                1010      \n",
      "=================================================================\n",
      "Total params: 266,610\n",
      "Trainable params: 266,610\n",
      "Non-trainable params: 0\n",
      "_________________________________________________________________\n"
     ]
    }
   ],
   "source": [
    "model = keras.models.Sequential() \n",
    "model.add(keras.layers.Flatten(input_shape=[28, 28])) # flatten 층은 입력 이미지를 1d vector 로 변환한다.\n",
    "model.add(keras.layers.Dense(300, activation=\"relu\"))# 뉴런 300 개를 가지는 hidden layer 를 추가한다. # activation 은 relu 사용\n",
    "model.add(keras.layers.Dense(100, activation=\"relu\"))# 이번에는 뉴런 100개를 가지는 hidden layer 를 또 추가한다.\n",
    "model.add(keras.layers.Dense(10, activation=\"softmax\"))# 마지막 출력은 다중 lable 문제이므로 softmax 를 사용한다.\n",
    "model.summary()"
   ]
  },
  {
   "cell_type": "code",
   "execution_count": 53,
   "metadata": {},
   "outputs": [
    {
     "name": "stdout",
     "output_type": "stream",
     "text": [
      "Model: \"sequential_7\"\n",
      "_________________________________________________________________\n",
      "Layer (type)                 Output Shape              Param #   \n",
      "=================================================================\n",
      "dense_13 (Dense)             (None, 28, 300)           8700      \n",
      "_________________________________________________________________\n",
      "dense_14 (Dense)             (None, 28, 100)           30100     \n",
      "_________________________________________________________________\n",
      "dense_15 (Dense)             (None, 28, 10)            1010      \n",
      "=================================================================\n",
      "Total params: 39,810\n",
      "Trainable params: 39,810\n",
      "Non-trainable params: 0\n",
      "_________________________________________________________________\n"
     ]
    }
   ],
   "source": [
    "# flatten 이 없으면 이렇게 첫 28*28 의 x 데이터를 모두 활용하지 못하게 된다.\n",
    "model1 = keras.models.Sequential()\n",
    "model1.add(keras.layers.Dense(300,activation='relu',input_shape=[28,28]))\n",
    "model1.add(keras.layers.Dense(100,activation='relu'))\n",
    "model1.add(keras.layers.Dense(10,activation='softmax'))\n",
    "model1.summary()"
   ]
  },
  {
   "cell_type": "code",
   "execution_count": 54,
   "metadata": {},
   "outputs": [],
   "source": [
    "keras.backend.clear_session() # tf.keras.backend.clear_session(). Resets all state generated by Keras.\n",
    "np.random.seed(42) # 재현성을 높히기 위해 random 고정\n",
    "tf.random.set_seed(42) # same as above"
   ]
  },
  {
   "cell_type": "code",
   "execution_count": 55,
   "metadata": {},
   "outputs": [],
   "source": [
    "# 이런식으로도 구성할 수 있다.  나는 맨 위 방법이 층을 쌓아간다는 느낌이 더 강해서 더 좋은거같다.\n",
    "model = keras.models.Sequential([\n",
    "    keras.layers.Flatten(input_shape=[28, 28]),\n",
    "    keras.layers.Dense(300, activation=\"relu\"),\n",
    "    keras.layers.Dense(100, activation=\"relu\"),\n",
    "    keras.layers.Dense(10, activation=\"softmax\")\n",
    "])"
   ]
  },
  {
   "cell_type": "markdown",
   "metadata": {},
   "source": [
    "### 모델 살펴보기"
   ]
  },
  {
   "cell_type": "code",
   "execution_count": 56,
   "metadata": {
    "scrolled": true
   },
   "outputs": [
    {
     "name": "stdout",
     "output_type": "stream",
     "text": [
      "Model: \"sequential\"\n",
      "_________________________________________________________________\n",
      "Layer (type)                 Output Shape              Param #   \n",
      "=================================================================\n",
      "flatten (Flatten)            (None, 784)               0         \n",
      "_________________________________________________________________\n",
      "dense (Dense)                (None, 300)               235500    \n",
      "_________________________________________________________________\n",
      "dense_1 (Dense)              (None, 100)               30100     \n",
      "_________________________________________________________________\n",
      "dense_2 (Dense)              (None, 10)                1010      \n",
      "=================================================================\n",
      "Total params: 266,610\n",
      "Trainable params: 266,610\n",
      "Non-trainable params: 0\n",
      "_________________________________________________________________\n"
     ]
    }
   ],
   "source": [
    "model.summary()\n",
    "# 파라미터가 매우 많다. 모델이 유연하다는 의미도 있지만, 과대적합의 위험도 있다. "
   ]
  },
  {
   "cell_type": "code",
   "execution_count": 57,
   "metadata": {},
   "outputs": [
    {
     "data": {
      "text/plain": [
       "[<tensorflow.python.keras.layers.core.Flatten at 0x2c673e5af08>,\n",
       " <tensorflow.python.keras.layers.core.Dense at 0x2c673e60148>,\n",
       " <tensorflow.python.keras.layers.core.Dense at 0x2c673e60348>,\n",
       " <tensorflow.python.keras.layers.core.Dense at 0x2c673e60588>]"
      ]
     },
     "execution_count": 57,
     "metadata": {},
     "output_type": "execute_result"
    }
   ],
   "source": [
    "# 레이어 살펴보기\n",
    "model.layers"
   ]
  },
  {
   "cell_type": "code",
   "execution_count": 58,
   "metadata": {},
   "outputs": [
    {
     "data": {
      "text/plain": [
       "'dense'"
      ]
     },
     "execution_count": 58,
     "metadata": {},
     "output_type": "execute_result"
    }
   ],
   "source": [
    "#레이어를 선택할 수 있다.\n",
    "hidden1 = model.layers[1]\n",
    "hidden1.name"
   ]
  },
  {
   "cell_type": "code",
   "execution_count": 59,
   "metadata": {},
   "outputs": [],
   "source": [
    "# get_wights() method 를 통해서 모든 층의 파라미터를 조사할 수 있다.\n",
    "weights, biases = hidden1.get_weights() # dense 층의 경우 연결 가중치(w) 와 편향(b) 가 모두 표시된다."
   ]
  },
  {
   "cell_type": "code",
   "execution_count": 60,
   "metadata": {},
   "outputs": [
    {
     "data": {
      "text/plain": [
       "array([[ 0.02448617, -0.00877795, -0.02189048, ..., -0.02766046,\n",
       "         0.03859074, -0.06889391],\n",
       "       [ 0.00476504, -0.03105379, -0.0586676 , ...,  0.00602964,\n",
       "        -0.02763776, -0.04165364],\n",
       "       [-0.06189284, -0.06901957,  0.07102345, ..., -0.04238207,\n",
       "         0.07121518, -0.07331658],\n",
       "       ...,\n",
       "       [-0.03048757,  0.02155137, -0.05400612, ..., -0.00113463,\n",
       "         0.00228987,  0.05581069],\n",
       "       [ 0.07061854, -0.06960931,  0.07038955, ..., -0.00384101,\n",
       "         0.00034875,  0.02878492],\n",
       "       [-0.06022581,  0.01577859, -0.02585464, ..., -0.00527829,\n",
       "         0.00272203, -0.06793761]], dtype=float32)"
      ]
     },
     "execution_count": 60,
     "metadata": {},
     "output_type": "execute_result"
    }
   ],
   "source": [
    "weights"
   ]
  },
  {
   "cell_type": "code",
   "execution_count": 61,
   "metadata": {},
   "outputs": [
    {
     "data": {
      "text/plain": [
       "(784, 300)"
      ]
     },
     "execution_count": 61,
     "metadata": {},
     "output_type": "execute_result"
    }
   ],
   "source": [
    "weights.shape"
   ]
  },
  {
   "cell_type": "code",
   "execution_count": 62,
   "metadata": {},
   "outputs": [
    {
     "data": {
      "text/plain": [
       "array([0., 0., 0., 0., 0., 0., 0., 0., 0., 0., 0., 0., 0., 0., 0., 0., 0.,\n",
       "       0., 0., 0., 0., 0., 0., 0., 0., 0., 0., 0., 0., 0., 0., 0., 0., 0.,\n",
       "       0., 0., 0., 0., 0., 0., 0., 0., 0., 0., 0., 0., 0., 0., 0., 0., 0.,\n",
       "       0., 0., 0., 0., 0., 0., 0., 0., 0., 0., 0., 0., 0., 0., 0., 0., 0.,\n",
       "       0., 0., 0., 0., 0., 0., 0., 0., 0., 0., 0., 0., 0., 0., 0., 0., 0.,\n",
       "       0., 0., 0., 0., 0., 0., 0., 0., 0., 0., 0., 0., 0., 0., 0., 0., 0.,\n",
       "       0., 0., 0., 0., 0., 0., 0., 0., 0., 0., 0., 0., 0., 0., 0., 0., 0.,\n",
       "       0., 0., 0., 0., 0., 0., 0., 0., 0., 0., 0., 0., 0., 0., 0., 0., 0.,\n",
       "       0., 0., 0., 0., 0., 0., 0., 0., 0., 0., 0., 0., 0., 0., 0., 0., 0.,\n",
       "       0., 0., 0., 0., 0., 0., 0., 0., 0., 0., 0., 0., 0., 0., 0., 0., 0.,\n",
       "       0., 0., 0., 0., 0., 0., 0., 0., 0., 0., 0., 0., 0., 0., 0., 0., 0.,\n",
       "       0., 0., 0., 0., 0., 0., 0., 0., 0., 0., 0., 0., 0., 0., 0., 0., 0.,\n",
       "       0., 0., 0., 0., 0., 0., 0., 0., 0., 0., 0., 0., 0., 0., 0., 0., 0.,\n",
       "       0., 0., 0., 0., 0., 0., 0., 0., 0., 0., 0., 0., 0., 0., 0., 0., 0.,\n",
       "       0., 0., 0., 0., 0., 0., 0., 0., 0., 0., 0., 0., 0., 0., 0., 0., 0.,\n",
       "       0., 0., 0., 0., 0., 0., 0., 0., 0., 0., 0., 0., 0., 0., 0., 0., 0.,\n",
       "       0., 0., 0., 0., 0., 0., 0., 0., 0., 0., 0., 0., 0., 0., 0., 0., 0.,\n",
       "       0., 0., 0., 0., 0., 0., 0., 0., 0., 0., 0.], dtype=float32)"
      ]
     },
     "execution_count": 62,
     "metadata": {},
     "output_type": "execute_result"
    }
   ],
   "source": [
    "biases"
   ]
  },
  {
   "cell_type": "code",
   "execution_count": 63,
   "metadata": {},
   "outputs": [
    {
     "data": {
      "text/plain": [
       "(300,)"
      ]
     },
     "execution_count": 63,
     "metadata": {},
     "output_type": "execute_result"
    }
   ],
   "source": [
    "biases.shape"
   ]
  },
  {
   "cell_type": "code",
   "execution_count": 64,
   "metadata": {},
   "outputs": [],
   "source": [
    "model.compile(loss=\"sparse_categorical_crossentropy\", \n",
    "              # y variable 이 원 핫 인코딩이 아닌 상태에서 cross entropy 를 계산하는 loss , 즉 그냥 corss entropy 라고 생각하자\n",
    "              # 여기서는 정답 레이블이 0~9 인 1dim vector 이므로 sparse 를 사용\n",
    "              optimizer=\"sgd\",\n",
    "              metrics=[\"accuracy\"]) "
   ]
  },
  {
   "cell_type": "code",
   "execution_count": 65,
   "metadata": {},
   "outputs": [
    {
     "name": "stdout",
     "output_type": "stream",
     "text": [
      "Train on 55000 samples, validate on 5000 samples\n",
      "Epoch 1/30\n",
      "55000/55000 [==============================] - 3s 55us/sample - loss: 0.7226 - accuracy: 0.7642 - val_loss: 0.5075 - val_accuracy: 0.8314\n",
      "Epoch 2/30\n",
      "55000/55000 [==============================] - 3s 51us/sample - loss: 0.4843 - accuracy: 0.8321 - val_loss: 0.4538 - val_accuracy: 0.8486\n",
      "Epoch 3/30\n",
      "55000/55000 [==============================] - 3s 46us/sample - loss: 0.4413 - accuracy: 0.8465 - val_loss: 0.4385 - val_accuracy: 0.8490\n",
      "Epoch 4/30\n",
      "55000/55000 [==============================] - 3s 56us/sample - loss: 0.4128 - accuracy: 0.8549 - val_loss: 0.4163 - val_accuracy: 0.8562\n",
      "Epoch 5/30\n",
      "55000/55000 [==============================] - 3s 49us/sample - loss: 0.3926 - accuracy: 0.8617 - val_loss: 0.3817 - val_accuracy: 0.8636\n",
      "Epoch 6/30\n",
      "55000/55000 [==============================] - 3s 47us/sample - loss: 0.3770 - accuracy: 0.8667 - val_loss: 0.3729 - val_accuracy: 0.8680\n",
      "Epoch 7/30\n",
      "55000/55000 [==============================] - 3s 47us/sample - loss: 0.3626 - accuracy: 0.8733 - val_loss: 0.3699 - val_accuracy: 0.8710\n",
      "Epoch 8/30\n",
      "55000/55000 [==============================] - 3s 47us/sample - loss: 0.3517 - accuracy: 0.8749 - val_loss: 0.3666 - val_accuracy: 0.8696\n",
      "Epoch 9/30\n",
      "55000/55000 [==============================] - 3s 47us/sample - loss: 0.3420 - accuracy: 0.8772 - val_loss: 0.3438 - val_accuracy: 0.8786\n",
      "Epoch 10/30\n",
      "55000/55000 [==============================] - 3s 47us/sample - loss: 0.3326 - accuracy: 0.8814 - val_loss: 0.3511 - val_accuracy: 0.8794\n",
      "Epoch 11/30\n",
      "55000/55000 [==============================] - 3s 47us/sample - loss: 0.3241 - accuracy: 0.8835 - val_loss: 0.3357 - val_accuracy: 0.8816\n",
      "Epoch 12/30\n",
      "55000/55000 [==============================] - 3s 48us/sample - loss: 0.3159 - accuracy: 0.8871 - val_loss: 0.3310 - val_accuracy: 0.8846\n",
      "Epoch 13/30\n",
      "55000/55000 [==============================] - 3s 48us/sample - loss: 0.3073 - accuracy: 0.8903 - val_loss: 0.3325 - val_accuracy: 0.8826\n",
      "Epoch 14/30\n",
      "55000/55000 [==============================] - 3s 47us/sample - loss: 0.3017 - accuracy: 0.8920 - val_loss: 0.3243 - val_accuracy: 0.8880\n",
      "Epoch 15/30\n",
      "55000/55000 [==============================] - 3s 47us/sample - loss: 0.2953 - accuracy: 0.8937 - val_loss: 0.3173 - val_accuracy: 0.8892\n",
      "Epoch 16/30\n",
      "55000/55000 [==============================] - 3s 47us/sample - loss: 0.2898 - accuracy: 0.8966 - val_loss: 0.3251 - val_accuracy: 0.8888\n",
      "Epoch 17/30\n",
      "55000/55000 [==============================] - 3s 47us/sample - loss: 0.2833 - accuracy: 0.8987 - val_loss: 0.3178 - val_accuracy: 0.8920\n",
      "Epoch 18/30\n",
      "55000/55000 [==============================] - 3s 48us/sample - loss: 0.2781 - accuracy: 0.8999 - val_loss: 0.3102 - val_accuracy: 0.8908\n",
      "Epoch 19/30\n",
      "55000/55000 [==============================] - 3s 47us/sample - loss: 0.2729 - accuracy: 0.9021 - val_loss: 0.3205 - val_accuracy: 0.8836\n",
      "Epoch 20/30\n",
      "55000/55000 [==============================] - 3s 47us/sample - loss: 0.2680 - accuracy: 0.9044 - val_loss: 0.3219 - val_accuracy: 0.8852\n",
      "Epoch 21/30\n",
      "55000/55000 [==============================] - 3s 47us/sample - loss: 0.2635 - accuracy: 0.9041 - val_loss: 0.3007 - val_accuracy: 0.8944\n",
      "Epoch 22/30\n",
      "55000/55000 [==============================] - 3s 47us/sample - loss: 0.2575 - accuracy: 0.9076 - val_loss: 0.3103 - val_accuracy: 0.8878\n",
      "Epoch 23/30\n",
      "55000/55000 [==============================] - 3s 48us/sample - loss: 0.2538 - accuracy: 0.9084 - val_loss: 0.3001 - val_accuracy: 0.8910\n",
      "Epoch 24/30\n",
      "55000/55000 [==============================] - 3s 50us/sample - loss: 0.2492 - accuracy: 0.9103 - val_loss: 0.3096 - val_accuracy: 0.8870\n",
      "Epoch 25/30\n",
      "55000/55000 [==============================] - 3s 53us/sample - loss: 0.2452 - accuracy: 0.9121 - val_loss: 0.3114 - val_accuracy: 0.8892\n",
      "Epoch 26/30\n",
      "55000/55000 [==============================] - 4s 65us/sample - loss: 0.2408 - accuracy: 0.9145 - val_loss: 0.3263 - val_accuracy: 0.8850\n",
      "Epoch 27/30\n",
      "55000/55000 [==============================] - 3s 51us/sample - loss: 0.2367 - accuracy: 0.9151 - val_loss: 0.3117 - val_accuracy: 0.8852\n",
      "Epoch 28/30\n",
      "55000/55000 [==============================] - 3s 51us/sample - loss: 0.2323 - accuracy: 0.9177 - val_loss: 0.2921 - val_accuracy: 0.8950\n",
      "Epoch 29/30\n",
      "55000/55000 [==============================] - 3s 53us/sample - loss: 0.2288 - accuracy: 0.9190 - val_loss: 0.2970 - val_accuracy: 0.8920\n",
      "Epoch 30/30\n",
      "55000/55000 [==============================] - 3s 52us/sample - loss: 0.2256 - accuracy: 0.9192 - val_loss: 0.3016 - val_accuracy: 0.8902\n"
     ]
    }
   ],
   "source": [
    "history = model.fit(X_train, y_train, epochs=30,\n",
    "                    validation_data=(X_valid, y_valid)) # 이 떄에는 학습의 추이를 살펴보려고 val date를 추가하였다."
   ]
  },
  {
   "cell_type": "code",
   "execution_count": 66,
   "metadata": {},
   "outputs": [
    {
     "data": {
      "text/plain": [
       "{'batch_size': 32,\n",
       " 'epochs': 30,\n",
       " 'steps': 1719,\n",
       " 'samples': 55000,\n",
       " 'verbose': 0,\n",
       " 'do_validation': True,\n",
       " 'metrics': ['loss', 'accuracy', 'val_loss', 'val_accuracy']}"
      ]
     },
     "execution_count": 66,
     "metadata": {},
     "output_type": "execute_result"
    }
   ],
   "source": [
    "history.params #모델적합이 어떻게 이루어졌는지에 대해서 간략하게 history 제공"
   ]
  },
  {
   "cell_type": "code",
   "execution_count": 67,
   "metadata": {},
   "outputs": [
    {
     "data": {
      "text/plain": [
       "dict_keys(['loss', 'accuracy', 'val_loss', 'val_accuracy'])"
      ]
     },
     "execution_count": 67,
     "metadata": {},
     "output_type": "execute_result"
    }
   ],
   "source": [
    "history.history.keys()"
   ]
  },
  {
   "cell_type": "markdown",
   "metadata": {},
   "source": [
    "### training 과정"
   ]
  },
  {
   "cell_type": "code",
   "execution_count": 68,
   "metadata": {
    "scrolled": true
   },
   "outputs": [
    {
     "data": {
      "image/png": "[encoded data removed]",
      "text/plain": [
       "<Figure size 576x360 with 1 Axes>"
      ]
     },
     "metadata": {
      "needs_background": "light"
     },
     "output_type": "display_data"
    }
   ],
   "source": [
    "pd.DataFrame(history.history).plot(figsize=(8, 5))\n",
    "plt.show()"
   ]
  },
  {
   "cell_type": "markdown",
   "metadata": {},
   "source": [
    "### 모델 평가"
   ]
  },
  {
   "cell_type": "code",
   "execution_count": 69,
   "metadata": {
    "scrolled": true
   },
   "outputs": [
    {
     "name": "stdout",
     "output_type": "stream",
     "text": [
      "10000/10000 [==============================] - 0s 25us/sample - loss: 0.3348 - accuracy: 0.8788\n"
     ]
    },
    {
     "data": {
      "text/plain": [
       "[0.3347936288356781, 0.8788]"
      ]
     },
     "execution_count": 69,
     "metadata": {},
     "output_type": "execute_result"
    }
   ],
   "source": [
    "model.evaluate(X_test, y_test)"
   ]
  },
  {
   "cell_type": "markdown",
   "metadata": {},
   "source": [
    "### 모델 예측하기"
   ]
  },
  {
   "cell_type": "code",
   "execution_count": 70,
   "metadata": {},
   "outputs": [
    {
     "data": {
      "text/plain": [
       "array([[0.  , 0.  , 0.  , 0.  , 0.  , 0.  , 0.  , 0.01, 0.  , 0.98],\n",
       "       [0.  , 0.  , 0.99, 0.  , 0.01, 0.  , 0.  , 0.  , 0.  , 0.  ],\n",
       "       [0.  , 1.  , 0.  , 0.  , 0.  , 0.  , 0.  , 0.  , 0.  , 0.  ]],\n",
       "      dtype=float32)"
      ]
     },
     "execution_count": 70,
     "metadata": {},
     "output_type": "execute_result"
    }
   ],
   "source": [
    "X_new = X_test[:3]\n",
    "y_proba = model.predict(X_new)\n",
    "y_proba.round(2) #각각 0~ 9 class 마다 각각의 확률을 모델이 추정하였다."
   ]
  },
  {
   "cell_type": "code",
   "execution_count": 71,
   "metadata": {},
   "outputs": [
    {
     "data": {
      "text/plain": [
       "array([9, 2, 1], dtype=int64)"
      ]
     },
     "execution_count": 71,
     "metadata": {},
     "output_type": "execute_result"
    }
   ],
   "source": [
    "# 가장 높은 클래스에만 관심이 있으면 model.predict_classes 를 쓴다.\n",
    "y_pred = model.predict_classes(X_new)\n",
    "y_pred"
   ]
  },
  {
   "cell_type": "code",
   "execution_count": 72,
   "metadata": {},
   "outputs": [
    {
     "data": {
      "text/plain": [
       "array(['Ankle boot', 'Pullover', 'Trouser'], dtype='<U11')"
      ]
     },
     "execution_count": 72,
     "metadata": {},
     "output_type": "execute_result"
    }
   ],
   "source": [
    "np.array(class_names)[y_pred]"
   ]
  },
  {
   "cell_type": "code",
   "execution_count": 73,
   "metadata": {},
   "outputs": [
    {
     "data": {
      "text/plain": [
       "array([9, 2, 1], dtype=uint8)"
      ]
     },
     "execution_count": 73,
     "metadata": {},
     "output_type": "execute_result"
    }
   ],
   "source": [
    "y_new = y_test[:3]\n",
    "y_new"
   ]
  },
  {
   "cell_type": "code",
   "execution_count": 74,
   "metadata": {
    "scrolled": true
   },
   "outputs": [
    {
     "data": {
      "image/png": "[encoded data removed]",
      "text/plain": [
       "<Figure size 518.4x172.8 with 3 Axes>"
      ]
     },
     "metadata": {
      "needs_background": "light"
     },
     "output_type": "display_data"
    }
   ],
   "source": [
    "plt.figure(figsize=(7.2, 2.4))\n",
    "for index, image in enumerate(X_new):\n",
    "    plt.subplot(1, 3, index + 1)\n",
    "    plt.imshow(image, cmap=\"binary\", interpolation=\"nearest\")\n",
    "    plt.axis('off')\n",
    "    plt.title(class_names[y_test[index]], fontsize=12)\n",
    "plt.subplots_adjust(wspace=0.2, hspace=0.5)\n",
    "plt.show()"
   ]
  },
  {
   "cell_type": "markdown",
   "metadata": {},
   "source": [
    "## 캘리포니아 주택 예측"
   ]
  },
  {
   "cell_type": "code",
   "execution_count": 75,
   "metadata": {},
   "outputs": [],
   "source": [
    "from sklearn.datasets import fetch_california_housing\n",
    "from sklearn.model_selection import train_test_split\n",
    "from sklearn.preprocessing import StandardScaler\n",
    "housing = fetch_california_housing()\n",
    "\n",
    "X_train_full, X_test, y_train_full, y_test = train_test_split(housing.data, housing.target, random_state=42) \n",
    "# test size 는 default 로 0.25\n",
    "X_train, X_valid, y_train, y_valid = train_test_split(X_train_full, y_train_full, random_state=42)\n",
    "# 이 역시 valid size 는 defaualt 로 0.25\n",
    "\n",
    "# X data scaling\n",
    "scaler = StandardScaler() \n",
    "X_train = scaler.fit_transform(X_train)\n",
    "X_valid = scaler.transform(X_valid) \n",
    "X_test = scaler.transform(X_test)"
   ]
  },
  {
   "cell_type": "code",
   "execution_count": 76,
   "metadata": {
    "scrolled": false
   },
   "outputs": [
    {
     "data": {
      "text/plain": [
       "(11610, 8)"
      ]
     },
     "execution_count": 76,
     "metadata": {},
     "output_type": "execute_result"
    }
   ],
   "source": [
    "X_train.shape"
   ]
  },
  {
   "cell_type": "code",
   "execution_count": 77,
   "metadata": {},
   "outputs": [],
   "source": [
    "np.random.seed(42)\n",
    "tf.random.set_seed(42)"
   ]
  },
  {
   "cell_type": "markdown",
   "metadata": {},
   "source": [
    "### 모델구성"
   ]
  },
  {
   "cell_type": "code",
   "execution_count": 78,
   "metadata": {},
   "outputs": [
    {
     "name": "stdout",
     "output_type": "stream",
     "text": [
      "Train on 11610 samples, validate on 3870 samples\n",
      "Epoch 1/20\n",
      "11610/11610 [==============================] - 1s 49us/sample - loss: 1.6205 - mse: 1.6205 - val_loss: 2.0374 - val_mse: 2.0374\n",
      "Epoch 2/20\n",
      "11610/11610 [==============================] - 0s 27us/sample - loss: 0.7162 - mse: 0.7162 - val_loss: 0.6571 - val_mse: 0.6571\n",
      "Epoch 3/20\n",
      "11610/11610 [==============================] - 0s 25us/sample - loss: 0.6356 - mse: 0.6356 - val_loss: 0.5996 - val_mse: 0.5996\n",
      "Epoch 4/20\n",
      "11610/11610 [==============================] - 0s 30us/sample - loss: 0.5989 - mse: 0.5989 - val_loss: 0.5662 - val_mse: 0.5662\n",
      "Epoch 5/20\n",
      "11610/11610 [==============================] - 0s 27us/sample - loss: 0.5713 - mse: 0.5713 - val_loss: 0.5489 - val_mse: 0.5489\n",
      "Epoch 6/20\n",
      "11610/11610 [==============================] - 0s 29us/sample - loss: 0.5491 - mse: 0.5491 - val_loss: 0.5204 - val_mse: 0.5204\n",
      "Epoch 7/20\n",
      "11610/11610 [==============================] - 0s 27us/sample - loss: 0.5301 - mse: 0.5301 - val_loss: 0.5018 - val_mse: 0.5018\n",
      "Epoch 8/20\n",
      "11610/11610 [==============================] - 0s 29us/sample - loss: 0.5142 - mse: 0.5142 - val_loss: 0.4815 - val_mse: 0.4815\n",
      "Epoch 9/20\n",
      "11610/11610 [==============================] - 0s 26us/sample - loss: 0.5004 - mse: 0.5004 - val_loss: 0.4695 - val_mse: 0.4695\n",
      "Epoch 10/20\n",
      "11610/11610 [==============================] - 0s 26us/sample - loss: 0.4883 - mse: 0.4883 - val_loss: 0.4605 - val_mse: 0.4605\n",
      "Epoch 11/20\n",
      "11610/11610 [==============================] - 0s 26us/sample - loss: 0.4786 - mse: 0.4786 - val_loss: 0.4495 - val_mse: 0.4495\n",
      "Epoch 12/20\n",
      "11610/11610 [==============================] - 0s 27us/sample - loss: 0.4697 - mse: 0.4697 - val_loss: 0.4382 - val_mse: 0.4382\n",
      "Epoch 13/20\n",
      "11610/11610 [==============================] - 0s 27us/sample - loss: 0.4621 - mse: 0.4621 - val_loss: 0.4309 - val_mse: 0.4309\n",
      "Epoch 14/20\n",
      "11610/11610 [==============================] - 0s 26us/sample - loss: 0.4556 - mse: 0.4556 - val_loss: 0.4247 - val_mse: 0.4247\n",
      "Epoch 15/20\n",
      "11610/11610 [==============================] - 0s 26us/sample - loss: 0.4497 - mse: 0.4497 - val_loss: 0.4200 - val_mse: 0.4200\n",
      "Epoch 16/20\n",
      "11610/11610 [==============================] - 0s 26us/sample - loss: 0.4443 - mse: 0.4443 - val_loss: 0.4149 - val_mse: 0.4149\n",
      "Epoch 17/20\n",
      "11610/11610 [==============================] - 0s 26us/sample - loss: 0.4397 - mse: 0.4397 - val_loss: 0.4108 - val_mse: 0.4108\n",
      "Epoch 18/20\n",
      "11610/11610 [==============================] - 0s 27us/sample - loss: 0.4354 - mse: 0.4354 - val_loss: 0.4059 - val_mse: 0.4059\n",
      "Epoch 19/20\n",
      "11610/11610 [==============================] - 0s 27us/sample - loss: 0.4315 - mse: 0.4315 - val_loss: 0.4003 - val_mse: 0.4003\n",
      "Epoch 20/20\n",
      "11610/11610 [==============================] - 0s 26us/sample - loss: 0.4281 - mse: 0.4281 - val_loss: 0.3981 - val_mse: 0.3981\n",
      "5160/5160 [==============================] - 0s 14us/sample - loss: 0.4218 - mse: 0.4218\n"
     ]
    }
   ],
   "source": [
    "model = keras.models.Sequential()\n",
    "model.add(keras.layers.Dense(30,activation='relu',input_shape = X_train.shape[1:]))\n",
    "model.add(keras.layers.Dense(1)) #잡음이 많은 데이터의 경우, weight 가 많으면 과적합시 엄청 큰 문제가 생기므로, hidden layer 를 더 늘리지 않고 바로출력층을 쌓자.\n",
    "model.compile(loss=\"mean_squared_error\", \n",
    "              optimizer=keras.optimizers.SGD(lr=1e-3),\n",
    "              metrics=['mse'])\n",
    "history = model.fit(X_train, y_train, epochs=20, validation_data=(X_valid, y_valid))\n",
    "evaluation = model.evaluate(X_test, y_test)"
   ]
  },
  {
   "cell_type": "markdown",
   "metadata": {},
   "source": [
    "### Training 과정"
   ]
  },
  {
   "cell_type": "code",
   "execution_count": 79,
   "metadata": {},
   "outputs": [
    {
     "data": {
      "image/png": "[encoded data removed]",
      "text/plain": [
       "<Figure size 576x360 with 1 Axes>"
      ]
     },
     "metadata": {
      "needs_background": "light"
     },
     "output_type": "display_data"
    }
   ],
   "source": [
    "pd.DataFrame(history.history).plot(figsize=(8, 5))\n",
    "plt.show()\n",
    "# loss/mse 가 같아서 그냥 같게 나오긴 한다."
   ]
  },
  {
   "cell_type": "code",
   "execution_count": 80,
   "metadata": {
    "scrolled": false
   },
   "outputs": [
    {
     "data": {
      "text/plain": [
       "array([[0.37310064],\n",
       "       [1.6790789 ],\n",
       "       [3.0817137 ]], dtype=float32)"
      ]
     },
     "execution_count": 80,
     "metadata": {},
     "output_type": "execute_result"
    }
   ],
   "source": [
    "X_new = X_test[:3] # 3개 테이터\n",
    "y_pred = model.predict(X_new)\n",
    "y_pred # 그에 대한 prediction y 값"
   ]
  },
  {
   "cell_type": "code",
   "execution_count": null,
   "metadata": {},
   "outputs": [],
   "source": []
  }
 ],
 "metadata": {
  "kernelspec": {
   "display_name": "Python 3",
   "language": "python",
   "name": "python3"
  },
  "language_info": {
   "codemirror_mode": {
    "name": "ipython",
    "version": 3
   },
   "file_extension": ".py",
   "mimetype": "text/x-python",
   "name": "python",
   "nbconvert_exporter": "python",
   "pygments_lexer": "ipython3",
   "version": "3.7.6"
  },
  "toc": {
   "base_numbering": 1,
   "nav_menu": {},
   "number_sections": true,
   "sideBar": true,
   "skip_h1_title": false,
   "title_cell": "Table of Contents",
   "title_sidebar": "Contents",
   "toc_cell": false,
   "toc_position": {},
   "toc_section_display": true,
   "toc_window_display": true
  }
 },
 "nbformat": 4,
 "nbformat_minor": 4
}
