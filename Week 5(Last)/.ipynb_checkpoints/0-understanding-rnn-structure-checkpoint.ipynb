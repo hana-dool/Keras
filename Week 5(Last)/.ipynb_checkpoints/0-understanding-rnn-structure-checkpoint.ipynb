{
 "cells": [
  {
   "cell_type": "markdown",
   "metadata": {},
   "source": [
    "# Understanding RNN structure\n",
    "- Distinguished from feedforward nets, RNNs are structures that can well handle data with \"sequential\" format by preserving previous \"state\" \n",
    "- Thus, grasping concepts of **\"sequences\"** and (hidden) **\"states\"** in RNNs is crucial\n",
    "\n",
    "<br>\n",
    "<img src=\"http://karpathy.github.io/assets/rnn/charseq.jpeg\" style=\"width: 500px\"/>"
   ]
  },
  {
   "cell_type": "code",
   "execution_count": 1,
   "metadata": {},
   "outputs": [],
   "source": [
    "import tensorflow as tf\n",
    "import numpy as np\n",
    "from tensorflow.keras.models import Model, Sequential\n",
    "from tensorflow.keras.layers import *"
   ]
  },
  {
   "cell_type": "markdown",
   "metadata": {},
   "source": [
    "## 1. SimpleRNN "
   ]
  },
  {
   "cell_type": "markdown",
   "metadata": {},
   "source": [
    "Input shape of SimpleRNN should be 3D tensor => (batch_size, timesteps, input_dim)\n",
    "- **batch_size**: ommitted when creating RNN instance (== None). Usually designated when fitting model.\n",
    "- **timesteps**: number of input sequence per batch\n",
    "- **input_dim**: dimensionality of input sequence"
   ]
  },
  {
   "cell_type": "code",
   "execution_count": 2,
   "metadata": {},
   "outputs": [],
   "source": [
    "# for instance, consider below array\n",
    "# 데이터는 RNN이든 LSTM 이든 뭐든 아래와 같은 형태로 구성이 되어야한다.\n",
    "x = np.array([[\n",
    "             [1,    # => input_dim 1\n",
    "              2,    # => input_dim 2 \n",
    "              3],   # => input_dim 3     # => timestep 1                            \n",
    "             [4, 5, 6]                   # => timestep 2\n",
    "             ],                                  # => batch 1\n",
    "             [[7, 8, 9], [10, 11, 12]],          # => batch 2\n",
    "             [[13, 14, 15], [16, 17, 18]]        # => batch 3\n",
    "             ])"
   ]
  },
  {
   "cell_type": "code",
   "execution_count": 3,
   "metadata": {},
   "outputs": [
    {
     "name": "stdout",
     "output_type": "stream",
     "text": [
      "(Batch size, timesteps, input_dim) =  (3, 2, 3)\n"
     ]
    }
   ],
   "source": [
    "print('(Batch size, timesteps, input_dim) = ',x.shape)"
   ]
  },
  {
   "cell_type": "code",
   "execution_count": 3,
   "metadata": {},
   "outputs": [],
   "source": [
    "# rnn = SimpleRNN(50)(Input(shape = (10,))) => error\n",
    "# rnn = SimpleRNN(50)(Input(shape = (10, 30, 40))) => error\n",
    "rnn = SimpleRNN(50)(Input(shape = (10, 30)))\n",
    "# 50 은 output 이다. 즉 hidden nodes 에서 출력되는 dim 의 수."
   ]
  },
  {
   "cell_type": "markdown",
   "metadata": {},
   "source": [
    "**return_state** = **return_sequences** = **False** ====> output_shape = **(batch_size = None, num_units)**"
   ]
  },
  {
   "cell_type": "code",
   "execution_count": 4,
   "metadata": {},
   "outputs": [
    {
     "name": "stdout",
     "output_type": "stream",
     "text": [
      "(None, 50)\n"
     ]
    }
   ],
   "source": [
    "rnn = SimpleRNN(50)(Input(shape = (10, 30)))\n",
    "print(rnn.shape)\n",
    "# 50개의 출력"
   ]
  },
  {
   "cell_type": "markdown",
   "metadata": {},
   "source": [
    "**return_sequences = True** ====> output_shape = **(batch_size, timesteps, num_units)**"
   ]
  },
  {
   "cell_type": "code",
   "execution_count": 6,
   "metadata": {},
   "outputs": [
    {
     "name": "stdout",
     "output_type": "stream",
     "text": [
      "(None, 10, 50)\n"
     ]
    }
   ],
   "source": [
    "# return_sequences=False는 가장 마지막 토큰에만 다음 레이어로 출력을 내보내라는 뜻이다.\n",
    "#  return_sequences=True 는 모든 값들을 위로 올려보내란 소리\n",
    "rnn = SimpleRNN(50, return_sequences = True)(Input(shape = (10, 30)))\n",
    "# output 에 timesteps(lstm의 수) 와 같이 묶여서 나오는것을 볼 수 있다.\n",
    "# 즉 층을 쌓으려면 return seq 를 true 를 해주어야 함을 알 수 있다.\n",
    "print(rnn.shape)\n",
    "# 출력은 hidden nodes + timesteps 까지 같이 나오게 된다. \n",
    "# 즉 이 경우는 아래 쌓이는경우에 사용가능"
   ]
  },
  {
   "cell_type": "markdown",
   "metadata": {},
   "source": [
    "return_state = True ===> outputs list of tensor: **[output, state]**\n",
    "- if return_sequences == False     =>>    output_shape = (batch_size, num_units)\n",
    "- if return_sequences == True      =>>    output_shape = (batch_size, timesteps, num_units)"
   ]
  },
  {
   "cell_type": "code",
   "execution_count": 7,
   "metadata": {},
   "outputs": [
    {
     "name": "stdout",
     "output_type": "stream",
     "text": [
      "(None, 50)\n",
      "(None, 50)\n"
     ]
    }
   ],
   "source": [
    "#encoder의 출력과 내부 RNN 상태인 리스트를 반환하도록 RNN을 구성하는 인수입니다. 이는 encoder의 상태를 복구하는 데 사용합니다.\n",
    "#음.. 별로 쓸모없을거같은데 (default 는 역시나 FASLE)\n",
    "rnn = SimpleRNN(50, return_sequences = False, return_state = True)(Input(shape = (10, 30)))\n",
    "print(rnn[0].shape)         # shape of output\n",
    "print(rnn[1].shape)         # shape of last state"
   ]
  },
  {
   "cell_type": "code",
   "execution_count": 8,
   "metadata": {},
   "outputs": [
    {
     "name": "stdout",
     "output_type": "stream",
     "text": [
      "(None, 10, 50)\n",
      "(None, 50)\n"
     ]
    }
   ],
   "source": [
    "rnn = SimpleRNN(50, return_sequences = True, return_state = True)(Input(shape = (10, 30)))\n",
    "print(rnn[0].shape)         # shape of output\n",
    "print(rnn[1].shape)         # shape of last state"
   ]
  },
  {
   "cell_type": "markdown",
   "metadata": {},
   "source": [
    "Current output and state can be unpacked as below"
   ]
  },
  {
   "cell_type": "code",
   "execution_count": 9,
   "metadata": {},
   "outputs": [],
   "source": [
    "output, state = SimpleRNN(50, return_sequences = True, return_state = True)(Input(shape = (10, 30)))"
   ]
  },
  {
   "cell_type": "code",
   "execution_count": 10,
   "metadata": {},
   "outputs": [
    {
     "name": "stdout",
     "output_type": "stream",
     "text": [
      "(None, 10, 50)\n",
      "(None, 50)\n"
     ]
    }
   ],
   "source": [
    "print(output.shape)\n",
    "print(state.shape)"
   ]
  },
  {
   "cell_type": "markdown",
   "metadata": {},
   "source": [
    "## 2. LSTM\n",
    "- Outputs of LSTM are quite similar to those of RNNs, but there exist subtle differences\n",
    "- If you compare two diagrams below, there is one more type of \"state\" that is preserved to next module\n",
    "\n",
    "<br>\n",
    "<img src=\"http://colah.github.io/posts/2015-08-Understanding-LSTMs/img/LSTM3-SimpleRNN.png\" style=\"width: 500px\"/>\n",
    "\n",
    "<center> Standard RNN </center>\n",
    "\n",
    "<br>\n",
    "<img src=\"http://colah.github.io/posts/2015-08-Understanding-LSTMs/img/LSTM3-chain.png\" style=\"width: 500px\"/>\n",
    "\n",
    "<center> LSTM </center>"
   ]
  },
  {
   "cell_type": "markdown",
   "metadata": {},
   "source": [
    "In addition to \"hidden state (ht)\" in RNN, there exist \"cell state (Ct)\" in LSTM structure\n",
    "\n",
    "<br>\n",
    "<img src=\"http://colah.github.io/posts/2015-08-Understanding-LSTMs/img/LSTM3-focus-o.png\" style=\"width: 500px\"/>\n",
    "\n",
    "<center> Hidden State </center>\n",
    "\n",
    "<br>\n",
    "<img src=\"http://colah.github.io/posts/2015-08-Understanding-LSTMs/img/LSTM3-focus-C.png\" style=\"width: 500px\"/>\n",
    "\n",
    "<center> Cell State </center>"
   ]
  },
  {
   "cell_type": "code",
   "execution_count": 83,
   "metadata": {
    "collapsed": true
   },
   "outputs": [],
   "source": [
    "lstm = LSTM(50)(Input(shape = (10, 30)))"
   ]
  },
  {
   "cell_type": "code",
   "execution_count": 85,
   "metadata": {},
   "outputs": [
    {
     "name": "stdout",
     "output_type": "stream",
     "text": [
      "(?, 50)\n"
     ]
    }
   ],
   "source": [
    "print(lstm.shape)"
   ]
  },
  {
   "cell_type": "code",
   "execution_count": 86,
   "metadata": {},
   "outputs": [
    {
     "name": "stdout",
     "output_type": "stream",
     "text": [
      "(?, 50)\n",
      "(?, 50)\n",
      "(?, 50)\n"
     ]
    }
   ],
   "source": [
    "lstm = LSTM(50, return_sequences = False, return_state = True)(Input(shape = (10, 30)))\n",
    "print(lstm[0].shape)         # shape of output\n",
    "print(lstm[1].shape)         # shape of hidden state\n",
    "print(lstm[2].shape)         # shape of cell state"
   ]
  },
  {
   "cell_type": "code",
   "execution_count": 87,
   "metadata": {},
   "outputs": [
    {
     "name": "stdout",
     "output_type": "stream",
     "text": [
      "(?, ?, 50)\n",
      "(?, 50)\n",
      "(?, 50)\n"
     ]
    }
   ],
   "source": [
    "lstm = LSTM(50, return_sequences = True, return_state = True)(Input(shape = (10, 30)))\n",
    "print(lstm[0].shape)         # shape of output\n",
    "print(lstm[1].shape)         # shape of hidden state\n",
    "print(lstm[2].shape)         # shape of cell state"
   ]
  },
  {
   "cell_type": "code",
   "execution_count": 88,
   "metadata": {
    "collapsed": true
   },
   "outputs": [],
   "source": [
    "output, hidden_state, cell_state = LSTM(50, return_sequences = True, return_state = True)(Input(shape = (10, 30)))"
   ]
  },
  {
   "cell_type": "code",
   "execution_count": 89,
   "metadata": {},
   "outputs": [
    {
     "name": "stdout",
     "output_type": "stream",
     "text": [
      "(?, ?, 50)\n",
      "(?, 50)\n",
      "(?, 50)\n"
     ]
    }
   ],
   "source": [
    "print(output.shape)\n",
    "print(hidden_state.shape)\n",
    "print(cell_state.shape)"
   ]
  },
  {
   "cell_type": "markdown",
   "metadata": {},
   "source": [
    "## 3. GRU\n",
    "- GRU, Popular variant of LSTM, does not have cell state\n",
    "- Hence, it has only hidden state, as simple RNN"
   ]
  },
  {
   "cell_type": "code",
   "execution_count": 90,
   "metadata": {
    "collapsed": true
   },
   "outputs": [],
   "source": [
    "gru = GRU(50)(Input(shape = (10, 30)))"
   ]
  },
  {
   "cell_type": "code",
   "execution_count": 91,
   "metadata": {},
   "outputs": [
    {
     "name": "stdout",
     "output_type": "stream",
     "text": [
      "(?, 50)\n"
     ]
    }
   ],
   "source": [
    "print(gru.shape)"
   ]
  },
  {
   "cell_type": "code",
   "execution_count": 93,
   "metadata": {},
   "outputs": [
    {
     "name": "stdout",
     "output_type": "stream",
     "text": [
      "(?, 50)\n",
      "(?, 50)\n"
     ]
    }
   ],
   "source": [
    "gru = GRU(50, return_sequences = False, return_state = True)(Input(shape = (10, 30)))\n",
    "print(gru[0].shape)         # shape of output\n",
    "print(gru[1].shape)         # shape of hidden state"
   ]
  },
  {
   "cell_type": "code",
   "execution_count": 94,
   "metadata": {},
   "outputs": [
    {
     "name": "stdout",
     "output_type": "stream",
     "text": [
      "(?, ?, 50)\n",
      "(?, 50)\n"
     ]
    }
   ],
   "source": [
    "gru = GRU(50, return_sequences = True, return_state = True)(Input(shape = (10, 30)))\n",
    "print(gru[0].shape)         # shape of output\n",
    "print(gru[1].shape)         # shape of hidden state"
   ]
  },
  {
   "cell_type": "code",
   "execution_count": 95,
   "metadata": {
    "collapsed": true
   },
   "outputs": [],
   "source": [
    "output, hidden_state = GRU(50, return_sequences = True, return_state = True)(Input(shape = (10, 30)))"
   ]
  },
  {
   "cell_type": "code",
   "execution_count": 96,
   "metadata": {},
   "outputs": [
    {
     "name": "stdout",
     "output_type": "stream",
     "text": [
      "(?, ?, 50)\n",
      "(?, 50)\n"
     ]
    }
   ],
   "source": [
    "print(output.shape)\n",
    "print(hidden_state.shape)"
   ]
  }
 ],
 "metadata": {
  "kernelspec": {
   "display_name": "Python 3",
   "language": "python",
   "name": "python3"
  },
  "language_info": {
   "codemirror_mode": {
    "name": "ipython",
    "version": 3
   },
   "file_extension": ".py",
   "mimetype": "text/x-python",
   "name": "python",
   "nbconvert_exporter": "python",
   "pygments_lexer": "ipython3",
   "version": "3.7.4"
  },
  "toc": {
   "base_numbering": 1,
   "nav_menu": {},
   "number_sections": true,
   "sideBar": true,
   "skip_h1_title": false,
   "title_cell": "Table of Contents",
   "title_sidebar": "Contents",
   "toc_cell": false,
   "toc_position": {
    "height": "calc(100% - 180px)",
    "left": "10px",
    "top": "150px",
    "width": "306.563px"
   },
   "toc_section_display": true,
   "toc_window_display": true
  }
 },
 "nbformat": 4,
 "nbformat_minor": 2
}
